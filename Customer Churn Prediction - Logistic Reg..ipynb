{
 "cells": [
  {
   "cell_type": "markdown",
   "id": "280a0175",
   "metadata": {},
   "source": [
    "# ASSIGNMENT - GAUTAM MISHRA"
   ]
  },
  {
   "cell_type": "markdown",
   "id": "0d00772b",
   "metadata": {},
   "source": [
    "## PERFORM LOGISTIC REGRESION ON CUSTOMER CHURN PREDICTION"
   ]
  },
  {
   "cell_type": "markdown",
   "id": "6d0bbb12",
   "metadata": {},
   "source": [
    "### Inporting Analytics,Visualization Libraries"
   ]
  },
  {
   "cell_type": "code",
   "execution_count": 1,
   "id": "5f543435",
   "metadata": {},
   "outputs": [],
   "source": [
    "import numpy as np\n",
    "import pandas as pd \n",
    "import matplotlib.pyplot as plt\n",
    "import seaborn as sns\n",
    "import warnings\n",
    "warnings.filterwarnings('ignore')"
   ]
  },
  {
   "cell_type": "markdown",
   "id": "2aa3d8ba",
   "metadata": {},
   "source": [
    "### Reading Dataset"
   ]
  },
  {
   "cell_type": "code",
   "execution_count": 2,
   "id": "51fb0dcb",
   "metadata": {},
   "outputs": [],
   "source": [
    "df=pd.read_csv('Churn_Modelling.csv')"
   ]
  },
  {
   "cell_type": "code",
   "execution_count": 3,
   "id": "73c7b427",
   "metadata": {},
   "outputs": [
    {
     "data": {
      "text/html": [
       "<div>\n",
       "<style scoped>\n",
       "    .dataframe tbody tr th:only-of-type {\n",
       "        vertical-align: middle;\n",
       "    }\n",
       "\n",
       "    .dataframe tbody tr th {\n",
       "        vertical-align: top;\n",
       "    }\n",
       "\n",
       "    .dataframe thead th {\n",
       "        text-align: right;\n",
       "    }\n",
       "</style>\n",
       "<table border=\"1\" class=\"dataframe\">\n",
       "  <thead>\n",
       "    <tr style=\"text-align: right;\">\n",
       "      <th></th>\n",
       "      <th>RowNumber</th>\n",
       "      <th>CustomerId</th>\n",
       "      <th>Surname</th>\n",
       "      <th>CreditScore</th>\n",
       "      <th>Geography</th>\n",
       "      <th>Gender</th>\n",
       "      <th>Age</th>\n",
       "      <th>Tenure</th>\n",
       "      <th>Balance</th>\n",
       "      <th>NumOfProducts</th>\n",
       "      <th>HasCrCard</th>\n",
       "      <th>IsActiveMember</th>\n",
       "      <th>EstimatedSalary</th>\n",
       "      <th>Exited</th>\n",
       "    </tr>\n",
       "  </thead>\n",
       "  <tbody>\n",
       "    <tr>\n",
       "      <th>0</th>\n",
       "      <td>1</td>\n",
       "      <td>15634602</td>\n",
       "      <td>Hargrave</td>\n",
       "      <td>619</td>\n",
       "      <td>France</td>\n",
       "      <td>Female</td>\n",
       "      <td>42</td>\n",
       "      <td>2</td>\n",
       "      <td>0.00</td>\n",
       "      <td>1</td>\n",
       "      <td>1</td>\n",
       "      <td>1</td>\n",
       "      <td>101348.88</td>\n",
       "      <td>1</td>\n",
       "    </tr>\n",
       "    <tr>\n",
       "      <th>1</th>\n",
       "      <td>2</td>\n",
       "      <td>15647311</td>\n",
       "      <td>Hill</td>\n",
       "      <td>608</td>\n",
       "      <td>Spain</td>\n",
       "      <td>Female</td>\n",
       "      <td>41</td>\n",
       "      <td>1</td>\n",
       "      <td>83807.86</td>\n",
       "      <td>1</td>\n",
       "      <td>0</td>\n",
       "      <td>1</td>\n",
       "      <td>112542.58</td>\n",
       "      <td>0</td>\n",
       "    </tr>\n",
       "    <tr>\n",
       "      <th>2</th>\n",
       "      <td>3</td>\n",
       "      <td>15619304</td>\n",
       "      <td>Onio</td>\n",
       "      <td>502</td>\n",
       "      <td>France</td>\n",
       "      <td>Female</td>\n",
       "      <td>42</td>\n",
       "      <td>8</td>\n",
       "      <td>159660.80</td>\n",
       "      <td>3</td>\n",
       "      <td>1</td>\n",
       "      <td>0</td>\n",
       "      <td>113931.57</td>\n",
       "      <td>1</td>\n",
       "    </tr>\n",
       "    <tr>\n",
       "      <th>3</th>\n",
       "      <td>4</td>\n",
       "      <td>15701354</td>\n",
       "      <td>Boni</td>\n",
       "      <td>699</td>\n",
       "      <td>France</td>\n",
       "      <td>Female</td>\n",
       "      <td>39</td>\n",
       "      <td>1</td>\n",
       "      <td>0.00</td>\n",
       "      <td>2</td>\n",
       "      <td>0</td>\n",
       "      <td>0</td>\n",
       "      <td>93826.63</td>\n",
       "      <td>0</td>\n",
       "    </tr>\n",
       "    <tr>\n",
       "      <th>4</th>\n",
       "      <td>5</td>\n",
       "      <td>15737888</td>\n",
       "      <td>Mitchell</td>\n",
       "      <td>850</td>\n",
       "      <td>Spain</td>\n",
       "      <td>Female</td>\n",
       "      <td>43</td>\n",
       "      <td>2</td>\n",
       "      <td>125510.82</td>\n",
       "      <td>1</td>\n",
       "      <td>1</td>\n",
       "      <td>1</td>\n",
       "      <td>79084.10</td>\n",
       "      <td>0</td>\n",
       "    </tr>\n",
       "  </tbody>\n",
       "</table>\n",
       "</div>"
      ],
      "text/plain": [
       "   RowNumber  CustomerId   Surname  CreditScore Geography  Gender  Age  \\\n",
       "0          1    15634602  Hargrave          619    France  Female   42   \n",
       "1          2    15647311      Hill          608     Spain  Female   41   \n",
       "2          3    15619304      Onio          502    France  Female   42   \n",
       "3          4    15701354      Boni          699    France  Female   39   \n",
       "4          5    15737888  Mitchell          850     Spain  Female   43   \n",
       "\n",
       "   Tenure    Balance  NumOfProducts  HasCrCard  IsActiveMember  \\\n",
       "0       2       0.00              1          1               1   \n",
       "1       1   83807.86              1          0               1   \n",
       "2       8  159660.80              3          1               0   \n",
       "3       1       0.00              2          0               0   \n",
       "4       2  125510.82              1          1               1   \n",
       "\n",
       "   EstimatedSalary  Exited  \n",
       "0        101348.88       1  \n",
       "1        112542.58       0  \n",
       "2        113931.57       1  \n",
       "3         93826.63       0  \n",
       "4         79084.10       0  "
      ]
     },
     "execution_count": 3,
     "metadata": {},
     "output_type": "execute_result"
    }
   ],
   "source": [
    "df.head()"
   ]
  },
  {
   "cell_type": "markdown",
   "id": "b24147e8",
   "metadata": {},
   "source": [
    "### Basic Information"
   ]
  },
  {
   "cell_type": "code",
   "execution_count": 4,
   "id": "ba1da175",
   "metadata": {},
   "outputs": [
    {
     "name": "stdout",
     "output_type": "stream",
     "text": [
      "<class 'pandas.core.frame.DataFrame'>\n",
      "RangeIndex: 10000 entries, 0 to 9999\n",
      "Data columns (total 14 columns):\n",
      " #   Column           Non-Null Count  Dtype  \n",
      "---  ------           --------------  -----  \n",
      " 0   RowNumber        10000 non-null  int64  \n",
      " 1   CustomerId       10000 non-null  int64  \n",
      " 2   Surname          10000 non-null  object \n",
      " 3   CreditScore      10000 non-null  int64  \n",
      " 4   Geography        10000 non-null  object \n",
      " 5   Gender           10000 non-null  object \n",
      " 6   Age              10000 non-null  int64  \n",
      " 7   Tenure           10000 non-null  int64  \n",
      " 8   Balance          10000 non-null  float64\n",
      " 9   NumOfProducts    10000 non-null  int64  \n",
      " 10  HasCrCard        10000 non-null  int64  \n",
      " 11  IsActiveMember   10000 non-null  int64  \n",
      " 12  EstimatedSalary  10000 non-null  float64\n",
      " 13  Exited           10000 non-null  int64  \n",
      "dtypes: float64(2), int64(9), object(3)\n",
      "memory usage: 1.1+ MB\n"
     ]
    }
   ],
   "source": [
    "df.info()"
   ]
  },
  {
   "cell_type": "code",
   "execution_count": 5,
   "id": "c5f90755",
   "metadata": {},
   "outputs": [
    {
     "data": {
      "text/plain": [
       "False"
      ]
     },
     "execution_count": 5,
     "metadata": {},
     "output_type": "execute_result"
    }
   ],
   "source": [
    "df.duplicated().any()"
   ]
  },
  {
   "cell_type": "markdown",
   "id": "2976bde1",
   "metadata": {},
   "source": [
    "### Dropping unwanted column"
   ]
  },
  {
   "cell_type": "code",
   "execution_count": 6,
   "id": "6c2066ff",
   "metadata": {},
   "outputs": [],
   "source": [
    "df.drop('RowNumber',inplace=True,axis=1)"
   ]
  },
  {
   "cell_type": "code",
   "execution_count": 7,
   "id": "11709c48",
   "metadata": {},
   "outputs": [
    {
     "data": {
      "text/html": [
       "<div>\n",
       "<style scoped>\n",
       "    .dataframe tbody tr th:only-of-type {\n",
       "        vertical-align: middle;\n",
       "    }\n",
       "\n",
       "    .dataframe tbody tr th {\n",
       "        vertical-align: top;\n",
       "    }\n",
       "\n",
       "    .dataframe thead th {\n",
       "        text-align: right;\n",
       "    }\n",
       "</style>\n",
       "<table border=\"1\" class=\"dataframe\">\n",
       "  <thead>\n",
       "    <tr style=\"text-align: right;\">\n",
       "      <th></th>\n",
       "      <th>CustomerId</th>\n",
       "      <th>Surname</th>\n",
       "      <th>CreditScore</th>\n",
       "      <th>Geography</th>\n",
       "      <th>Gender</th>\n",
       "      <th>Age</th>\n",
       "      <th>Tenure</th>\n",
       "      <th>Balance</th>\n",
       "      <th>NumOfProducts</th>\n",
       "      <th>HasCrCard</th>\n",
       "      <th>IsActiveMember</th>\n",
       "      <th>EstimatedSalary</th>\n",
       "      <th>Exited</th>\n",
       "    </tr>\n",
       "  </thead>\n",
       "  <tbody>\n",
       "    <tr>\n",
       "      <th>0</th>\n",
       "      <td>15634602</td>\n",
       "      <td>Hargrave</td>\n",
       "      <td>619</td>\n",
       "      <td>France</td>\n",
       "      <td>Female</td>\n",
       "      <td>42</td>\n",
       "      <td>2</td>\n",
       "      <td>0.00</td>\n",
       "      <td>1</td>\n",
       "      <td>1</td>\n",
       "      <td>1</td>\n",
       "      <td>101348.88</td>\n",
       "      <td>1</td>\n",
       "    </tr>\n",
       "    <tr>\n",
       "      <th>1</th>\n",
       "      <td>15647311</td>\n",
       "      <td>Hill</td>\n",
       "      <td>608</td>\n",
       "      <td>Spain</td>\n",
       "      <td>Female</td>\n",
       "      <td>41</td>\n",
       "      <td>1</td>\n",
       "      <td>83807.86</td>\n",
       "      <td>1</td>\n",
       "      <td>0</td>\n",
       "      <td>1</td>\n",
       "      <td>112542.58</td>\n",
       "      <td>0</td>\n",
       "    </tr>\n",
       "    <tr>\n",
       "      <th>2</th>\n",
       "      <td>15619304</td>\n",
       "      <td>Onio</td>\n",
       "      <td>502</td>\n",
       "      <td>France</td>\n",
       "      <td>Female</td>\n",
       "      <td>42</td>\n",
       "      <td>8</td>\n",
       "      <td>159660.80</td>\n",
       "      <td>3</td>\n",
       "      <td>1</td>\n",
       "      <td>0</td>\n",
       "      <td>113931.57</td>\n",
       "      <td>1</td>\n",
       "    </tr>\n",
       "    <tr>\n",
       "      <th>3</th>\n",
       "      <td>15701354</td>\n",
       "      <td>Boni</td>\n",
       "      <td>699</td>\n",
       "      <td>France</td>\n",
       "      <td>Female</td>\n",
       "      <td>39</td>\n",
       "      <td>1</td>\n",
       "      <td>0.00</td>\n",
       "      <td>2</td>\n",
       "      <td>0</td>\n",
       "      <td>0</td>\n",
       "      <td>93826.63</td>\n",
       "      <td>0</td>\n",
       "    </tr>\n",
       "    <tr>\n",
       "      <th>4</th>\n",
       "      <td>15737888</td>\n",
       "      <td>Mitchell</td>\n",
       "      <td>850</td>\n",
       "      <td>Spain</td>\n",
       "      <td>Female</td>\n",
       "      <td>43</td>\n",
       "      <td>2</td>\n",
       "      <td>125510.82</td>\n",
       "      <td>1</td>\n",
       "      <td>1</td>\n",
       "      <td>1</td>\n",
       "      <td>79084.10</td>\n",
       "      <td>0</td>\n",
       "    </tr>\n",
       "    <tr>\n",
       "      <th>...</th>\n",
       "      <td>...</td>\n",
       "      <td>...</td>\n",
       "      <td>...</td>\n",
       "      <td>...</td>\n",
       "      <td>...</td>\n",
       "      <td>...</td>\n",
       "      <td>...</td>\n",
       "      <td>...</td>\n",
       "      <td>...</td>\n",
       "      <td>...</td>\n",
       "      <td>...</td>\n",
       "      <td>...</td>\n",
       "      <td>...</td>\n",
       "    </tr>\n",
       "    <tr>\n",
       "      <th>9995</th>\n",
       "      <td>15606229</td>\n",
       "      <td>Obijiaku</td>\n",
       "      <td>771</td>\n",
       "      <td>France</td>\n",
       "      <td>Male</td>\n",
       "      <td>39</td>\n",
       "      <td>5</td>\n",
       "      <td>0.00</td>\n",
       "      <td>2</td>\n",
       "      <td>1</td>\n",
       "      <td>0</td>\n",
       "      <td>96270.64</td>\n",
       "      <td>0</td>\n",
       "    </tr>\n",
       "    <tr>\n",
       "      <th>9996</th>\n",
       "      <td>15569892</td>\n",
       "      <td>Johnstone</td>\n",
       "      <td>516</td>\n",
       "      <td>France</td>\n",
       "      <td>Male</td>\n",
       "      <td>35</td>\n",
       "      <td>10</td>\n",
       "      <td>57369.61</td>\n",
       "      <td>1</td>\n",
       "      <td>1</td>\n",
       "      <td>1</td>\n",
       "      <td>101699.77</td>\n",
       "      <td>0</td>\n",
       "    </tr>\n",
       "    <tr>\n",
       "      <th>9997</th>\n",
       "      <td>15584532</td>\n",
       "      <td>Liu</td>\n",
       "      <td>709</td>\n",
       "      <td>France</td>\n",
       "      <td>Female</td>\n",
       "      <td>36</td>\n",
       "      <td>7</td>\n",
       "      <td>0.00</td>\n",
       "      <td>1</td>\n",
       "      <td>0</td>\n",
       "      <td>1</td>\n",
       "      <td>42085.58</td>\n",
       "      <td>1</td>\n",
       "    </tr>\n",
       "    <tr>\n",
       "      <th>9998</th>\n",
       "      <td>15682355</td>\n",
       "      <td>Sabbatini</td>\n",
       "      <td>772</td>\n",
       "      <td>Germany</td>\n",
       "      <td>Male</td>\n",
       "      <td>42</td>\n",
       "      <td>3</td>\n",
       "      <td>75075.31</td>\n",
       "      <td>2</td>\n",
       "      <td>1</td>\n",
       "      <td>0</td>\n",
       "      <td>92888.52</td>\n",
       "      <td>1</td>\n",
       "    </tr>\n",
       "    <tr>\n",
       "      <th>9999</th>\n",
       "      <td>15628319</td>\n",
       "      <td>Walker</td>\n",
       "      <td>792</td>\n",
       "      <td>France</td>\n",
       "      <td>Female</td>\n",
       "      <td>28</td>\n",
       "      <td>4</td>\n",
       "      <td>130142.79</td>\n",
       "      <td>1</td>\n",
       "      <td>1</td>\n",
       "      <td>0</td>\n",
       "      <td>38190.78</td>\n",
       "      <td>0</td>\n",
       "    </tr>\n",
       "  </tbody>\n",
       "</table>\n",
       "<p>10000 rows × 13 columns</p>\n",
       "</div>"
      ],
      "text/plain": [
       "      CustomerId    Surname  CreditScore Geography  Gender  Age  Tenure  \\\n",
       "0       15634602   Hargrave          619    France  Female   42       2   \n",
       "1       15647311       Hill          608     Spain  Female   41       1   \n",
       "2       15619304       Onio          502    France  Female   42       8   \n",
       "3       15701354       Boni          699    France  Female   39       1   \n",
       "4       15737888   Mitchell          850     Spain  Female   43       2   \n",
       "...          ...        ...          ...       ...     ...  ...     ...   \n",
       "9995    15606229   Obijiaku          771    France    Male   39       5   \n",
       "9996    15569892  Johnstone          516    France    Male   35      10   \n",
       "9997    15584532        Liu          709    France  Female   36       7   \n",
       "9998    15682355  Sabbatini          772   Germany    Male   42       3   \n",
       "9999    15628319     Walker          792    France  Female   28       4   \n",
       "\n",
       "        Balance  NumOfProducts  HasCrCard  IsActiveMember  EstimatedSalary  \\\n",
       "0          0.00              1          1               1        101348.88   \n",
       "1      83807.86              1          0               1        112542.58   \n",
       "2     159660.80              3          1               0        113931.57   \n",
       "3          0.00              2          0               0         93826.63   \n",
       "4     125510.82              1          1               1         79084.10   \n",
       "...         ...            ...        ...             ...              ...   \n",
       "9995       0.00              2          1               0         96270.64   \n",
       "9996   57369.61              1          1               1        101699.77   \n",
       "9997       0.00              1          0               1         42085.58   \n",
       "9998   75075.31              2          1               0         92888.52   \n",
       "9999  130142.79              1          1               0         38190.78   \n",
       "\n",
       "      Exited  \n",
       "0          1  \n",
       "1          0  \n",
       "2          1  \n",
       "3          0  \n",
       "4          0  \n",
       "...      ...  \n",
       "9995       0  \n",
       "9996       0  \n",
       "9997       1  \n",
       "9998       1  \n",
       "9999       0  \n",
       "\n",
       "[10000 rows x 13 columns]"
      ]
     },
     "execution_count": 7,
     "metadata": {},
     "output_type": "execute_result"
    }
   ],
   "source": [
    "df"
   ]
  },
  {
   "cell_type": "code",
   "execution_count": 8,
   "id": "56612c28",
   "metadata": {},
   "outputs": [
    {
     "data": {
      "text/plain": [
       "CustomerId           int64\n",
       "Surname             object\n",
       "CreditScore          int64\n",
       "Geography           object\n",
       "Gender              object\n",
       "Age                  int64\n",
       "Tenure               int64\n",
       "Balance            float64\n",
       "NumOfProducts        int64\n",
       "HasCrCard            int64\n",
       "IsActiveMember       int64\n",
       "EstimatedSalary    float64\n",
       "Exited               int64\n",
       "dtype: object"
      ]
     },
     "execution_count": 8,
     "metadata": {},
     "output_type": "execute_result"
    }
   ],
   "source": [
    "df.dtypes"
   ]
  },
  {
   "cell_type": "markdown",
   "id": "5269b648",
   "metadata": {},
   "source": [
    "### Differentiating between categorical column numerical column"
   ]
  },
  {
   "cell_type": "code",
   "execution_count": 9,
   "id": "a4a977f1",
   "metadata": {},
   "outputs": [
    {
     "data": {
      "text/plain": [
       "Index(['CustomerId', 'CreditScore', 'Age', 'Tenure', 'Balance',\n",
       "       'NumOfProducts', 'HasCrCard', 'IsActiveMember', 'EstimatedSalary',\n",
       "       'Exited'],\n",
       "      dtype='object')"
      ]
     },
     "execution_count": 9,
     "metadata": {},
     "output_type": "execute_result"
    }
   ],
   "source": [
    "num_col=df.select_dtypes(include=['int','float']).columns\n",
    "num_col"
   ]
  },
  {
   "cell_type": "code",
   "execution_count": 10,
   "id": "93d42f73",
   "metadata": {},
   "outputs": [
    {
     "data": {
      "text/plain": [
       "Index(['Surname', 'Geography', 'Gender'], dtype='object')"
      ]
     },
     "execution_count": 10,
     "metadata": {},
     "output_type": "execute_result"
    }
   ],
   "source": [
    "cat_col=df.select_dtypes(include='O').columns\n",
    "cat_col"
   ]
  },
  {
   "cell_type": "markdown",
   "id": "92eef839",
   "metadata": {},
   "source": [
    "### Detecting outliers"
   ]
  },
  {
   "cell_type": "code",
   "execution_count": 11,
   "id": "2fd67c8c",
   "metadata": {},
   "outputs": [
    {
     "data": {
      "image/png": "[encoded data removed]",
      "text/plain": [
       "<Figure size 720x576 with 10 Axes>"
      ]
     },
     "metadata": {
      "needs_background": "light"
     },
     "output_type": "display_data"
    }
   ],
   "source": [
    "plt.figure(figsize=(10,8))\n",
    "count=1\n",
    "for i in num_col:\n",
    "    plt.subplot(5,2,count)\n",
    "    sns.boxplot(x=df[i],data=df)\n",
    "    count+=1\n",
    "plt.show()"
   ]
  },
  {
   "cell_type": "markdown",
   "id": "14fc824b",
   "metadata": {},
   "source": [
    "### Handling outliers in age column"
   ]
  },
  {
   "cell_type": "code",
   "execution_count": 12,
   "id": "a3f0ed29",
   "metadata": {},
   "outputs": [
    {
     "data": {
      "text/plain": [
       "<AxesSubplot:xlabel='Age'>"
      ]
     },
     "execution_count": 12,
     "metadata": {},
     "output_type": "execute_result"
    },
    {
     "data": {
      "image/png": "[encoded data removed]",
      "text/plain": [
       "<Figure size 432x288 with 1 Axes>"
      ]
     },
     "metadata": {
      "needs_background": "light"
     },
     "output_type": "display_data"
    }
   ],
   "source": [
    "sns.boxplot(df['Age'])"
   ]
  },
  {
   "cell_type": "code",
   "execution_count": 13,
   "id": "cd59110f",
   "metadata": {},
   "outputs": [
    {
     "data": {
      "text/plain": [
       "array([42, 41, 39, 43, 44, 50, 29, 27, 31, 24, 34, 25, 35, 45, 58, 32, 38,\n",
       "       46, 36, 33, 40, 51, 61, 49, 37, 19, 66, 56, 26, 21, 55, 75, 22, 30,\n",
       "       28, 65, 48, 52, 57, 73, 47, 54, 72, 20, 67, 79, 62, 53, 80, 59, 68,\n",
       "       23, 60, 70, 63, 64, 18, 82, 69, 74, 71, 76, 77, 88, 85, 84, 78, 81,\n",
       "       92, 83], dtype=int64)"
      ]
     },
     "execution_count": 13,
     "metadata": {},
     "output_type": "execute_result"
    }
   ],
   "source": [
    "df['Age'].unique()"
   ]
  },
  {
   "cell_type": "code",
   "execution_count": 14,
   "id": "219c414e",
   "metadata": {},
   "outputs": [
    {
     "data": {
      "text/plain": [
       "<AxesSubplot:xlabel='Age', ylabel='Density'>"
      ]
     },
     "execution_count": 14,
     "metadata": {},
     "output_type": "execute_result"
    },
    {
     "data": {
      "image/png": "[encoded data removed]",
      "text/plain": [
       "<Figure size 432x288 with 1 Axes>"
      ]
     },
     "metadata": {
      "needs_background": "light"
     },
     "output_type": "display_data"
    }
   ],
   "source": [
    "sns.distplot(df['Age'])"
   ]
  },
  {
   "cell_type": "code",
   "execution_count": 15,
   "id": "a6063e08",
   "metadata": {},
   "outputs": [
    {
     "data": {
      "text/html": [
       "<div>\n",
       "<style scoped>\n",
       "    .dataframe tbody tr th:only-of-type {\n",
       "        vertical-align: middle;\n",
       "    }\n",
       "\n",
       "    .dataframe tbody tr th {\n",
       "        vertical-align: top;\n",
       "    }\n",
       "\n",
       "    .dataframe thead th {\n",
       "        text-align: right;\n",
       "    }\n",
       "</style>\n",
       "<table border=\"1\" class=\"dataframe\">\n",
       "  <thead>\n",
       "    <tr style=\"text-align: right;\">\n",
       "      <th></th>\n",
       "      <th>CustomerId</th>\n",
       "      <th>Surname</th>\n",
       "      <th>CreditScore</th>\n",
       "      <th>Geography</th>\n",
       "      <th>Gender</th>\n",
       "      <th>Age</th>\n",
       "      <th>Tenure</th>\n",
       "      <th>Balance</th>\n",
       "      <th>NumOfProducts</th>\n",
       "      <th>HasCrCard</th>\n",
       "      <th>IsActiveMember</th>\n",
       "      <th>EstimatedSalary</th>\n",
       "      <th>Exited</th>\n",
       "    </tr>\n",
       "  </thead>\n",
       "  <tbody>\n",
       "    <tr>\n",
       "      <th>42</th>\n",
       "      <td>15687946</td>\n",
       "      <td>Osborne</td>\n",
       "      <td>556</td>\n",
       "      <td>France</td>\n",
       "      <td>Female</td>\n",
       "      <td>61</td>\n",
       "      <td>2</td>\n",
       "      <td>117419.35</td>\n",
       "      <td>1</td>\n",
       "      <td>1</td>\n",
       "      <td>1</td>\n",
       "      <td>94153.83</td>\n",
       "      <td>0</td>\n",
       "    </tr>\n",
       "    <tr>\n",
       "      <th>44</th>\n",
       "      <td>15684171</td>\n",
       "      <td>Bianchi</td>\n",
       "      <td>660</td>\n",
       "      <td>Spain</td>\n",
       "      <td>Female</td>\n",
       "      <td>61</td>\n",
       "      <td>5</td>\n",
       "      <td>155931.11</td>\n",
       "      <td>1</td>\n",
       "      <td>1</td>\n",
       "      <td>1</td>\n",
       "      <td>158338.39</td>\n",
       "      <td>0</td>\n",
       "    </tr>\n",
       "    <tr>\n",
       "      <th>58</th>\n",
       "      <td>15623944</td>\n",
       "      <td>T'ien</td>\n",
       "      <td>511</td>\n",
       "      <td>Spain</td>\n",
       "      <td>Female</td>\n",
       "      <td>66</td>\n",
       "      <td>4</td>\n",
       "      <td>0.00</td>\n",
       "      <td>1</td>\n",
       "      <td>1</td>\n",
       "      <td>0</td>\n",
       "      <td>1643.11</td>\n",
       "      <td>1</td>\n",
       "    </tr>\n",
       "    <tr>\n",
       "      <th>85</th>\n",
       "      <td>15805254</td>\n",
       "      <td>Ndukaku</td>\n",
       "      <td>652</td>\n",
       "      <td>Spain</td>\n",
       "      <td>Female</td>\n",
       "      <td>75</td>\n",
       "      <td>10</td>\n",
       "      <td>0.00</td>\n",
       "      <td>2</td>\n",
       "      <td>1</td>\n",
       "      <td>1</td>\n",
       "      <td>114675.75</td>\n",
       "      <td>0</td>\n",
       "    </tr>\n",
       "    <tr>\n",
       "      <th>104</th>\n",
       "      <td>15804919</td>\n",
       "      <td>Dunbabin</td>\n",
       "      <td>670</td>\n",
       "      <td>Spain</td>\n",
       "      <td>Female</td>\n",
       "      <td>65</td>\n",
       "      <td>1</td>\n",
       "      <td>0.00</td>\n",
       "      <td>1</td>\n",
       "      <td>1</td>\n",
       "      <td>1</td>\n",
       "      <td>177655.68</td>\n",
       "      <td>1</td>\n",
       "    </tr>\n",
       "    <tr>\n",
       "      <th>...</th>\n",
       "      <td>...</td>\n",
       "      <td>...</td>\n",
       "      <td>...</td>\n",
       "      <td>...</td>\n",
       "      <td>...</td>\n",
       "      <td>...</td>\n",
       "      <td>...</td>\n",
       "      <td>...</td>\n",
       "      <td>...</td>\n",
       "      <td>...</td>\n",
       "      <td>...</td>\n",
       "      <td>...</td>\n",
       "      <td>...</td>\n",
       "    </tr>\n",
       "    <tr>\n",
       "      <th>9832</th>\n",
       "      <td>15814690</td>\n",
       "      <td>Chukwujekwu</td>\n",
       "      <td>595</td>\n",
       "      <td>Germany</td>\n",
       "      <td>Female</td>\n",
       "      <td>64</td>\n",
       "      <td>2</td>\n",
       "      <td>105736.32</td>\n",
       "      <td>1</td>\n",
       "      <td>1</td>\n",
       "      <td>1</td>\n",
       "      <td>89935.73</td>\n",
       "      <td>1</td>\n",
       "    </tr>\n",
       "    <tr>\n",
       "      <th>9879</th>\n",
       "      <td>15669414</td>\n",
       "      <td>Pisano</td>\n",
       "      <td>486</td>\n",
       "      <td>Germany</td>\n",
       "      <td>Male</td>\n",
       "      <td>62</td>\n",
       "      <td>9</td>\n",
       "      <td>118356.89</td>\n",
       "      <td>2</td>\n",
       "      <td>1</td>\n",
       "      <td>0</td>\n",
       "      <td>168034.83</td>\n",
       "      <td>1</td>\n",
       "    </tr>\n",
       "    <tr>\n",
       "      <th>9894</th>\n",
       "      <td>15704795</td>\n",
       "      <td>Vagin</td>\n",
       "      <td>521</td>\n",
       "      <td>France</td>\n",
       "      <td>Female</td>\n",
       "      <td>77</td>\n",
       "      <td>6</td>\n",
       "      <td>0.00</td>\n",
       "      <td>2</td>\n",
       "      <td>1</td>\n",
       "      <td>1</td>\n",
       "      <td>49054.10</td>\n",
       "      <td>0</td>\n",
       "    </tr>\n",
       "    <tr>\n",
       "      <th>9897</th>\n",
       "      <td>15810563</td>\n",
       "      <td>Ho</td>\n",
       "      <td>678</td>\n",
       "      <td>Spain</td>\n",
       "      <td>Female</td>\n",
       "      <td>61</td>\n",
       "      <td>8</td>\n",
       "      <td>0.00</td>\n",
       "      <td>2</td>\n",
       "      <td>1</td>\n",
       "      <td>1</td>\n",
       "      <td>159938.82</td>\n",
       "      <td>0</td>\n",
       "    </tr>\n",
       "    <tr>\n",
       "      <th>9936</th>\n",
       "      <td>15653037</td>\n",
       "      <td>Parks</td>\n",
       "      <td>609</td>\n",
       "      <td>France</td>\n",
       "      <td>Male</td>\n",
       "      <td>77</td>\n",
       "      <td>1</td>\n",
       "      <td>0.00</td>\n",
       "      <td>1</td>\n",
       "      <td>0</td>\n",
       "      <td>1</td>\n",
       "      <td>18708.76</td>\n",
       "      <td>0</td>\n",
       "    </tr>\n",
       "  </tbody>\n",
       "</table>\n",
       "<p>588 rows × 13 columns</p>\n",
       "</div>"
      ],
      "text/plain": [
       "      CustomerId      Surname  CreditScore Geography  Gender  Age  Tenure  \\\n",
       "42      15687946      Osborne          556    France  Female   61       2   \n",
       "44      15684171      Bianchi          660     Spain  Female   61       5   \n",
       "58      15623944        T'ien          511     Spain  Female   66       4   \n",
       "85      15805254      Ndukaku          652     Spain  Female   75      10   \n",
       "104     15804919     Dunbabin          670     Spain  Female   65       1   \n",
       "...          ...          ...          ...       ...     ...  ...     ...   \n",
       "9832    15814690  Chukwujekwu          595   Germany  Female   64       2   \n",
       "9879    15669414       Pisano          486   Germany    Male   62       9   \n",
       "9894    15704795        Vagin          521    France  Female   77       6   \n",
       "9897    15810563           Ho          678     Spain  Female   61       8   \n",
       "9936    15653037        Parks          609    France    Male   77       1   \n",
       "\n",
       "        Balance  NumOfProducts  HasCrCard  IsActiveMember  EstimatedSalary  \\\n",
       "42    117419.35              1          1               1         94153.83   \n",
       "44    155931.11              1          1               1        158338.39   \n",
       "58         0.00              1          1               0          1643.11   \n",
       "85         0.00              2          1               1        114675.75   \n",
       "104        0.00              1          1               1        177655.68   \n",
       "...         ...            ...        ...             ...              ...   \n",
       "9832  105736.32              1          1               1         89935.73   \n",
       "9879  118356.89              2          1               0        168034.83   \n",
       "9894       0.00              2          1               1         49054.10   \n",
       "9897       0.00              2          1               1        159938.82   \n",
       "9936       0.00              1          0               1         18708.76   \n",
       "\n",
       "      Exited  \n",
       "42         0  \n",
       "44         0  \n",
       "58         1  \n",
       "85         0  \n",
       "104        1  \n",
       "...      ...  \n",
       "9832       1  \n",
       "9879       1  \n",
       "9894       0  \n",
       "9897       0  \n",
       "9936       0  \n",
       "\n",
       "[588 rows x 13 columns]"
      ]
     },
     "execution_count": 15,
     "metadata": {},
     "output_type": "execute_result"
    }
   ],
   "source": [
    "df[df['Age']>58]"
   ]
  },
  {
   "cell_type": "code",
   "execution_count": 16,
   "id": "bf919cf0",
   "metadata": {},
   "outputs": [],
   "source": [
    "df=df[df['Age']<58]"
   ]
  },
  {
   "cell_type": "code",
   "execution_count": 17,
   "id": "bbb4996f",
   "metadata": {},
   "outputs": [
    {
     "data": {
      "text/plain": [
       "<AxesSubplot:xlabel='Age'>"
      ]
     },
     "execution_count": 17,
     "metadata": {},
     "output_type": "execute_result"
    },
    {
     "data": {
      "image/png": "[encoded data removed]",
      "text/plain": [
       "<Figure size 432x288 with 1 Axes>"
      ]
     },
     "metadata": {
      "needs_background": "light"
     },
     "output_type": "display_data"
    }
   ],
   "source": [
    "sns.boxplot(df['Age'])"
   ]
  },
  {
   "cell_type": "code",
   "execution_count": 18,
   "id": "84eb81a5",
   "metadata": {},
   "outputs": [
    {
     "data": {
      "text/plain": [
       "<AxesSubplot:xlabel='Age', ylabel='Density'>"
      ]
     },
     "execution_count": 18,
     "metadata": {},
     "output_type": "execute_result"
    },
    {
     "data": {
      "image/png": "[encoded data removed]",
      "text/plain": [
       "<Figure size 432x288 with 1 Axes>"
      ]
     },
     "metadata": {
      "needs_background": "light"
     },
     "output_type": "display_data"
    }
   ],
   "source": [
    "sns.distplot(df['Age'])"
   ]
  },
  {
   "cell_type": "markdown",
   "id": "17661f84",
   "metadata": {},
   "source": [
    "### Multivariate plot - relationship between all numerical data"
   ]
  },
  {
   "cell_type": "code",
   "execution_count": 19,
   "id": "9bf82364",
   "metadata": {},
   "outputs": [
    {
     "data": {
      "text/plain": [
       "<AxesSubplot:>"
      ]
     },
     "execution_count": 19,
     "metadata": {},
     "output_type": "execute_result"
    },
    {
     "data": {
      "image/png": "[encoded data removed]",
      "text/plain": [
       "<Figure size 720x576 with 2 Axes>"
      ]
     },
     "metadata": {
      "needs_background": "light"
     },
     "output_type": "display_data"
    }
   ],
   "source": [
    "plt.figure(figsize=(10,8))\n",
    "sns.heatmap(df.corr(),annot=True,fmt='.2f')"
   ]
  },
  {
   "cell_type": "markdown",
   "id": "a8398e05",
   "metadata": {},
   "source": [
    "### Handling outliers from CreditScore column"
   ]
  },
  {
   "cell_type": "code",
   "execution_count": 20,
   "id": "35e82b33",
   "metadata": {},
   "outputs": [
    {
     "data": {
      "text/plain": [
       "<AxesSubplot:xlabel='Exited', ylabel='CreditScore'>"
      ]
     },
     "execution_count": 20,
     "metadata": {},
     "output_type": "execute_result"
    },
    {
     "data": {
      "image/png": "[encoded data removed]",
      "text/plain": [
       "<Figure size 432x288 with 1 Axes>"
      ]
     },
     "metadata": {
      "needs_background": "light"
     },
     "output_type": "display_data"
    }
   ],
   "source": [
    "sns.boxplot(data=df,x='Exited',y='CreditScore')"
   ]
  },
  {
   "cell_type": "code",
   "execution_count": 21,
   "id": "64d788af",
   "metadata": {},
   "outputs": [
    {
     "data": {
      "text/plain": [
       "<AxesSubplot:xlabel='CreditScore', ylabel='Density'>"
      ]
     },
     "execution_count": 21,
     "metadata": {},
     "output_type": "execute_result"
    },
    {
     "data": {
      "image/png": "[encoded data removed]",
      "text/plain": [
       "<Figure size 432x288 with 1 Axes>"
      ]
     },
     "metadata": {
      "needs_background": "light"
     },
     "output_type": "display_data"
    }
   ],
   "source": [
    "sns.distplot(df['CreditScore'])"
   ]
  },
  {
   "cell_type": "code",
   "execution_count": 22,
   "id": "be88d10e",
   "metadata": {},
   "outputs": [
    {
     "data": {
      "text/html": [
       "<div>\n",
       "<style scoped>\n",
       "    .dataframe tbody tr th:only-of-type {\n",
       "        vertical-align: middle;\n",
       "    }\n",
       "\n",
       "    .dataframe tbody tr th {\n",
       "        vertical-align: top;\n",
       "    }\n",
       "\n",
       "    .dataframe thead th {\n",
       "        text-align: right;\n",
       "    }\n",
       "</style>\n",
       "<table border=\"1\" class=\"dataframe\">\n",
       "  <thead>\n",
       "    <tr style=\"text-align: right;\">\n",
       "      <th></th>\n",
       "      <th>CustomerId</th>\n",
       "      <th>Surname</th>\n",
       "      <th>CreditScore</th>\n",
       "      <th>Geography</th>\n",
       "      <th>Gender</th>\n",
       "      <th>Age</th>\n",
       "      <th>Tenure</th>\n",
       "      <th>Balance</th>\n",
       "      <th>NumOfProducts</th>\n",
       "      <th>HasCrCard</th>\n",
       "      <th>IsActiveMember</th>\n",
       "      <th>EstimatedSalary</th>\n",
       "      <th>Exited</th>\n",
       "    </tr>\n",
       "  </thead>\n",
       "  <tbody>\n",
       "    <tr>\n",
       "      <th>7</th>\n",
       "      <td>15656148</td>\n",
       "      <td>Obinna</td>\n",
       "      <td>376</td>\n",
       "      <td>Germany</td>\n",
       "      <td>Female</td>\n",
       "      <td>29</td>\n",
       "      <td>4</td>\n",
       "      <td>115046.74</td>\n",
       "      <td>4</td>\n",
       "      <td>1</td>\n",
       "      <td>0</td>\n",
       "      <td>119346.88</td>\n",
       "      <td>1</td>\n",
       "    </tr>\n",
       "    <tr>\n",
       "      <th>29</th>\n",
       "      <td>15656300</td>\n",
       "      <td>Lucciano</td>\n",
       "      <td>411</td>\n",
       "      <td>France</td>\n",
       "      <td>Male</td>\n",
       "      <td>29</td>\n",
       "      <td>0</td>\n",
       "      <td>59697.17</td>\n",
       "      <td>2</td>\n",
       "      <td>1</td>\n",
       "      <td>1</td>\n",
       "      <td>53483.21</td>\n",
       "      <td>0</td>\n",
       "    </tr>\n",
       "    <tr>\n",
       "      <th>79</th>\n",
       "      <td>15803136</td>\n",
       "      <td>Postle</td>\n",
       "      <td>416</td>\n",
       "      <td>Germany</td>\n",
       "      <td>Female</td>\n",
       "      <td>41</td>\n",
       "      <td>10</td>\n",
       "      <td>122189.66</td>\n",
       "      <td>2</td>\n",
       "      <td>1</td>\n",
       "      <td>0</td>\n",
       "      <td>98301.61</td>\n",
       "      <td>0</td>\n",
       "    </tr>\n",
       "    <tr>\n",
       "      <th>99</th>\n",
       "      <td>15633059</td>\n",
       "      <td>Fanucci</td>\n",
       "      <td>413</td>\n",
       "      <td>France</td>\n",
       "      <td>Male</td>\n",
       "      <td>34</td>\n",
       "      <td>9</td>\n",
       "      <td>0.00</td>\n",
       "      <td>2</td>\n",
       "      <td>0</td>\n",
       "      <td>0</td>\n",
       "      <td>6534.18</td>\n",
       "      <td>0</td>\n",
       "    </tr>\n",
       "    <tr>\n",
       "      <th>125</th>\n",
       "      <td>15627360</td>\n",
       "      <td>Fuller</td>\n",
       "      <td>432</td>\n",
       "      <td>France</td>\n",
       "      <td>Male</td>\n",
       "      <td>42</td>\n",
       "      <td>9</td>\n",
       "      <td>152603.45</td>\n",
       "      <td>1</td>\n",
       "      <td>1</td>\n",
       "      <td>0</td>\n",
       "      <td>110265.24</td>\n",
       "      <td>1</td>\n",
       "    </tr>\n",
       "    <tr>\n",
       "      <th>...</th>\n",
       "      <td>...</td>\n",
       "      <td>...</td>\n",
       "      <td>...</td>\n",
       "      <td>...</td>\n",
       "      <td>...</td>\n",
       "      <td>...</td>\n",
       "      <td>...</td>\n",
       "      <td>...</td>\n",
       "      <td>...</td>\n",
       "      <td>...</td>\n",
       "      <td>...</td>\n",
       "      <td>...</td>\n",
       "      <td>...</td>\n",
       "    </tr>\n",
       "    <tr>\n",
       "      <th>9357</th>\n",
       "      <td>15814405</td>\n",
       "      <td>Chesnokova</td>\n",
       "      <td>418</td>\n",
       "      <td>France</td>\n",
       "      <td>Female</td>\n",
       "      <td>46</td>\n",
       "      <td>9</td>\n",
       "      <td>0.00</td>\n",
       "      <td>1</td>\n",
       "      <td>1</td>\n",
       "      <td>1</td>\n",
       "      <td>81014.50</td>\n",
       "      <td>1</td>\n",
       "    </tr>\n",
       "    <tr>\n",
       "      <th>9407</th>\n",
       "      <td>15652835</td>\n",
       "      <td>Liang</td>\n",
       "      <td>419</td>\n",
       "      <td>Spain</td>\n",
       "      <td>Female</td>\n",
       "      <td>27</td>\n",
       "      <td>2</td>\n",
       "      <td>121580.42</td>\n",
       "      <td>1</td>\n",
       "      <td>0</td>\n",
       "      <td>1</td>\n",
       "      <td>134720.51</td>\n",
       "      <td>0</td>\n",
       "    </tr>\n",
       "    <tr>\n",
       "      <th>9522</th>\n",
       "      <td>15664504</td>\n",
       "      <td>Beede</td>\n",
       "      <td>418</td>\n",
       "      <td>France</td>\n",
       "      <td>Male</td>\n",
       "      <td>35</td>\n",
       "      <td>7</td>\n",
       "      <td>0.00</td>\n",
       "      <td>2</td>\n",
       "      <td>1</td>\n",
       "      <td>1</td>\n",
       "      <td>88878.15</td>\n",
       "      <td>0</td>\n",
       "    </tr>\n",
       "    <tr>\n",
       "      <th>9624</th>\n",
       "      <td>15668309</td>\n",
       "      <td>Maslow</td>\n",
       "      <td>350</td>\n",
       "      <td>France</td>\n",
       "      <td>Female</td>\n",
       "      <td>40</td>\n",
       "      <td>0</td>\n",
       "      <td>111098.85</td>\n",
       "      <td>1</td>\n",
       "      <td>1</td>\n",
       "      <td>1</td>\n",
       "      <td>172321.21</td>\n",
       "      <td>1</td>\n",
       "    </tr>\n",
       "    <tr>\n",
       "      <th>9930</th>\n",
       "      <td>15713604</td>\n",
       "      <td>Rossi</td>\n",
       "      <td>425</td>\n",
       "      <td>Germany</td>\n",
       "      <td>Male</td>\n",
       "      <td>40</td>\n",
       "      <td>9</td>\n",
       "      <td>166776.60</td>\n",
       "      <td>2</td>\n",
       "      <td>0</td>\n",
       "      <td>1</td>\n",
       "      <td>172646.88</td>\n",
       "      <td>0</td>\n",
       "    </tr>\n",
       "  </tbody>\n",
       "</table>\n",
       "<p>126 rows × 13 columns</p>\n",
       "</div>"
      ],
      "text/plain": [
       "      CustomerId     Surname  CreditScore Geography  Gender  Age  Tenure  \\\n",
       "7       15656148      Obinna          376   Germany  Female   29       4   \n",
       "29      15656300    Lucciano          411    France    Male   29       0   \n",
       "79      15803136      Postle          416   Germany  Female   41      10   \n",
       "99      15633059     Fanucci          413    France    Male   34       9   \n",
       "125     15627360      Fuller          432    France    Male   42       9   \n",
       "...          ...         ...          ...       ...     ...  ...     ...   \n",
       "9357    15814405  Chesnokova          418    France  Female   46       9   \n",
       "9407    15652835       Liang          419     Spain  Female   27       2   \n",
       "9522    15664504       Beede          418    France    Male   35       7   \n",
       "9624    15668309      Maslow          350    France  Female   40       0   \n",
       "9930    15713604       Rossi          425   Germany    Male   40       9   \n",
       "\n",
       "        Balance  NumOfProducts  HasCrCard  IsActiveMember  EstimatedSalary  \\\n",
       "7     115046.74              4          1               0        119346.88   \n",
       "29     59697.17              2          1               1         53483.21   \n",
       "79    122189.66              2          1               0         98301.61   \n",
       "99         0.00              2          0               0          6534.18   \n",
       "125   152603.45              1          1               0        110265.24   \n",
       "...         ...            ...        ...             ...              ...   \n",
       "9357       0.00              1          1               1         81014.50   \n",
       "9407  121580.42              1          0               1        134720.51   \n",
       "9522       0.00              2          1               1         88878.15   \n",
       "9624  111098.85              1          1               1        172321.21   \n",
       "9930  166776.60              2          0               1        172646.88   \n",
       "\n",
       "      Exited  \n",
       "7          1  \n",
       "29         0  \n",
       "79         0  \n",
       "99         0  \n",
       "125        1  \n",
       "...      ...  \n",
       "9357       1  \n",
       "9407       0  \n",
       "9522       0  \n",
       "9624       1  \n",
       "9930       0  \n",
       "\n",
       "[126 rows x 13 columns]"
      ]
     },
     "execution_count": 22,
     "metadata": {},
     "output_type": "execute_result"
    }
   ],
   "source": [
    "df[df['CreditScore']<440]"
   ]
  },
  {
   "cell_type": "code",
   "execution_count": 23,
   "id": "5fc73153",
   "metadata": {},
   "outputs": [],
   "source": [
    "df=df[df['CreditScore']>440]"
   ]
  },
  {
   "cell_type": "code",
   "execution_count": 24,
   "id": "527440d7",
   "metadata": {},
   "outputs": [
    {
     "data": {
      "text/plain": [
       "<AxesSubplot:xlabel='Exited', ylabel='CreditScore'>"
      ]
     },
     "execution_count": 24,
     "metadata": {},
     "output_type": "execute_result"
    },
    {
     "data": {
      "image/png": "[encoded data removed]",
      "text/plain": [
       "<Figure size 432x288 with 1 Axes>"
      ]
     },
     "metadata": {
      "needs_background": "light"
     },
     "output_type": "display_data"
    }
   ],
   "source": [
    "sns.boxplot(data=df,x='Exited',y='CreditScore')"
   ]
  },
  {
   "cell_type": "code",
   "execution_count": 25,
   "id": "9d2e2206",
   "metadata": {},
   "outputs": [
    {
     "data": {
      "text/plain": [
       "<AxesSubplot:xlabel='CreditScore', ylabel='Density'>"
      ]
     },
     "execution_count": 25,
     "metadata": {},
     "output_type": "execute_result"
    },
    {
     "data": {
      "image/png": "[encoded data removed]",
      "text/plain": [
       "<Figure size 432x288 with 1 Axes>"
      ]
     },
     "metadata": {
      "needs_background": "light"
     },
     "output_type": "display_data"
    }
   ],
   "source": [
    "sns.distplot(df['CreditScore'])"
   ]
  },
  {
   "cell_type": "markdown",
   "id": "f1376114",
   "metadata": {},
   "source": [
    "### Handling NumOfProduct columns outlier"
   ]
  },
  {
   "cell_type": "code",
   "execution_count": 26,
   "id": "9d04289b",
   "metadata": {},
   "outputs": [
    {
     "data": {
      "text/plain": [
       "array([1, 3, 2, 4], dtype=int64)"
      ]
     },
     "execution_count": 26,
     "metadata": {},
     "output_type": "execute_result"
    }
   ],
   "source": [
    "df['NumOfProducts'].unique()"
   ]
  },
  {
   "cell_type": "code",
   "execution_count": 27,
   "id": "cd2667a9",
   "metadata": {},
   "outputs": [
    {
     "data": {
      "text/plain": [
       "1    4644\n",
       "2    4281\n",
       "3     241\n",
       "4      52\n",
       "Name: NumOfProducts, dtype: int64"
      ]
     },
     "execution_count": 27,
     "metadata": {},
     "output_type": "execute_result"
    }
   ],
   "source": [
    "df['NumOfProducts'].value_counts()"
   ]
  },
  {
   "cell_type": "code",
   "execution_count": 28,
   "id": "8bbc0834",
   "metadata": {},
   "outputs": [
    {
     "data": {
      "text/html": [
       "<div>\n",
       "<style scoped>\n",
       "    .dataframe tbody tr th:only-of-type {\n",
       "        vertical-align: middle;\n",
       "    }\n",
       "\n",
       "    .dataframe tbody tr th {\n",
       "        vertical-align: top;\n",
       "    }\n",
       "\n",
       "    .dataframe thead th {\n",
       "        text-align: right;\n",
       "    }\n",
       "</style>\n",
       "<table border=\"1\" class=\"dataframe\">\n",
       "  <thead>\n",
       "    <tr style=\"text-align: right;\">\n",
       "      <th></th>\n",
       "      <th>CustomerId</th>\n",
       "      <th>Surname</th>\n",
       "      <th>CreditScore</th>\n",
       "      <th>Geography</th>\n",
       "      <th>Gender</th>\n",
       "      <th>Age</th>\n",
       "      <th>Tenure</th>\n",
       "      <th>Balance</th>\n",
       "      <th>NumOfProducts</th>\n",
       "      <th>HasCrCard</th>\n",
       "      <th>IsActiveMember</th>\n",
       "      <th>EstimatedSalary</th>\n",
       "      <th>Exited</th>\n",
       "    </tr>\n",
       "  </thead>\n",
       "  <tbody>\n",
       "    <tr>\n",
       "      <th>1254</th>\n",
       "      <td>15610383</td>\n",
       "      <td>Dumetolisa</td>\n",
       "      <td>628</td>\n",
       "      <td>France</td>\n",
       "      <td>Female</td>\n",
       "      <td>46</td>\n",
       "      <td>1</td>\n",
       "      <td>46870.43</td>\n",
       "      <td>4</td>\n",
       "      <td>1</td>\n",
       "      <td>0</td>\n",
       "      <td>31272.14</td>\n",
       "      <td>1</td>\n",
       "    </tr>\n",
       "    <tr>\n",
       "      <th>1469</th>\n",
       "      <td>15670374</td>\n",
       "      <td>Wright</td>\n",
       "      <td>819</td>\n",
       "      <td>Germany</td>\n",
       "      <td>Female</td>\n",
       "      <td>49</td>\n",
       "      <td>1</td>\n",
       "      <td>120656.86</td>\n",
       "      <td>4</td>\n",
       "      <td>0</td>\n",
       "      <td>0</td>\n",
       "      <td>166164.30</td>\n",
       "      <td>1</td>\n",
       "    </tr>\n",
       "    <tr>\n",
       "      <th>1488</th>\n",
       "      <td>15625824</td>\n",
       "      <td>Kornilova</td>\n",
       "      <td>596</td>\n",
       "      <td>Spain</td>\n",
       "      <td>Male</td>\n",
       "      <td>30</td>\n",
       "      <td>6</td>\n",
       "      <td>121345.88</td>\n",
       "      <td>4</td>\n",
       "      <td>1</td>\n",
       "      <td>0</td>\n",
       "      <td>41921.75</td>\n",
       "      <td>1</td>\n",
       "    </tr>\n",
       "    <tr>\n",
       "      <th>1701</th>\n",
       "      <td>15605279</td>\n",
       "      <td>Francis</td>\n",
       "      <td>792</td>\n",
       "      <td>France</td>\n",
       "      <td>Male</td>\n",
       "      <td>50</td>\n",
       "      <td>9</td>\n",
       "      <td>0.00</td>\n",
       "      <td>4</td>\n",
       "      <td>1</td>\n",
       "      <td>1</td>\n",
       "      <td>194700.81</td>\n",
       "      <td>1</td>\n",
       "    </tr>\n",
       "    <tr>\n",
       "      <th>1876</th>\n",
       "      <td>15664754</td>\n",
       "      <td>Steele</td>\n",
       "      <td>640</td>\n",
       "      <td>Germany</td>\n",
       "      <td>Male</td>\n",
       "      <td>39</td>\n",
       "      <td>9</td>\n",
       "      <td>131607.28</td>\n",
       "      <td>4</td>\n",
       "      <td>0</td>\n",
       "      <td>1</td>\n",
       "      <td>6981.43</td>\n",
       "      <td>1</td>\n",
       "    </tr>\n",
       "    <tr>\n",
       "      <th>2124</th>\n",
       "      <td>15603851</td>\n",
       "      <td>Galkin</td>\n",
       "      <td>704</td>\n",
       "      <td>France</td>\n",
       "      <td>Male</td>\n",
       "      <td>32</td>\n",
       "      <td>7</td>\n",
       "      <td>127785.17</td>\n",
       "      <td>4</td>\n",
       "      <td>0</td>\n",
       "      <td>0</td>\n",
       "      <td>184464.70</td>\n",
       "      <td>1</td>\n",
       "    </tr>\n",
       "    <tr>\n",
       "      <th>2196</th>\n",
       "      <td>15791700</td>\n",
       "      <td>Ugochukwutubelum</td>\n",
       "      <td>773</td>\n",
       "      <td>Germany</td>\n",
       "      <td>Male</td>\n",
       "      <td>47</td>\n",
       "      <td>2</td>\n",
       "      <td>118079.47</td>\n",
       "      <td>4</td>\n",
       "      <td>1</td>\n",
       "      <td>1</td>\n",
       "      <td>143007.49</td>\n",
       "      <td>1</td>\n",
       "    </tr>\n",
       "    <tr>\n",
       "      <th>2285</th>\n",
       "      <td>15783615</td>\n",
       "      <td>Ramos</td>\n",
       "      <td>630</td>\n",
       "      <td>Germany</td>\n",
       "      <td>Male</td>\n",
       "      <td>50</td>\n",
       "      <td>3</td>\n",
       "      <td>129370.91</td>\n",
       "      <td>4</td>\n",
       "      <td>1</td>\n",
       "      <td>1</td>\n",
       "      <td>47775.34</td>\n",
       "      <td>1</td>\n",
       "    </tr>\n",
       "    <tr>\n",
       "      <th>2462</th>\n",
       "      <td>15704442</td>\n",
       "      <td>Fleming</td>\n",
       "      <td>672</td>\n",
       "      <td>France</td>\n",
       "      <td>Female</td>\n",
       "      <td>53</td>\n",
       "      <td>9</td>\n",
       "      <td>169406.33</td>\n",
       "      <td>4</td>\n",
       "      <td>1</td>\n",
       "      <td>1</td>\n",
       "      <td>147311.47</td>\n",
       "      <td>1</td>\n",
       "    </tr>\n",
       "    <tr>\n",
       "      <th>2499</th>\n",
       "      <td>15634974</td>\n",
       "      <td>Seppelt</td>\n",
       "      <td>614</td>\n",
       "      <td>France</td>\n",
       "      <td>Female</td>\n",
       "      <td>37</td>\n",
       "      <td>8</td>\n",
       "      <td>75150.34</td>\n",
       "      <td>4</td>\n",
       "      <td>0</td>\n",
       "      <td>1</td>\n",
       "      <td>131766.67</td>\n",
       "      <td>1</td>\n",
       "    </tr>\n",
       "    <tr>\n",
       "      <th>2509</th>\n",
       "      <td>15689341</td>\n",
       "      <td>Gibbs</td>\n",
       "      <td>655</td>\n",
       "      <td>France</td>\n",
       "      <td>Female</td>\n",
       "      <td>50</td>\n",
       "      <td>10</td>\n",
       "      <td>0.00</td>\n",
       "      <td>4</td>\n",
       "      <td>1</td>\n",
       "      <td>0</td>\n",
       "      <td>179267.94</td>\n",
       "      <td>1</td>\n",
       "    </tr>\n",
       "    <tr>\n",
       "      <th>2617</th>\n",
       "      <td>15602735</td>\n",
       "      <td>Kuo</td>\n",
       "      <td>692</td>\n",
       "      <td>Germany</td>\n",
       "      <td>Male</td>\n",
       "      <td>45</td>\n",
       "      <td>6</td>\n",
       "      <td>152296.83</td>\n",
       "      <td>4</td>\n",
       "      <td>0</td>\n",
       "      <td>1</td>\n",
       "      <td>108040.86</td>\n",
       "      <td>1</td>\n",
       "    </tr>\n",
       "    <tr>\n",
       "      <th>3152</th>\n",
       "      <td>15724161</td>\n",
       "      <td>Sutton</td>\n",
       "      <td>644</td>\n",
       "      <td>France</td>\n",
       "      <td>Female</td>\n",
       "      <td>40</td>\n",
       "      <td>9</td>\n",
       "      <td>137285.26</td>\n",
       "      <td>4</td>\n",
       "      <td>1</td>\n",
       "      <td>0</td>\n",
       "      <td>77063.63</td>\n",
       "      <td>1</td>\n",
       "    </tr>\n",
       "    <tr>\n",
       "      <th>3365</th>\n",
       "      <td>15764431</td>\n",
       "      <td>Chinwenma</td>\n",
       "      <td>671</td>\n",
       "      <td>Spain</td>\n",
       "      <td>Female</td>\n",
       "      <td>34</td>\n",
       "      <td>5</td>\n",
       "      <td>130929.02</td>\n",
       "      <td>4</td>\n",
       "      <td>1</td>\n",
       "      <td>1</td>\n",
       "      <td>28238.25</td>\n",
       "      <td>1</td>\n",
       "    </tr>\n",
       "    <tr>\n",
       "      <th>4013</th>\n",
       "      <td>15653776</td>\n",
       "      <td>Salier</td>\n",
       "      <td>720</td>\n",
       "      <td>Germany</td>\n",
       "      <td>Female</td>\n",
       "      <td>57</td>\n",
       "      <td>1</td>\n",
       "      <td>162082.31</td>\n",
       "      <td>4</td>\n",
       "      <td>0</td>\n",
       "      <td>0</td>\n",
       "      <td>27145.73</td>\n",
       "      <td>1</td>\n",
       "    </tr>\n",
       "    <tr>\n",
       "      <th>4014</th>\n",
       "      <td>15597914</td>\n",
       "      <td>Evdokimov</td>\n",
       "      <td>641</td>\n",
       "      <td>Germany</td>\n",
       "      <td>Female</td>\n",
       "      <td>51</td>\n",
       "      <td>2</td>\n",
       "      <td>117306.69</td>\n",
       "      <td>4</td>\n",
       "      <td>1</td>\n",
       "      <td>1</td>\n",
       "      <td>26912.72</td>\n",
       "      <td>1</td>\n",
       "    </tr>\n",
       "    <tr>\n",
       "      <th>4166</th>\n",
       "      <td>15654562</td>\n",
       "      <td>Ma</td>\n",
       "      <td>850</td>\n",
       "      <td>Spain</td>\n",
       "      <td>Female</td>\n",
       "      <td>45</td>\n",
       "      <td>5</td>\n",
       "      <td>174088.30</td>\n",
       "      <td>4</td>\n",
       "      <td>1</td>\n",
       "      <td>0</td>\n",
       "      <td>5669.31</td>\n",
       "      <td>1</td>\n",
       "    </tr>\n",
       "    <tr>\n",
       "      <th>4260</th>\n",
       "      <td>15664555</td>\n",
       "      <td>Hughes</td>\n",
       "      <td>587</td>\n",
       "      <td>France</td>\n",
       "      <td>Male</td>\n",
       "      <td>40</td>\n",
       "      <td>2</td>\n",
       "      <td>0.00</td>\n",
       "      <td>4</td>\n",
       "      <td>0</td>\n",
       "      <td>1</td>\n",
       "      <td>106174.70</td>\n",
       "      <td>1</td>\n",
       "    </tr>\n",
       "    <tr>\n",
       "      <th>4403</th>\n",
       "      <td>15616859</td>\n",
       "      <td>Bonwick</td>\n",
       "      <td>602</td>\n",
       "      <td>Germany</td>\n",
       "      <td>Female</td>\n",
       "      <td>43</td>\n",
       "      <td>2</td>\n",
       "      <td>113641.49</td>\n",
       "      <td>4</td>\n",
       "      <td>1</td>\n",
       "      <td>0</td>\n",
       "      <td>115116.35</td>\n",
       "      <td>1</td>\n",
       "    </tr>\n",
       "    <tr>\n",
       "      <th>4511</th>\n",
       "      <td>15568006</td>\n",
       "      <td>Ukaegbunam</td>\n",
       "      <td>634</td>\n",
       "      <td>France</td>\n",
       "      <td>Female</td>\n",
       "      <td>45</td>\n",
       "      <td>2</td>\n",
       "      <td>0.00</td>\n",
       "      <td>4</td>\n",
       "      <td>1</td>\n",
       "      <td>0</td>\n",
       "      <td>101039.53</td>\n",
       "      <td>1</td>\n",
       "    </tr>\n",
       "    <tr>\n",
       "      <th>4516</th>\n",
       "      <td>15812210</td>\n",
       "      <td>Yashina</td>\n",
       "      <td>497</td>\n",
       "      <td>Germany</td>\n",
       "      <td>Female</td>\n",
       "      <td>32</td>\n",
       "      <td>8</td>\n",
       "      <td>111537.23</td>\n",
       "      <td>4</td>\n",
       "      <td>1</td>\n",
       "      <td>1</td>\n",
       "      <td>9497.99</td>\n",
       "      <td>1</td>\n",
       "    </tr>\n",
       "    <tr>\n",
       "      <th>4606</th>\n",
       "      <td>15784958</td>\n",
       "      <td>Allan</td>\n",
       "      <td>797</td>\n",
       "      <td>France</td>\n",
       "      <td>Female</td>\n",
       "      <td>55</td>\n",
       "      <td>10</td>\n",
       "      <td>0.00</td>\n",
       "      <td>4</td>\n",
       "      <td>1</td>\n",
       "      <td>1</td>\n",
       "      <td>49418.87</td>\n",
       "      <td>1</td>\n",
       "    </tr>\n",
       "    <tr>\n",
       "      <th>4654</th>\n",
       "      <td>15593976</td>\n",
       "      <td>Swanson</td>\n",
       "      <td>578</td>\n",
       "      <td>Germany</td>\n",
       "      <td>Female</td>\n",
       "      <td>31</td>\n",
       "      <td>5</td>\n",
       "      <td>102088.68</td>\n",
       "      <td>4</td>\n",
       "      <td>0</td>\n",
       "      <td>0</td>\n",
       "      <td>187866.21</td>\n",
       "      <td>1</td>\n",
       "    </tr>\n",
       "    <tr>\n",
       "      <th>4748</th>\n",
       "      <td>15759067</td>\n",
       "      <td>Bromby</td>\n",
       "      <td>537</td>\n",
       "      <td>Germany</td>\n",
       "      <td>Female</td>\n",
       "      <td>37</td>\n",
       "      <td>7</td>\n",
       "      <td>158411.95</td>\n",
       "      <td>4</td>\n",
       "      <td>1</td>\n",
       "      <td>1</td>\n",
       "      <td>117690.58</td>\n",
       "      <td>1</td>\n",
       "    </tr>\n",
       "    <tr>\n",
       "      <th>4822</th>\n",
       "      <td>15805704</td>\n",
       "      <td>Murphy</td>\n",
       "      <td>745</td>\n",
       "      <td>France</td>\n",
       "      <td>Female</td>\n",
       "      <td>32</td>\n",
       "      <td>2</td>\n",
       "      <td>0.00</td>\n",
       "      <td>4</td>\n",
       "      <td>0</td>\n",
       "      <td>1</td>\n",
       "      <td>179705.13</td>\n",
       "      <td>1</td>\n",
       "    </tr>\n",
       "    <tr>\n",
       "      <th>5010</th>\n",
       "      <td>15719508</td>\n",
       "      <td>Davis</td>\n",
       "      <td>575</td>\n",
       "      <td>Germany</td>\n",
       "      <td>Male</td>\n",
       "      <td>49</td>\n",
       "      <td>7</td>\n",
       "      <td>121205.15</td>\n",
       "      <td>4</td>\n",
       "      <td>1</td>\n",
       "      <td>1</td>\n",
       "      <td>168080.53</td>\n",
       "      <td>1</td>\n",
       "    </tr>\n",
       "    <tr>\n",
       "      <th>5137</th>\n",
       "      <td>15601594</td>\n",
       "      <td>Ifeanacho</td>\n",
       "      <td>698</td>\n",
       "      <td>France</td>\n",
       "      <td>Female</td>\n",
       "      <td>51</td>\n",
       "      <td>6</td>\n",
       "      <td>144237.91</td>\n",
       "      <td>4</td>\n",
       "      <td>1</td>\n",
       "      <td>0</td>\n",
       "      <td>157143.61</td>\n",
       "      <td>1</td>\n",
       "    </tr>\n",
       "    <tr>\n",
       "      <th>5386</th>\n",
       "      <td>15668283</td>\n",
       "      <td>Gardiner</td>\n",
       "      <td>642</td>\n",
       "      <td>France</td>\n",
       "      <td>Male</td>\n",
       "      <td>48</td>\n",
       "      <td>9</td>\n",
       "      <td>118317.27</td>\n",
       "      <td>4</td>\n",
       "      <td>0</td>\n",
       "      <td>0</td>\n",
       "      <td>78702.98</td>\n",
       "      <td>1</td>\n",
       "    </tr>\n",
       "    <tr>\n",
       "      <th>5700</th>\n",
       "      <td>15812888</td>\n",
       "      <td>Perreault</td>\n",
       "      <td>447</td>\n",
       "      <td>France</td>\n",
       "      <td>Male</td>\n",
       "      <td>41</td>\n",
       "      <td>3</td>\n",
       "      <td>0.00</td>\n",
       "      <td>4</td>\n",
       "      <td>1</td>\n",
       "      <td>1</td>\n",
       "      <td>197490.39</td>\n",
       "      <td>1</td>\n",
       "    </tr>\n",
       "    <tr>\n",
       "      <th>5904</th>\n",
       "      <td>15664270</td>\n",
       "      <td>Balsillie</td>\n",
       "      <td>692</td>\n",
       "      <td>Germany</td>\n",
       "      <td>Male</td>\n",
       "      <td>45</td>\n",
       "      <td>6</td>\n",
       "      <td>142084.04</td>\n",
       "      <td>4</td>\n",
       "      <td>1</td>\n",
       "      <td>0</td>\n",
       "      <td>188305.85</td>\n",
       "      <td>1</td>\n",
       "    </tr>\n",
       "    <tr>\n",
       "      <th>6150</th>\n",
       "      <td>15625761</td>\n",
       "      <td>Maclean</td>\n",
       "      <td>632</td>\n",
       "      <td>Germany</td>\n",
       "      <td>Male</td>\n",
       "      <td>41</td>\n",
       "      <td>8</td>\n",
       "      <td>127205.32</td>\n",
       "      <td>4</td>\n",
       "      <td>1</td>\n",
       "      <td>0</td>\n",
       "      <td>93874.87</td>\n",
       "      <td>1</td>\n",
       "    </tr>\n",
       "    <tr>\n",
       "      <th>6172</th>\n",
       "      <td>15656822</td>\n",
       "      <td>Day</td>\n",
       "      <td>568</td>\n",
       "      <td>Germany</td>\n",
       "      <td>Male</td>\n",
       "      <td>43</td>\n",
       "      <td>5</td>\n",
       "      <td>87612.64</td>\n",
       "      <td>4</td>\n",
       "      <td>1</td>\n",
       "      <td>1</td>\n",
       "      <td>107155.40</td>\n",
       "      <td>1</td>\n",
       "    </tr>\n",
       "    <tr>\n",
       "      <th>6279</th>\n",
       "      <td>15608338</td>\n",
       "      <td>Chiemenam</td>\n",
       "      <td>757</td>\n",
       "      <td>Spain</td>\n",
       "      <td>Female</td>\n",
       "      <td>55</td>\n",
       "      <td>9</td>\n",
       "      <td>117294.12</td>\n",
       "      <td>4</td>\n",
       "      <td>1</td>\n",
       "      <td>0</td>\n",
       "      <td>94187.47</td>\n",
       "      <td>1</td>\n",
       "    </tr>\n",
       "    <tr>\n",
       "      <th>6750</th>\n",
       "      <td>15690546</td>\n",
       "      <td>Riley</td>\n",
       "      <td>618</td>\n",
       "      <td>France</td>\n",
       "      <td>Female</td>\n",
       "      <td>42</td>\n",
       "      <td>2</td>\n",
       "      <td>0.00</td>\n",
       "      <td>4</td>\n",
       "      <td>0</td>\n",
       "      <td>0</td>\n",
       "      <td>111097.39</td>\n",
       "      <td>1</td>\n",
       "    </tr>\n",
       "    <tr>\n",
       "      <th>6875</th>\n",
       "      <td>15665283</td>\n",
       "      <td>Brookes</td>\n",
       "      <td>610</td>\n",
       "      <td>France</td>\n",
       "      <td>Female</td>\n",
       "      <td>57</td>\n",
       "      <td>7</td>\n",
       "      <td>72092.95</td>\n",
       "      <td>4</td>\n",
       "      <td>0</td>\n",
       "      <td>1</td>\n",
       "      <td>113228.82</td>\n",
       "      <td>1</td>\n",
       "    </tr>\n",
       "    <tr>\n",
       "      <th>7257</th>\n",
       "      <td>15648681</td>\n",
       "      <td>Voronoff</td>\n",
       "      <td>747</td>\n",
       "      <td>France</td>\n",
       "      <td>Female</td>\n",
       "      <td>47</td>\n",
       "      <td>5</td>\n",
       "      <td>139914.60</td>\n",
       "      <td>4</td>\n",
       "      <td>0</td>\n",
       "      <td>1</td>\n",
       "      <td>129964.56</td>\n",
       "      <td>1</td>\n",
       "    </tr>\n",
       "    <tr>\n",
       "      <th>7457</th>\n",
       "      <td>15668889</td>\n",
       "      <td>Galgano</td>\n",
       "      <td>665</td>\n",
       "      <td>Germany</td>\n",
       "      <td>Female</td>\n",
       "      <td>43</td>\n",
       "      <td>2</td>\n",
       "      <td>116322.27</td>\n",
       "      <td>4</td>\n",
       "      <td>1</td>\n",
       "      <td>0</td>\n",
       "      <td>35640.12</td>\n",
       "      <td>1</td>\n",
       "    </tr>\n",
       "    <tr>\n",
       "      <th>7567</th>\n",
       "      <td>15750545</td>\n",
       "      <td>Chidiebere</td>\n",
       "      <td>629</td>\n",
       "      <td>France</td>\n",
       "      <td>Male</td>\n",
       "      <td>44</td>\n",
       "      <td>5</td>\n",
       "      <td>0.00</td>\n",
       "      <td>4</td>\n",
       "      <td>0</td>\n",
       "      <td>0</td>\n",
       "      <td>117572.59</td>\n",
       "      <td>1</td>\n",
       "    </tr>\n",
       "    <tr>\n",
       "      <th>7724</th>\n",
       "      <td>15673591</td>\n",
       "      <td>Oluchukwu</td>\n",
       "      <td>842</td>\n",
       "      <td>France</td>\n",
       "      <td>Male</td>\n",
       "      <td>44</td>\n",
       "      <td>3</td>\n",
       "      <td>141252.18</td>\n",
       "      <td>4</td>\n",
       "      <td>0</td>\n",
       "      <td>1</td>\n",
       "      <td>128521.16</td>\n",
       "      <td>1</td>\n",
       "    </tr>\n",
       "    <tr>\n",
       "      <th>7729</th>\n",
       "      <td>15681007</td>\n",
       "      <td>Yen</td>\n",
       "      <td>850</td>\n",
       "      <td>France</td>\n",
       "      <td>Female</td>\n",
       "      <td>35</td>\n",
       "      <td>2</td>\n",
       "      <td>128548.49</td>\n",
       "      <td>4</td>\n",
       "      <td>1</td>\n",
       "      <td>0</td>\n",
       "      <td>75478.95</td>\n",
       "      <td>1</td>\n",
       "    </tr>\n",
       "    <tr>\n",
       "      <th>8041</th>\n",
       "      <td>15701439</td>\n",
       "      <td>Fanucci</td>\n",
       "      <td>698</td>\n",
       "      <td>Spain</td>\n",
       "      <td>Female</td>\n",
       "      <td>50</td>\n",
       "      <td>1</td>\n",
       "      <td>0.00</td>\n",
       "      <td>4</td>\n",
       "      <td>1</td>\n",
       "      <td>0</td>\n",
       "      <td>88566.90</td>\n",
       "      <td>1</td>\n",
       "    </tr>\n",
       "    <tr>\n",
       "      <th>8590</th>\n",
       "      <td>15633194</td>\n",
       "      <td>Osborne</td>\n",
       "      <td>771</td>\n",
       "      <td>France</td>\n",
       "      <td>Female</td>\n",
       "      <td>41</td>\n",
       "      <td>10</td>\n",
       "      <td>108309.00</td>\n",
       "      <td>4</td>\n",
       "      <td>1</td>\n",
       "      <td>1</td>\n",
       "      <td>137510.41</td>\n",
       "      <td>1</td>\n",
       "    </tr>\n",
       "    <tr>\n",
       "      <th>8683</th>\n",
       "      <td>15599329</td>\n",
       "      <td>Christopher</td>\n",
       "      <td>697</td>\n",
       "      <td>France</td>\n",
       "      <td>Female</td>\n",
       "      <td>49</td>\n",
       "      <td>7</td>\n",
       "      <td>195238.29</td>\n",
       "      <td>4</td>\n",
       "      <td>0</td>\n",
       "      <td>1</td>\n",
       "      <td>131083.56</td>\n",
       "      <td>1</td>\n",
       "    </tr>\n",
       "    <tr>\n",
       "      <th>8850</th>\n",
       "      <td>15590201</td>\n",
       "      <td>Fiorentini</td>\n",
       "      <td>500</td>\n",
       "      <td>Spain</td>\n",
       "      <td>Female</td>\n",
       "      <td>50</td>\n",
       "      <td>5</td>\n",
       "      <td>0.00</td>\n",
       "      <td>4</td>\n",
       "      <td>1</td>\n",
       "      <td>1</td>\n",
       "      <td>83866.35</td>\n",
       "      <td>1</td>\n",
       "    </tr>\n",
       "    <tr>\n",
       "      <th>8923</th>\n",
       "      <td>15570002</td>\n",
       "      <td>Burlingame</td>\n",
       "      <td>625</td>\n",
       "      <td>Germany</td>\n",
       "      <td>Female</td>\n",
       "      <td>55</td>\n",
       "      <td>8</td>\n",
       "      <td>118772.71</td>\n",
       "      <td>4</td>\n",
       "      <td>0</td>\n",
       "      <td>0</td>\n",
       "      <td>135853.62</td>\n",
       "      <td>1</td>\n",
       "    </tr>\n",
       "    <tr>\n",
       "      <th>9215</th>\n",
       "      <td>15624180</td>\n",
       "      <td>Genovesi</td>\n",
       "      <td>584</td>\n",
       "      <td>Germany</td>\n",
       "      <td>Female</td>\n",
       "      <td>37</td>\n",
       "      <td>10</td>\n",
       "      <td>134171.80</td>\n",
       "      <td>4</td>\n",
       "      <td>1</td>\n",
       "      <td>1</td>\n",
       "      <td>70927.11</td>\n",
       "      <td>1</td>\n",
       "    </tr>\n",
       "    <tr>\n",
       "      <th>9255</th>\n",
       "      <td>15622033</td>\n",
       "      <td>Rapuluchukwu</td>\n",
       "      <td>847</td>\n",
       "      <td>Germany</td>\n",
       "      <td>Female</td>\n",
       "      <td>41</td>\n",
       "      <td>3</td>\n",
       "      <td>101543.51</td>\n",
       "      <td>4</td>\n",
       "      <td>1</td>\n",
       "      <td>0</td>\n",
       "      <td>16025.17</td>\n",
       "      <td>1</td>\n",
       "    </tr>\n",
       "    <tr>\n",
       "      <th>9323</th>\n",
       "      <td>15815316</td>\n",
       "      <td>Kennedy</td>\n",
       "      <td>644</td>\n",
       "      <td>France</td>\n",
       "      <td>Male</td>\n",
       "      <td>50</td>\n",
       "      <td>9</td>\n",
       "      <td>76817.00</td>\n",
       "      <td>4</td>\n",
       "      <td>1</td>\n",
       "      <td>0</td>\n",
       "      <td>196371.13</td>\n",
       "      <td>1</td>\n",
       "    </tr>\n",
       "    <tr>\n",
       "      <th>9370</th>\n",
       "      <td>15732438</td>\n",
       "      <td>Cheng</td>\n",
       "      <td>561</td>\n",
       "      <td>France</td>\n",
       "      <td>Male</td>\n",
       "      <td>43</td>\n",
       "      <td>4</td>\n",
       "      <td>0.00</td>\n",
       "      <td>4</td>\n",
       "      <td>0</td>\n",
       "      <td>0</td>\n",
       "      <td>18522.91</td>\n",
       "      <td>1</td>\n",
       "    </tr>\n",
       "    <tr>\n",
       "      <th>9411</th>\n",
       "      <td>15796115</td>\n",
       "      <td>Forbes</td>\n",
       "      <td>689</td>\n",
       "      <td>Germany</td>\n",
       "      <td>Female</td>\n",
       "      <td>40</td>\n",
       "      <td>4</td>\n",
       "      <td>78119.59</td>\n",
       "      <td>4</td>\n",
       "      <td>1</td>\n",
       "      <td>0</td>\n",
       "      <td>119259.34</td>\n",
       "      <td>1</td>\n",
       "    </tr>\n",
       "    <tr>\n",
       "      <th>9540</th>\n",
       "      <td>15634551</td>\n",
       "      <td>Williamson</td>\n",
       "      <td>727</td>\n",
       "      <td>Germany</td>\n",
       "      <td>Male</td>\n",
       "      <td>46</td>\n",
       "      <td>3</td>\n",
       "      <td>115248.11</td>\n",
       "      <td>4</td>\n",
       "      <td>1</td>\n",
       "      <td>0</td>\n",
       "      <td>130752.01</td>\n",
       "      <td>1</td>\n",
       "    </tr>\n",
       "    <tr>\n",
       "      <th>9565</th>\n",
       "      <td>15752294</td>\n",
       "      <td>Long</td>\n",
       "      <td>582</td>\n",
       "      <td>France</td>\n",
       "      <td>Female</td>\n",
       "      <td>38</td>\n",
       "      <td>9</td>\n",
       "      <td>135979.01</td>\n",
       "      <td>4</td>\n",
       "      <td>1</td>\n",
       "      <td>1</td>\n",
       "      <td>76582.95</td>\n",
       "      <td>1</td>\n",
       "    </tr>\n",
       "  </tbody>\n",
       "</table>\n",
       "</div>"
      ],
      "text/plain": [
       "      CustomerId           Surname  CreditScore Geography  Gender  Age  \\\n",
       "1254    15610383        Dumetolisa          628    France  Female   46   \n",
       "1469    15670374            Wright          819   Germany  Female   49   \n",
       "1488    15625824         Kornilova          596     Spain    Male   30   \n",
       "1701    15605279           Francis          792    France    Male   50   \n",
       "1876    15664754            Steele          640   Germany    Male   39   \n",
       "2124    15603851            Galkin          704    France    Male   32   \n",
       "2196    15791700  Ugochukwutubelum          773   Germany    Male   47   \n",
       "2285    15783615             Ramos          630   Germany    Male   50   \n",
       "2462    15704442           Fleming          672    France  Female   53   \n",
       "2499    15634974           Seppelt          614    France  Female   37   \n",
       "2509    15689341             Gibbs          655    France  Female   50   \n",
       "2617    15602735               Kuo          692   Germany    Male   45   \n",
       "3152    15724161            Sutton          644    France  Female   40   \n",
       "3365    15764431         Chinwenma          671     Spain  Female   34   \n",
       "4013    15653776            Salier          720   Germany  Female   57   \n",
       "4014    15597914         Evdokimov          641   Germany  Female   51   \n",
       "4166    15654562                Ma          850     Spain  Female   45   \n",
       "4260    15664555            Hughes          587    France    Male   40   \n",
       "4403    15616859           Bonwick          602   Germany  Female   43   \n",
       "4511    15568006        Ukaegbunam          634    France  Female   45   \n",
       "4516    15812210           Yashina          497   Germany  Female   32   \n",
       "4606    15784958             Allan          797    France  Female   55   \n",
       "4654    15593976           Swanson          578   Germany  Female   31   \n",
       "4748    15759067            Bromby          537   Germany  Female   37   \n",
       "4822    15805704            Murphy          745    France  Female   32   \n",
       "5010    15719508             Davis          575   Germany    Male   49   \n",
       "5137    15601594         Ifeanacho          698    France  Female   51   \n",
       "5386    15668283          Gardiner          642    France    Male   48   \n",
       "5700    15812888         Perreault          447    France    Male   41   \n",
       "5904    15664270         Balsillie          692   Germany    Male   45   \n",
       "6150    15625761           Maclean          632   Germany    Male   41   \n",
       "6172    15656822               Day          568   Germany    Male   43   \n",
       "6279    15608338         Chiemenam          757     Spain  Female   55   \n",
       "6750    15690546             Riley          618    France  Female   42   \n",
       "6875    15665283           Brookes          610    France  Female   57   \n",
       "7257    15648681          Voronoff          747    France  Female   47   \n",
       "7457    15668889           Galgano          665   Germany  Female   43   \n",
       "7567    15750545        Chidiebere          629    France    Male   44   \n",
       "7724    15673591         Oluchukwu          842    France    Male   44   \n",
       "7729    15681007               Yen          850    France  Female   35   \n",
       "8041    15701439           Fanucci          698     Spain  Female   50   \n",
       "8590    15633194           Osborne          771    France  Female   41   \n",
       "8683    15599329       Christopher          697    France  Female   49   \n",
       "8850    15590201        Fiorentini          500     Spain  Female   50   \n",
       "8923    15570002        Burlingame          625   Germany  Female   55   \n",
       "9215    15624180          Genovesi          584   Germany  Female   37   \n",
       "9255    15622033      Rapuluchukwu          847   Germany  Female   41   \n",
       "9323    15815316           Kennedy          644    France    Male   50   \n",
       "9370    15732438             Cheng          561    France    Male   43   \n",
       "9411    15796115            Forbes          689   Germany  Female   40   \n",
       "9540    15634551        Williamson          727   Germany    Male   46   \n",
       "9565    15752294              Long          582    France  Female   38   \n",
       "\n",
       "      Tenure    Balance  NumOfProducts  HasCrCard  IsActiveMember  \\\n",
       "1254       1   46870.43              4          1               0   \n",
       "1469       1  120656.86              4          0               0   \n",
       "1488       6  121345.88              4          1               0   \n",
       "1701       9       0.00              4          1               1   \n",
       "1876       9  131607.28              4          0               1   \n",
       "2124       7  127785.17              4          0               0   \n",
       "2196       2  118079.47              4          1               1   \n",
       "2285       3  129370.91              4          1               1   \n",
       "2462       9  169406.33              4          1               1   \n",
       "2499       8   75150.34              4          0               1   \n",
       "2509      10       0.00              4          1               0   \n",
       "2617       6  152296.83              4          0               1   \n",
       "3152       9  137285.26              4          1               0   \n",
       "3365       5  130929.02              4          1               1   \n",
       "4013       1  162082.31              4          0               0   \n",
       "4014       2  117306.69              4          1               1   \n",
       "4166       5  174088.30              4          1               0   \n",
       "4260       2       0.00              4          0               1   \n",
       "4403       2  113641.49              4          1               0   \n",
       "4511       2       0.00              4          1               0   \n",
       "4516       8  111537.23              4          1               1   \n",
       "4606      10       0.00              4          1               1   \n",
       "4654       5  102088.68              4          0               0   \n",
       "4748       7  158411.95              4          1               1   \n",
       "4822       2       0.00              4          0               1   \n",
       "5010       7  121205.15              4          1               1   \n",
       "5137       6  144237.91              4          1               0   \n",
       "5386       9  118317.27              4          0               0   \n",
       "5700       3       0.00              4          1               1   \n",
       "5904       6  142084.04              4          1               0   \n",
       "6150       8  127205.32              4          1               0   \n",
       "6172       5   87612.64              4          1               1   \n",
       "6279       9  117294.12              4          1               0   \n",
       "6750       2       0.00              4          0               0   \n",
       "6875       7   72092.95              4          0               1   \n",
       "7257       5  139914.60              4          0               1   \n",
       "7457       2  116322.27              4          1               0   \n",
       "7567       5       0.00              4          0               0   \n",
       "7724       3  141252.18              4          0               1   \n",
       "7729       2  128548.49              4          1               0   \n",
       "8041       1       0.00              4          1               0   \n",
       "8590      10  108309.00              4          1               1   \n",
       "8683       7  195238.29              4          0               1   \n",
       "8850       5       0.00              4          1               1   \n",
       "8923       8  118772.71              4          0               0   \n",
       "9215      10  134171.80              4          1               1   \n",
       "9255       3  101543.51              4          1               0   \n",
       "9323       9   76817.00              4          1               0   \n",
       "9370       4       0.00              4          0               0   \n",
       "9411       4   78119.59              4          1               0   \n",
       "9540       3  115248.11              4          1               0   \n",
       "9565       9  135979.01              4          1               1   \n",
       "\n",
       "      EstimatedSalary  Exited  \n",
       "1254         31272.14       1  \n",
       "1469        166164.30       1  \n",
       "1488         41921.75       1  \n",
       "1701        194700.81       1  \n",
       "1876          6981.43       1  \n",
       "2124        184464.70       1  \n",
       "2196        143007.49       1  \n",
       "2285         47775.34       1  \n",
       "2462        147311.47       1  \n",
       "2499        131766.67       1  \n",
       "2509        179267.94       1  \n",
       "2617        108040.86       1  \n",
       "3152         77063.63       1  \n",
       "3365         28238.25       1  \n",
       "4013         27145.73       1  \n",
       "4014         26912.72       1  \n",
       "4166          5669.31       1  \n",
       "4260        106174.70       1  \n",
       "4403        115116.35       1  \n",
       "4511        101039.53       1  \n",
       "4516          9497.99       1  \n",
       "4606         49418.87       1  \n",
       "4654        187866.21       1  \n",
       "4748        117690.58       1  \n",
       "4822        179705.13       1  \n",
       "5010        168080.53       1  \n",
       "5137        157143.61       1  \n",
       "5386         78702.98       1  \n",
       "5700        197490.39       1  \n",
       "5904        188305.85       1  \n",
       "6150         93874.87       1  \n",
       "6172        107155.40       1  \n",
       "6279         94187.47       1  \n",
       "6750        111097.39       1  \n",
       "6875        113228.82       1  \n",
       "7257        129964.56       1  \n",
       "7457         35640.12       1  \n",
       "7567        117572.59       1  \n",
       "7724        128521.16       1  \n",
       "7729         75478.95       1  \n",
       "8041         88566.90       1  \n",
       "8590        137510.41       1  \n",
       "8683        131083.56       1  \n",
       "8850         83866.35       1  \n",
       "8923        135853.62       1  \n",
       "9215         70927.11       1  \n",
       "9255         16025.17       1  \n",
       "9323        196371.13       1  \n",
       "9370         18522.91       1  \n",
       "9411        119259.34       1  \n",
       "9540        130752.01       1  \n",
       "9565         76582.95       1  "
      ]
     },
     "execution_count": 28,
     "metadata": {},
     "output_type": "execute_result"
    }
   ],
   "source": [
    "df[df['NumOfProducts']>3]"
   ]
  },
  {
   "cell_type": "code",
   "execution_count": 29,
   "id": "236d5410",
   "metadata": {},
   "outputs": [],
   "source": [
    "df=df[df['NumOfProducts']<3]"
   ]
  },
  {
   "cell_type": "markdown",
   "id": "648aa557",
   "metadata": {},
   "source": [
    "### Boxplot of all numerical columns"
   ]
  },
  {
   "cell_type": "code",
   "execution_count": 30,
   "id": "1e3b5135",
   "metadata": {},
   "outputs": [
    {
     "data": {
      "image/png": "[encoded data removed]",
      "text/plain": [
       "<Figure size 720x576 with 10 Axes>"
      ]
     },
     "metadata": {
      "needs_background": "light"
     },
     "output_type": "display_data"
    }
   ],
   "source": [
    "plt.figure(figsize=(10,8))\n",
    "count=1\n",
    "for i in num_col:\n",
    "    plt.subplot(5,2,count)\n",
    "    sns.boxplot(x=df[i],data=df)\n",
    "    count+=1\n",
    "plt.show()"
   ]
  },
  {
   "cell_type": "markdown",
   "id": "d5a8e915",
   "metadata": {},
   "source": [
    "### Univariate distribution plot of  numerical columns"
   ]
  },
  {
   "cell_type": "code",
   "execution_count": 31,
   "id": "74d14c13",
   "metadata": {},
   "outputs": [
    {
     "data": {
      "image/png": "[encoded data removed]",
      "text/plain": [
       "<Figure size 720x576 with 10 Axes>"
      ]
     },
     "metadata": {
      "needs_background": "light"
     },
     "output_type": "display_data"
    }
   ],
   "source": [
    "plt.figure(figsize=(10,8))\n",
    "count=1\n",
    "for i in num_col:\n",
    "    plt.subplot(5,2,count)\n",
    "    sns.distplot(x=df[i])\n",
    "    count+=1\n",
    "plt.show()"
   ]
  },
  {
   "cell_type": "markdown",
   "id": "f1109106",
   "metadata": {},
   "source": [
    "### Univariate count plot of categorical columns"
   ]
  },
  {
   "cell_type": "code",
   "execution_count": 32,
   "id": "20190c23",
   "metadata": {},
   "outputs": [
    {
     "data": {
      "image/png": "[encoded data removed]",
      "text/plain": [
       "<Figure size 720x576 with 3 Axes>"
      ]
     },
     "metadata": {
      "needs_background": "light"
     },
     "output_type": "display_data"
    }
   ],
   "source": [
    "plt.figure(figsize=(10,8))\n",
    "count=1\n",
    "for i in cat_col:\n",
    "    plt.subplot(3,1,count)\n",
    "    sns.countplot(x=df[i],data=df)\n",
    "    count+=1\n",
    "plt.show()"
   ]
  },
  {
   "cell_type": "markdown",
   "id": "0db02f4d",
   "metadata": {},
   "source": [
    "### Multivariate plot - relationship between all numerical data"
   ]
  },
  {
   "cell_type": "code",
   "execution_count": 33,
   "id": "3d0378fb",
   "metadata": {},
   "outputs": [
    {
     "data": {
      "text/plain": [
       "<AxesSubplot:>"
      ]
     },
     "execution_count": 33,
     "metadata": {},
     "output_type": "execute_result"
    },
    {
     "data": {
      "image/png": "[encoded data removed]",
      "text/plain": [
       "<Figure size 720x576 with 2 Axes>"
      ]
     },
     "metadata": {
      "needs_background": "light"
     },
     "output_type": "display_data"
    }
   ],
   "source": [
    "plt.figure(figsize=(10,8))\n",
    "sns.heatmap(df.corr(),annot=True,fmt='.2f')"
   ]
  },
  {
   "cell_type": "markdown",
   "id": "5a2801be",
   "metadata": {},
   "source": [
    "### Encoding Gender categorical column into numerical 0 and 1"
   ]
  },
  {
   "cell_type": "code",
   "execution_count": 34,
   "id": "376ffa46",
   "metadata": {},
   "outputs": [
    {
     "data": {
      "text/plain": [
       "array(['Female', 'Male'], dtype=object)"
      ]
     },
     "execution_count": 34,
     "metadata": {},
     "output_type": "execute_result"
    }
   ],
   "source": [
    "df['Gender'].unique()"
   ]
  },
  {
   "cell_type": "code",
   "execution_count": 35,
   "id": "cd64614d",
   "metadata": {},
   "outputs": [],
   "source": [
    "df['Gender']=df['Gender'].map({'Male':0,'Female':1})"
   ]
  },
  {
   "cell_type": "code",
   "execution_count": 36,
   "id": "e4fba25c",
   "metadata": {},
   "outputs": [
    {
     "data": {
      "text/plain": [
       "Index(['Surname', 'Geography'], dtype='object')"
      ]
     },
     "execution_count": 36,
     "metadata": {},
     "output_type": "execute_result"
    }
   ],
   "source": [
    "cat_col=df.select_dtypes(include='O').columns\n",
    "cat_col"
   ]
  },
  {
   "cell_type": "markdown",
   "id": "e280f6d8",
   "metadata": {},
   "source": [
    "### Encoding categorical columns to numerical column using LabelEncoder"
   ]
  },
  {
   "cell_type": "code",
   "execution_count": 37,
   "id": "e13ebb43",
   "metadata": {},
   "outputs": [],
   "source": [
    "from sklearn.preprocessing import LabelEncoder"
   ]
  },
  {
   "cell_type": "code",
   "execution_count": 38,
   "id": "5dd97fb3",
   "metadata": {},
   "outputs": [],
   "source": [
    "le=LabelEncoder()"
   ]
  },
  {
   "cell_type": "code",
   "execution_count": 39,
   "id": "5e9c2daf",
   "metadata": {},
   "outputs": [],
   "source": [
    "for i in cat_col:\n",
    "    df[i]=le.fit_transform(df[i])"
   ]
  },
  {
   "cell_type": "markdown",
   "id": "8e74c259",
   "metadata": {},
   "source": [
    "### Taking X independent variable and y dependent variable"
   ]
  },
  {
   "cell_type": "code",
   "execution_count": 40,
   "id": "ad339de8",
   "metadata": {},
   "outputs": [],
   "source": [
    "X=df.iloc[:,:-1]"
   ]
  },
  {
   "cell_type": "code",
   "execution_count": 41,
   "id": "1c098f1d",
   "metadata": {},
   "outputs": [],
   "source": [
    "y=df.iloc[:,-1]"
   ]
  },
  {
   "cell_type": "code",
   "execution_count": 42,
   "id": "81951da5",
   "metadata": {},
   "outputs": [],
   "source": [
    "from sklearn.model_selection import train_test_split"
   ]
  },
  {
   "cell_type": "markdown",
   "id": "1cfb9bc7",
   "metadata": {},
   "source": [
    "### Providing data for training and testing"
   ]
  },
  {
   "cell_type": "code",
   "execution_count": 43,
   "id": "f5082f15",
   "metadata": {},
   "outputs": [],
   "source": [
    "X_train,X_test,y_train,y_test=train_test_split(X,y,test_size=0.20,random_state=1)"
   ]
  },
  {
   "cell_type": "code",
   "execution_count": 44,
   "id": "5fe5038a",
   "metadata": {},
   "outputs": [
    {
     "data": {
      "text/plain": [
       "(7140, 12)"
      ]
     },
     "execution_count": 44,
     "metadata": {},
     "output_type": "execute_result"
    }
   ],
   "source": [
    "X_train.shape"
   ]
  },
  {
   "cell_type": "code",
   "execution_count": 45,
   "id": "5fa827bc",
   "metadata": {},
   "outputs": [
    {
     "data": {
      "text/plain": [
       "(1785, 12)"
      ]
     },
     "execution_count": 45,
     "metadata": {},
     "output_type": "execute_result"
    }
   ],
   "source": [
    "X_test.shape"
   ]
  },
  {
   "cell_type": "code",
   "execution_count": 46,
   "id": "d6ebc73c",
   "metadata": {},
   "outputs": [
    {
     "data": {
      "text/plain": [
       "(7140,)"
      ]
     },
     "execution_count": 46,
     "metadata": {},
     "output_type": "execute_result"
    }
   ],
   "source": [
    "y_train.shape"
   ]
  },
  {
   "cell_type": "code",
   "execution_count": 47,
   "id": "b6873e33",
   "metadata": {},
   "outputs": [
    {
     "data": {
      "text/plain": [
       "(1785,)"
      ]
     },
     "execution_count": 47,
     "metadata": {},
     "output_type": "execute_result"
    }
   ],
   "source": [
    "y_test.shape"
   ]
  },
  {
   "cell_type": "markdown",
   "id": "bab8fbc8",
   "metadata": {},
   "source": [
    "### Feature Scaling -\n",
    "standardizing the data such that transformed feature has mean 0 and standard deviation of 1 using StandardScalar"
   ]
  },
  {
   "cell_type": "code",
   "execution_count": 48,
   "id": "6adc4ff9",
   "metadata": {},
   "outputs": [],
   "source": [
    "from sklearn.preprocessing import StandardScaler"
   ]
  },
  {
   "cell_type": "code",
   "execution_count": 49,
   "id": "02592ec6",
   "metadata": {},
   "outputs": [],
   "source": [
    "sc=StandardScaler()\n",
    "X_train=sc.fit_transform(X_train)\n",
    "X_test=sc.transform(X_test)"
   ]
  },
  {
   "cell_type": "code",
   "execution_count": 50,
   "id": "316da705",
   "metadata": {},
   "outputs": [
    {
     "data": {
      "text/plain": [
       "array([[ 0.22074189, -0.26346399, -0.61517658, ...,  0.65487198,\n",
       "         1.00056038, -0.83822764],\n",
       "       [-0.15576181, -0.43680568,  1.52254412, ...,  0.65487198,\n",
       "         1.00056038, -0.94092282],\n",
       "       [ 0.40204982, -1.15655052, -0.83002288, ...,  0.65487198,\n",
       "        -0.99943993, -1.57601266],\n",
       "       ...,\n",
       "       [-0.11528234,  0.2201342 , -0.1317724 , ...,  0.65487198,\n",
       "         1.00056038, -0.20545342],\n",
       "       [-0.92487186, -1.32109951,  0.01862001, ...,  0.65487198,\n",
       "        -0.99943993, -0.44770567],\n",
       "       [-0.2428498 ,  0.42236617,  0.77058207, ...,  0.65487198,\n",
       "        -0.99943993, -0.62943438]])"
      ]
     },
     "execution_count": 50,
     "metadata": {},
     "output_type": "execute_result"
    }
   ],
   "source": [
    "X_train"
   ]
  },
  {
   "cell_type": "code",
   "execution_count": 51,
   "id": "35c2a21d",
   "metadata": {},
   "outputs": [
    {
     "data": {
      "text/plain": [
       "array([[ 0.56888489, -0.30114697,  0.27643557, ...,  0.65487198,\n",
       "        -0.99943993,  1.50451162],\n",
       "       [ 0.27171037, -1.58362425,  1.28621319, ..., -1.52701601,\n",
       "        -0.99943993,  0.0229178 ],\n",
       "       [ 0.66211583,  1.01650109, -1.87202744, ..., -1.52701601,\n",
       "        -0.99943993,  1.41125859],\n",
       "       ...,\n",
       "       [ 0.72562097,  1.04413527, -0.12103008, ...,  0.65487198,\n",
       "        -0.99943993, -0.68867722],\n",
       "       [ 0.84425955, -1.1892091 ,  0.24420863, ...,  0.65487198,\n",
       "        -0.99943993, -1.17295176],\n",
       "       [ 1.14247878,  0.18873172, -0.67963047, ...,  0.65487198,\n",
       "         1.00056038,  0.7160371 ]])"
      ]
     },
     "execution_count": 51,
     "metadata": {},
     "output_type": "execute_result"
    }
   ],
   "source": [
    "X_test"
   ]
  },
  {
   "cell_type": "markdown",
   "id": "9cc00b88",
   "metadata": {},
   "source": [
    "### Model Building"
   ]
  },
  {
   "cell_type": "code",
   "execution_count": 52,
   "id": "2632af5f",
   "metadata": {},
   "outputs": [],
   "source": [
    "from sklearn.linear_model import LogisticRegression"
   ]
  },
  {
   "cell_type": "code",
   "execution_count": 53,
   "id": "a3613cec",
   "metadata": {},
   "outputs": [],
   "source": [
    "reg=LogisticRegression()\n",
    "reg.fit(X_train,y_train)\n",
    "y_pred_train=reg.predict(X_train)\n",
    "y_pred_test=reg.predict(X_test)"
   ]
  },
  {
   "cell_type": "markdown",
   "id": "24723b5e",
   "metadata": {},
   "source": [
    "### Evaluation"
   ]
  },
  {
   "cell_type": "code",
   "execution_count": 54,
   "id": "3e928957",
   "metadata": {},
   "outputs": [],
   "source": [
    "from sklearn.metrics import accuracy_score,confusion_matrix"
   ]
  },
  {
   "cell_type": "code",
   "execution_count": 55,
   "id": "921ba47e",
   "metadata": {},
   "outputs": [
    {
     "name": "stdout",
     "output_type": "stream",
     "text": [
      "Train Data\n",
      "[[5702  187]\n",
      " [ 861  390]]\n",
      "Test Data\n",
      "[[1454   46]\n",
      " [ 195   90]]\n"
     ]
    }
   ],
   "source": [
    "print('Train Data')\n",
    "print(confusion_matrix(y_train,y_pred_train))\n",
    "print('Test Data')\n",
    "print(confusion_matrix(y_test,y_pred_test))"
   ]
  },
  {
   "cell_type": "markdown",
   "id": "5abe3145",
   "metadata": {},
   "source": [
    "### Checking Accuracy"
   ]
  },
  {
   "cell_type": "code",
   "execution_count": 56,
   "id": "87b47396",
   "metadata": {},
   "outputs": [
    {
     "name": "stdout",
     "output_type": "stream",
     "text": [
      "Train Data\n",
      "0.8532212885154061\n",
      "Test Data\n",
      "0.8649859943977591\n"
     ]
    }
   ],
   "source": [
    "print('Train Data')\n",
    "print(accuracy_score(y_train,y_pred_train))\n",
    "print('Test Data')\n",
    "print(accuracy_score(y_test,y_pred_test))"
   ]
  },
  {
   "cell_type": "markdown",
   "id": "744128c5",
   "metadata": {},
   "source": [
    "### Predicting probability of training and testingdata"
   ]
  },
  {
   "cell_type": "code",
   "execution_count": 57,
   "id": "76d99aa8",
   "metadata": {},
   "outputs": [
    {
     "data": {
      "text/plain": [
       "array([0.08613312, 0.04662503, 0.05568472, ..., 0.01338133, 0.69888312,\n",
       "       0.66778746])"
      ]
     },
     "execution_count": 57,
     "metadata": {},
     "output_type": "execute_result"
    }
   ],
   "source": [
    "y_train_proba=reg.predict_proba(X_train)[:,1]\n",
    "y_train_proba"
   ]
  },
  {
   "cell_type": "code",
   "execution_count": 58,
   "id": "959ba6a6",
   "metadata": {},
   "outputs": [
    {
     "data": {
      "text/plain": [
       "array([0.18157576, 0.35212118, 0.03441637, ..., 0.52105319, 0.28944931,\n",
       "       0.04985502])"
      ]
     },
     "execution_count": 58,
     "metadata": {},
     "output_type": "execute_result"
    }
   ],
   "source": [
    "y_test_proba=reg.predict_proba(X_test)[:,1]\n",
    "y_test_proba"
   ]
  },
  {
   "cell_type": "markdown",
   "id": "51432d2a",
   "metadata": {},
   "source": [
    "### Classisication Report"
   ]
  },
  {
   "cell_type": "code",
   "execution_count": 59,
   "id": "16f49a76",
   "metadata": {},
   "outputs": [],
   "source": [
    "from sklearn.metrics import classification_report"
   ]
  },
  {
   "cell_type": "code",
   "execution_count": 60,
   "id": "72b7dbee",
   "metadata": {},
   "outputs": [
    {
     "name": "stdout",
     "output_type": "stream",
     "text": [
      "Train Data\n",
      "              precision    recall  f1-score   support\n",
      "\n",
      "           0       0.87      0.97      0.92      5889\n",
      "           1       0.68      0.31      0.43      1251\n",
      "\n",
      "    accuracy                           0.85      7140\n",
      "   macro avg       0.77      0.64      0.67      7140\n",
      "weighted avg       0.84      0.85      0.83      7140\n",
      "\n",
      "Test Data\n",
      "              precision    recall  f1-score   support\n",
      "\n",
      "           0       0.88      0.97      0.92      1500\n",
      "           1       0.66      0.32      0.43       285\n",
      "\n",
      "    accuracy                           0.86      1785\n",
      "   macro avg       0.77      0.64      0.68      1785\n",
      "weighted avg       0.85      0.86      0.84      1785\n",
      "\n"
     ]
    }
   ],
   "source": [
    "print('Train Data')\n",
    "print(classification_report(y_train,y_pred_train))\n",
    "print('Test Data')\n",
    "print(classification_report(y_test,y_pred_test))"
   ]
  },
  {
   "cell_type": "markdown",
   "id": "f5c9c22a",
   "metadata": {},
   "source": [
    "### PR Curve"
   ]
  },
  {
   "cell_type": "code",
   "execution_count": 61,
   "id": "50726de6",
   "metadata": {},
   "outputs": [],
   "source": [
    "from sklearn.metrics import precision_recall_curve"
   ]
  },
  {
   "cell_type": "code",
   "execution_count": 62,
   "id": "43427972",
   "metadata": {},
   "outputs": [],
   "source": [
    "p,r,th=precision_recall_curve(y_train,y_train_proba)"
   ]
  },
  {
   "cell_type": "code",
   "execution_count": 63,
   "id": "511e658f",
   "metadata": {},
   "outputs": [
    {
     "data": {
      "text/plain": [
       "(7141,)"
      ]
     },
     "execution_count": 63,
     "metadata": {},
     "output_type": "execute_result"
    }
   ],
   "source": [
    "p.shape"
   ]
  },
  {
   "cell_type": "code",
   "execution_count": 64,
   "id": "4ab2f162",
   "metadata": {},
   "outputs": [
    {
     "data": {
      "text/plain": [
       "(7141,)"
      ]
     },
     "execution_count": 64,
     "metadata": {},
     "output_type": "execute_result"
    }
   ],
   "source": [
    "r.shape"
   ]
  },
  {
   "cell_type": "code",
   "execution_count": 65,
   "id": "2c5cf3df",
   "metadata": {},
   "outputs": [
    {
     "data": {
      "text/plain": [
       "(7140,)"
      ]
     },
     "execution_count": 65,
     "metadata": {},
     "output_type": "execute_result"
    }
   ],
   "source": [
    "th.shape"
   ]
  },
  {
   "cell_type": "code",
   "execution_count": 66,
   "id": "352cc96f",
   "metadata": {},
   "outputs": [
    {
     "data": {
      "image/png": "[encoded data removed]",
      "text/plain": [
       "<Figure size 432x432 with 1 Axes>"
      ]
     },
     "metadata": {
      "needs_background": "light"
     },
     "output_type": "display_data"
    }
   ],
   "source": [
    "plt.figure(figsize=(6,6))\n",
    "sns.lineplot(x=th,y=p[:-1],label='precision')\n",
    "sns.lineplot(x=th,y=r[:-1],label='Recall')\n",
    "plt.title('Precision Recall Curve')\n",
    "plt.axvline(0.335)\n",
    "plt.show()"
   ]
  },
  {
   "cell_type": "markdown",
   "id": "8d40d567",
   "metadata": {},
   "source": [
    "### Confusion Matrix"
   ]
  },
  {
   "cell_type": "code",
   "execution_count": 67,
   "id": "5895ffdf",
   "metadata": {},
   "outputs": [],
   "source": [
    "from sklearn.metrics import accuracy_score,recall_score,precision_score,roc_auc_score,f1_score "
   ]
  },
  {
   "cell_type": "code",
   "execution_count": 68,
   "id": "0d9a9d77",
   "metadata": {},
   "outputs": [],
   "source": [
    "def metrics(y_actual,y_proba,th):\n",
    "    y_pred_temp=[1 if p>th else 0 for p in y_proba]\n",
    "    accuracy=accuracy_score(y_actual,y_pred_temp)\n",
    "    recall=recall_score(y_actual,y_pred_temp)\n",
    "    precision=precision_score(y_actual,y_pred_temp)\n",
    "    f1=f1_score(y_actual,y_pred_temp)\n",
    "    roc_auc=roc_auc_score(y_actual,y_pred_temp)\n",
    "    return {\"Accuracy\":round(accuracy,2),'Recall':round(recall,2),'Precision':round(precision,2),'F1_Score':round(f1,2),'ROC_AUC':round(roc_auc,2)}"
   ]
  },
  {
   "cell_type": "code",
   "execution_count": 69,
   "id": "29f6a760",
   "metadata": {},
   "outputs": [
    {
     "name": "stdout",
     "output_type": "stream",
     "text": [
      "Train Data\n",
      "{'Accuracy': 0.83, 'Recall': 0.53, 'Precision': 0.53, 'F1_Score': 0.53, 'ROC_AUC': 0.71}\n",
      "Test Data\n",
      "{'Accuracy': 0.84, 'Recall': 0.5, 'Precision': 0.5, 'F1_Score': 0.5, 'ROC_AUC': 0.7}\n"
     ]
    }
   ],
   "source": [
    "print(\"Train Data\")\n",
    "print(metrics(y_train,y_train_proba,0.335))\n",
    "print(\"Test Data\")\n",
    "print(metrics(y_test,y_test_proba,0.335))"
   ]
  },
  {
   "cell_type": "markdown",
   "id": "fded8189",
   "metadata": {},
   "source": [
    "### ROC-AUC Curve"
   ]
  },
  {
   "cell_type": "code",
   "execution_count": 70,
   "id": "08d58dd1",
   "metadata": {},
   "outputs": [],
   "source": [
    "from sklearn.metrics import roc_curve,auc"
   ]
  },
  {
   "cell_type": "code",
   "execution_count": 71,
   "id": "c9124d0a",
   "metadata": {},
   "outputs": [],
   "source": [
    "fpr,tpr,th=roc_curve(y_train,y_train_proba)"
   ]
  },
  {
   "cell_type": "code",
   "execution_count": 72,
   "id": "040bc27a",
   "metadata": {},
   "outputs": [
    {
     "data": {
      "image/png": "[encoded data removed]",
      "text/plain": [
       "<Figure size 432x432 with 1 Axes>"
      ]
     },
     "metadata": {
      "needs_background": "light"
     },
     "output_type": "display_data"
    }
   ],
   "source": [
    "plt.figure(figsize=(6,6))\n",
    "sns.lineplot(x=fpr,y=tpr)\n",
    "sns.lineplot(x=[0.0,1],y=[0.0,1],color='red',linestyle='--')\n",
    "plt.xlabel(\"FPR\")\n",
    "plt.ylabel(\"TPR\")\n",
    "plt.title('ROC AUC Curve')\n",
    "plt.show()"
   ]
  },
  {
   "cell_type": "code",
   "execution_count": 73,
   "id": "71481b30",
   "metadata": {},
   "outputs": [
    {
     "data": {
      "text/plain": [
       "0.8164447555557185"
      ]
     },
     "execution_count": 73,
     "metadata": {},
     "output_type": "execute_result"
    }
   ],
   "source": [
    "auc(fpr,tpr)"
   ]
  }
 ],
 "metadata": {
  "kernelspec": {
   "display_name": "Python 3 (ipykernel)",
   "language": "python",
   "name": "python3"
  },
  "language_info": {
   "codemirror_mode": {
    "name": "ipython",
    "version": 3
   },
   "file_extension": ".py",
   "mimetype": "text/x-python",
   "name": "python",
   "nbconvert_exporter": "python",
   "pygments_lexer": "ipython3",
   "version": "3.9.7"
  }
 },
 "nbformat": 4,
 "nbformat_minor": 5
}
