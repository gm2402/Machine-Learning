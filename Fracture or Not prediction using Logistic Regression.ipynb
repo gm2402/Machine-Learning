{
 "cells": [
  {
   "cell_type": "markdown",
   "metadata": {},
   "source": [
    "## GAUTAM MISHRA - Logistic Regression"
   ]
  },
  {
   "cell_type": "code",
   "execution_count": 2,
   "metadata": {},
   "outputs": [],
   "source": [
    "import numpy as np\n",
    "import pandas as pd\n",
    "import matplotlib.pyplot as plt\n",
    "import seaborn as sns\n",
    "import warnings\n",
    "warnings.filterwarnings('ignore')"
   ]
  },
  {
   "cell_type": "code",
   "execution_count": 3,
   "metadata": {},
   "outputs": [],
   "source": [
    "df=pd.read_csv('bmd_logistic_regression.csv')"
   ]
  },
  {
   "cell_type": "code",
   "execution_count": 4,
   "metadata": {},
   "outputs": [
    {
     "data": {
      "text/html": [
       "<div>\n",
       "<style scoped>\n",
       "    .dataframe tbody tr th:only-of-type {\n",
       "        vertical-align: middle;\n",
       "    }\n",
       "\n",
       "    .dataframe tbody tr th {\n",
       "        vertical-align: top;\n",
       "    }\n",
       "\n",
       "    .dataframe thead th {\n",
       "        text-align: right;\n",
       "    }\n",
       "</style>\n",
       "<table border=\"1\" class=\"dataframe\">\n",
       "  <thead>\n",
       "    <tr style=\"text-align: right;\">\n",
       "      <th></th>\n",
       "      <th>id</th>\n",
       "      <th>age</th>\n",
       "      <th>sex</th>\n",
       "      <th>fracture</th>\n",
       "      <th>weight_kg</th>\n",
       "      <th>height_cm</th>\n",
       "      <th>medication</th>\n",
       "      <th>waiting_time</th>\n",
       "      <th>bmd</th>\n",
       "    </tr>\n",
       "  </thead>\n",
       "  <tbody>\n",
       "    <tr>\n",
       "      <td>0</td>\n",
       "      <td>469</td>\n",
       "      <td>57.052768</td>\n",
       "      <td>F</td>\n",
       "      <td>no fracture</td>\n",
       "      <td>64.0</td>\n",
       "      <td>155.5</td>\n",
       "      <td>Anticonvulsant</td>\n",
       "      <td>18</td>\n",
       "      <td>0.8793</td>\n",
       "    </tr>\n",
       "    <tr>\n",
       "      <td>1</td>\n",
       "      <td>8724</td>\n",
       "      <td>75.741225</td>\n",
       "      <td>F</td>\n",
       "      <td>no fracture</td>\n",
       "      <td>78.0</td>\n",
       "      <td>162.0</td>\n",
       "      <td>No medication</td>\n",
       "      <td>56</td>\n",
       "      <td>0.7946</td>\n",
       "    </tr>\n",
       "    <tr>\n",
       "      <td>2</td>\n",
       "      <td>6736</td>\n",
       "      <td>70.778900</td>\n",
       "      <td>M</td>\n",
       "      <td>no fracture</td>\n",
       "      <td>73.0</td>\n",
       "      <td>170.5</td>\n",
       "      <td>No medication</td>\n",
       "      <td>10</td>\n",
       "      <td>0.9067</td>\n",
       "    </tr>\n",
       "    <tr>\n",
       "      <td>3</td>\n",
       "      <td>24180</td>\n",
       "      <td>78.247175</td>\n",
       "      <td>F</td>\n",
       "      <td>no fracture</td>\n",
       "      <td>60.0</td>\n",
       "      <td>148.0</td>\n",
       "      <td>No medication</td>\n",
       "      <td>14</td>\n",
       "      <td>0.7112</td>\n",
       "    </tr>\n",
       "    <tr>\n",
       "      <td>4</td>\n",
       "      <td>17072</td>\n",
       "      <td>54.191877</td>\n",
       "      <td>M</td>\n",
       "      <td>no fracture</td>\n",
       "      <td>55.0</td>\n",
       "      <td>161.0</td>\n",
       "      <td>No medication</td>\n",
       "      <td>20</td>\n",
       "      <td>0.7909</td>\n",
       "    </tr>\n",
       "  </tbody>\n",
       "</table>\n",
       "</div>"
      ],
      "text/plain": [
       "      id        age sex     fracture  weight_kg  height_cm      medication  \\\n",
       "0    469  57.052768   F  no fracture       64.0      155.5  Anticonvulsant   \n",
       "1   8724  75.741225   F  no fracture       78.0      162.0   No medication   \n",
       "2   6736  70.778900   M  no fracture       73.0      170.5   No medication   \n",
       "3  24180  78.247175   F  no fracture       60.0      148.0   No medication   \n",
       "4  17072  54.191877   M  no fracture       55.0      161.0   No medication   \n",
       "\n",
       "   waiting_time     bmd  \n",
       "0            18  0.8793  \n",
       "1            56  0.7946  \n",
       "2            10  0.9067  \n",
       "3            14  0.7112  \n",
       "4            20  0.7909  "
      ]
     },
     "execution_count": 4,
     "metadata": {},
     "output_type": "execute_result"
    }
   ],
   "source": [
    "df.head()"
   ]
  },
  {
   "cell_type": "markdown",
   "metadata": {},
   "source": [
    "###### Head gives top 5 record"
   ]
  },
  {
   "cell_type": "code",
   "execution_count": 5,
   "metadata": {},
   "outputs": [
    {
     "name": "stdout",
     "output_type": "stream",
     "text": [
      "<class 'pandas.core.frame.DataFrame'>\n",
      "RangeIndex: 169 entries, 0 to 168\n",
      "Data columns (total 9 columns):\n",
      "id              169 non-null int64\n",
      "age             169 non-null float64\n",
      "sex             169 non-null object\n",
      "fracture        169 non-null object\n",
      "weight_kg       169 non-null float64\n",
      "height_cm       169 non-null float64\n",
      "medication      169 non-null object\n",
      "waiting_time    169 non-null int64\n",
      "bmd             169 non-null float64\n",
      "dtypes: float64(4), int64(2), object(3)\n",
      "memory usage: 12.0+ KB\n"
     ]
    }
   ],
   "source": [
    "df.info()"
   ]
  },
  {
   "cell_type": "markdown",
   "metadata": {},
   "source": [
    "###### This data contains 169 rowa and 9 columns with no null values"
   ]
  },
  {
   "cell_type": "code",
   "execution_count": 6,
   "metadata": {},
   "outputs": [],
   "source": [
    "df.drop('id',axis=1,inplace=True)"
   ]
  },
  {
   "cell_type": "markdown",
   "metadata": {},
   "source": [
    "###### We can drop the id column as we already have row id"
   ]
  },
  {
   "cell_type": "code",
   "execution_count": 7,
   "metadata": {},
   "outputs": [
    {
     "data": {
      "text/plain": [
       "age             float64\n",
       "sex              object\n",
       "fracture         object\n",
       "weight_kg       float64\n",
       "height_cm       float64\n",
       "medication       object\n",
       "waiting_time      int64\n",
       "bmd             float64\n",
       "dtype: object"
      ]
     },
     "execution_count": 7,
     "metadata": {},
     "output_type": "execute_result"
    }
   ],
   "source": [
    "df.dtypes"
   ]
  },
  {
   "cell_type": "markdown",
   "metadata": {},
   "source": [
    "###### The above dataset contain 4 float,1 int and 3 object column"
   ]
  },
  {
   "cell_type": "code",
   "execution_count": 8,
   "metadata": {},
   "outputs": [
    {
     "data": {
      "text/html": [
       "<div>\n",
       "<style scoped>\n",
       "    .dataframe tbody tr th:only-of-type {\n",
       "        vertical-align: middle;\n",
       "    }\n",
       "\n",
       "    .dataframe tbody tr th {\n",
       "        vertical-align: top;\n",
       "    }\n",
       "\n",
       "    .dataframe thead th {\n",
       "        text-align: right;\n",
       "    }\n",
       "</style>\n",
       "<table border=\"1\" class=\"dataframe\">\n",
       "  <thead>\n",
       "    <tr style=\"text-align: right;\">\n",
       "      <th></th>\n",
       "      <th>age</th>\n",
       "      <th>weight_kg</th>\n",
       "      <th>height_cm</th>\n",
       "      <th>waiting_time</th>\n",
       "      <th>bmd</th>\n",
       "    </tr>\n",
       "  </thead>\n",
       "  <tbody>\n",
       "    <tr>\n",
       "      <td>count</td>\n",
       "      <td>169.000000</td>\n",
       "      <td>169.000000</td>\n",
       "      <td>169.000000</td>\n",
       "      <td>169.000000</td>\n",
       "      <td>169.000000</td>\n",
       "    </tr>\n",
       "    <tr>\n",
       "      <td>mean</td>\n",
       "      <td>63.631531</td>\n",
       "      <td>64.665680</td>\n",
       "      <td>160.254438</td>\n",
       "      <td>19.739645</td>\n",
       "      <td>0.783104</td>\n",
       "    </tr>\n",
       "    <tr>\n",
       "      <td>std</td>\n",
       "      <td>12.356936</td>\n",
       "      <td>11.537171</td>\n",
       "      <td>7.928272</td>\n",
       "      <td>15.800570</td>\n",
       "      <td>0.166529</td>\n",
       "    </tr>\n",
       "    <tr>\n",
       "      <td>min</td>\n",
       "      <td>35.814058</td>\n",
       "      <td>36.000000</td>\n",
       "      <td>142.000000</td>\n",
       "      <td>5.000000</td>\n",
       "      <td>0.407600</td>\n",
       "    </tr>\n",
       "    <tr>\n",
       "      <td>25%</td>\n",
       "      <td>54.424211</td>\n",
       "      <td>56.000000</td>\n",
       "      <td>154.000000</td>\n",
       "      <td>9.000000</td>\n",
       "      <td>0.670800</td>\n",
       "    </tr>\n",
       "    <tr>\n",
       "      <td>50%</td>\n",
       "      <td>63.487837</td>\n",
       "      <td>64.500000</td>\n",
       "      <td>160.500000</td>\n",
       "      <td>14.000000</td>\n",
       "      <td>0.786100</td>\n",
       "    </tr>\n",
       "    <tr>\n",
       "      <td>75%</td>\n",
       "      <td>72.080558</td>\n",
       "      <td>73.000000</td>\n",
       "      <td>166.000000</td>\n",
       "      <td>24.000000</td>\n",
       "      <td>0.888800</td>\n",
       "    </tr>\n",
       "    <tr>\n",
       "      <td>max</td>\n",
       "      <td>88.753795</td>\n",
       "      <td>96.000000</td>\n",
       "      <td>177.000000</td>\n",
       "      <td>96.000000</td>\n",
       "      <td>1.362400</td>\n",
       "    </tr>\n",
       "  </tbody>\n",
       "</table>\n",
       "</div>"
      ],
      "text/plain": [
       "              age   weight_kg   height_cm  waiting_time         bmd\n",
       "count  169.000000  169.000000  169.000000    169.000000  169.000000\n",
       "mean    63.631531   64.665680  160.254438     19.739645    0.783104\n",
       "std     12.356936   11.537171    7.928272     15.800570    0.166529\n",
       "min     35.814058   36.000000  142.000000      5.000000    0.407600\n",
       "25%     54.424211   56.000000  154.000000      9.000000    0.670800\n",
       "50%     63.487837   64.500000  160.500000     14.000000    0.786100\n",
       "75%     72.080558   73.000000  166.000000     24.000000    0.888800\n",
       "max     88.753795   96.000000  177.000000     96.000000    1.362400"
      ]
     },
     "execution_count": 8,
     "metadata": {},
     "output_type": "execute_result"
    }
   ],
   "source": [
    "df.describe()"
   ]
  },
  {
   "cell_type": "markdown",
   "metadata": {},
   "source": [
    "###### The column age,weight_kg,height_cm and bmd has mean=median i.e. the data is normally distributed"
   ]
  },
  {
   "cell_type": "markdown",
   "metadata": {},
   "source": [
    "### Handling Age column"
   ]
  },
  {
   "cell_type": "code",
   "execution_count": 9,
   "metadata": {},
   "outputs": [
    {
     "data": {
      "text/plain": [
       "array([57.05276775, 75.7412248 , 70.7789    , 78.24717531, 54.1918766 ,\n",
       "       77.17775151, 56.18061769, 49.91613988, 68.40840332, 66.25664804,\n",
       "       45.86658172, 73.97047074, 60.55541712, 64.2131031 , 53.3954402 ,\n",
       "       66.82546218, 57.93459324, 40.23236742, 69.04817915, 57.80229798,\n",
       "       58.19132915, 46.08154976, 65.79535204, 60.18946129, 54.99218408,\n",
       "       51.43071736, 70.19857261, 77.15502036, 70.42187319, 75.01547985,\n",
       "       54.91253353, 70.0285031 , 48.81687141, 49.78743656, 41.41761507,\n",
       "       67.92438462, 60.8313568 , 62.71790768, 69.65373122, 81.47969034,\n",
       "       73.23042708, 54.42421077, 66.64486617, 83.84773532, 67.65108105,\n",
       "       82.42315923, 54.23390445, 42.81703317, 69.72844532, 76.8639147 ,\n",
       "       43.45071208, 67.57338008, 56.20812741, 88.7537953 , 70.40792405,\n",
       "       62.06523735, 61.18467166, 48.28948823, 49.73132379, 36.64831103,\n",
       "       63.67318436, 74.17835572, 63.28728844, 56.95872053, 46.56490164,\n",
       "       47.02465066, 84.78739433, 54.40617797, 51.59653972, 61.17008505,\n",
       "       73.94030609, 54.77277445, 66.67269226, 59.46131701, 50.36051644,\n",
       "       55.41170957, 56.54581828, 63.48783737, 72.08055823, 58.26221496,\n",
       "       58.67087154, 58.33505192, 39.25494707, 60.23658177, 63.76954463,\n",
       "       44.23967859, 79.39970672, 65.13435742, 66.55921764, 35.81405763,\n",
       "       69.08663791, 59.26117883, 59.70722073, 61.60041411, 69.23719028,\n",
       "       52.32252245, 72.77238723, 60.22138607, 58.81240985, 54.49762635,\n",
       "       52.90099358, 63.02469707, 64.0659499 , 52.79292063, 49.20966328,\n",
       "       68.57130833, 77.9064001 , 68.55087894, 44.68312684, 67.92552839,\n",
       "       68.06825266, 52.47831105, 60.88359606, 43.46317104, 57.56917982,\n",
       "       56.96445803, 52.24655176, 56.93126646, 66.33562311, 83.09364681,\n",
       "       81.48136958, 53.53171717, 69.21393466, 73.06759806, 87.93494224,\n",
       "       77.76867742, 81.08738516, 53.7692897 , 80.77319346, 76.94473691,\n",
       "       82.40717913, 57.58119772, 77.81962254, 76.74551614, 54.15273476,\n",
       "       72.27013664, 68.01774844, 88.02415052, 69.97770123, 71.17212415,\n",
       "       70.94756425, 74.7968828 , 83.21982284, 81.97955903, 85.90159463,\n",
       "       71.47172115, 76.73260358, 83.67835729, 85.57631118, 70.81094137,\n",
       "       68.68328771, 86.85986938, 80.06020512, 61.64450359, 66.80418542,\n",
       "       37.46199496, 63.4419661 , 51.04837034, 48.52365084, 41.35119985,\n",
       "       84.72176364, 59.07608201, 50.27605888, 67.25216263, 77.98254308,\n",
       "       50.28530296, 46.35972067, 54.78836776, 69.99482235])"
      ]
     },
     "execution_count": 9,
     "metadata": {},
     "output_type": "execute_result"
    }
   ],
   "source": [
    "df['age'].unique()"
   ]
  },
  {
   "cell_type": "markdown",
   "metadata": {},
   "source": [
    "###### Age column contains value in float so we need to convert it into int as age cannot be float"
   ]
  },
  {
   "cell_type": "code",
   "execution_count": 10,
   "metadata": {},
   "outputs": [
    {
     "data": {
      "text/plain": [
       "0      57.052768\n",
       "1      75.741225\n",
       "2      70.778900\n",
       "3      78.247175\n",
       "4      54.191877\n",
       "         ...    \n",
       "164    77.982543\n",
       "165    50.285303\n",
       "166    46.359721\n",
       "167    54.788368\n",
       "168    69.994822\n",
       "Name: age, Length: 169, dtype: float64"
      ]
     },
     "execution_count": 10,
     "metadata": {},
     "output_type": "execute_result"
    }
   ],
   "source": [
    "df['age']"
   ]
  },
  {
   "cell_type": "code",
   "execution_count": 11,
   "metadata": {},
   "outputs": [],
   "source": [
    "df['age']=df['age'].astype('int')"
   ]
  },
  {
   "cell_type": "code",
   "execution_count": 12,
   "metadata": {},
   "outputs": [
    {
     "data": {
      "text/plain": [
       "dtype('int32')"
      ]
     },
     "execution_count": 12,
     "metadata": {},
     "output_type": "execute_result"
    }
   ],
   "source": [
    "df['age'].dtypes"
   ]
  },
  {
   "cell_type": "code",
   "execution_count": 13,
   "metadata": {},
   "outputs": [
    {
     "data": {
      "text/plain": [
       "<matplotlib.axes._subplots.AxesSubplot at 0x1e77a6c3488>"
      ]
     },
     "execution_count": 13,
     "metadata": {},
     "output_type": "execute_result"
    },
    {
     "data": {
      "image/png": "[encoded data removed]",
      "text/plain": [
       "<Figure size 432x288 with 1 Axes>"
      ]
     },
     "metadata": {
      "needs_background": "light"
     },
     "output_type": "display_data"
    }
   ],
   "source": [
    "sns.boxplot(df['age'])"
   ]
  },
  {
   "cell_type": "code",
   "execution_count": 14,
   "metadata": {},
   "outputs": [
    {
     "data": {
      "text/plain": [
       "<matplotlib.axes._subplots.AxesSubplot at 0x1e77c011ec8>"
      ]
     },
     "execution_count": 14,
     "metadata": {},
     "output_type": "execute_result"
    },
    {
     "data": {
      "image/png": "[encoded data removed]",
      "text/plain": [
       "<Figure size 432x288 with 1 Axes>"
      ]
     },
     "metadata": {
      "needs_background": "light"
     },
     "output_type": "display_data"
    }
   ],
   "source": [
    "sns.distplot(df['age'])"
   ]
  },
  {
   "cell_type": "markdown",
   "metadata": {},
   "source": [
    "###### The Age column is normally distributed"
   ]
  },
  {
   "cell_type": "markdown",
   "metadata": {},
   "source": [
    "###### Handling other columns"
   ]
  },
  {
   "cell_type": "code",
   "execution_count": 15,
   "metadata": {},
   "outputs": [
    {
     "data": {
      "text/plain": [
       "array(['F', 'M'], dtype=object)"
      ]
     },
     "execution_count": 15,
     "metadata": {},
     "output_type": "execute_result"
    }
   ],
   "source": [
    "df['sex'].unique()"
   ]
  },
  {
   "cell_type": "code",
   "execution_count": 16,
   "metadata": {},
   "outputs": [
    {
     "data": {
      "text/plain": [
       "array(['no fracture', 'fracture'], dtype=object)"
      ]
     },
     "execution_count": 16,
     "metadata": {},
     "output_type": "execute_result"
    }
   ],
   "source": [
    "df['fracture'].unique()"
   ]
  },
  {
   "cell_type": "code",
   "execution_count": 17,
   "metadata": {},
   "outputs": [
    {
     "data": {
      "text/plain": [
       "array([64. , 78. , 73. , 60. , 55. , 65. , 77. , 59. , 72. , 62. , 68. ,\n",
       "       76. , 90. , 70. , 67. , 66. , 50. , 74. , 75. , 67.5, 69. , 96. ,\n",
       "       46. , 80. , 52. , 71. , 79. , 56. , 84. , 88. , 39. , 58. , 85. ,\n",
       "       54. , 63. , 47. , 82. , 51. , 91. , 81. , 94. , 57. , 61. , 48. ,\n",
       "       49. , 64.5, 40. , 37. , 36. , 41. , 45. , 68.5])"
      ]
     },
     "execution_count": 17,
     "metadata": {},
     "output_type": "execute_result"
    }
   ],
   "source": [
    "df['weight_kg'].unique()"
   ]
  },
  {
   "cell_type": "code",
   "execution_count": 18,
   "metadata": {},
   "outputs": [
    {
     "data": {
      "text/plain": [
       "<matplotlib.axes._subplots.AxesSubplot at 0x1e77c089388>"
      ]
     },
     "execution_count": 18,
     "metadata": {},
     "output_type": "execute_result"
    },
    {
     "data": {
      "image/png": "[encoded data removed]",
      "text/plain": [
       "<Figure size 432x288 with 1 Axes>"
      ]
     },
     "metadata": {
      "needs_background": "light"
     },
     "output_type": "display_data"
    }
   ],
   "source": [
    "sns.boxplot(df['weight_kg'])"
   ]
  },
  {
   "cell_type": "code",
   "execution_count": 19,
   "metadata": {},
   "outputs": [
    {
     "data": {
      "text/plain": [
       "<matplotlib.axes._subplots.AxesSubplot at 0x1e77c383f88>"
      ]
     },
     "execution_count": 19,
     "metadata": {},
     "output_type": "execute_result"
    },
    {
     "data": {
      "image/png": "[encoded data removed]",
      "text/plain": [
       "<Figure size 432x288 with 1 Axes>"
      ]
     },
     "metadata": {
      "needs_background": "light"
     },
     "output_type": "display_data"
    }
   ],
   "source": [
    "sns.distplot(df['weight_kg'])"
   ]
  },
  {
   "cell_type": "markdown",
   "metadata": {},
   "source": [
    "###### Weight is normally distributed"
   ]
  },
  {
   "cell_type": "code",
   "execution_count": 20,
   "metadata": {},
   "outputs": [
    {
     "data": {
      "text/plain": [
       "array([155.5, 162. , 170.5, 148. , 161. , 168. , 159. , 150. , 167. ,\n",
       "       159.5, 169. , 164. , 155. , 175. , 162.5, 171. , 160. , 165. ,\n",
       "       154. , 152. , 145. , 153.5, 172. , 166. , 173.5, 170. , 153. ,\n",
       "       163. , 156. , 151. , 164.5, 150.5, 148.5, 149. , 160.5, 158. ,\n",
       "       165.5, 157. , 161.5, 176. , 177. , 168.5, 149.5, 175.5, 144. ,\n",
       "       166.5, 163.5, 156.5, 146. , 151.5, 142. , 174. ])"
      ]
     },
     "execution_count": 20,
     "metadata": {},
     "output_type": "execute_result"
    }
   ],
   "source": [
    "df['height_cm'].unique()"
   ]
  },
  {
   "cell_type": "code",
   "execution_count": 21,
   "metadata": {},
   "outputs": [
    {
     "data": {
      "text/plain": [
       "<matplotlib.axes._subplots.AxesSubplot at 0x1e77c409bc8>"
      ]
     },
     "execution_count": 21,
     "metadata": {},
     "output_type": "execute_result"
    },
    {
     "data": {
      "image/png": "[encoded data removed]",
      "text/plain": [
       "<Figure size 432x288 with 1 Axes>"
      ]
     },
     "metadata": {
      "needs_background": "light"
     },
     "output_type": "display_data"
    }
   ],
   "source": [
    "sns.boxplot(df['height_cm'])"
   ]
  },
  {
   "cell_type": "code",
   "execution_count": 22,
   "metadata": {},
   "outputs": [
    {
     "data": {
      "text/plain": [
       "<matplotlib.axes._subplots.AxesSubplot at 0x1e77c374c48>"
      ]
     },
     "execution_count": 22,
     "metadata": {},
     "output_type": "execute_result"
    },
    {
     "data": {
      "image/png": "[encoded data removed]",
      "text/plain": [
       "<Figure size 432x288 with 1 Axes>"
      ]
     },
     "metadata": {
      "needs_background": "light"
     },
     "output_type": "display_data"
    }
   ],
   "source": [
    "sns.distplot(df['height_cm'])"
   ]
  },
  {
   "cell_type": "markdown",
   "metadata": {},
   "source": [
    "###### Height is normally distributed"
   ]
  },
  {
   "cell_type": "code",
   "execution_count": 23,
   "metadata": {},
   "outputs": [
    {
     "data": {
      "text/plain": [
       "array(['Anticonvulsant', 'No medication', 'Glucocorticoids'], dtype=object)"
      ]
     },
     "execution_count": 23,
     "metadata": {},
     "output_type": "execute_result"
    }
   ],
   "source": [
    "df['medication'].unique()"
   ]
  },
  {
   "cell_type": "code",
   "execution_count": 24,
   "metadata": {},
   "outputs": [
    {
     "data": {
      "text/plain": [
       "array([18, 56, 10, 14, 20,  7, 26,  9,  6, 12,  5, 11, 28, 73, 13,  8, 21,\n",
       "       37, 22, 64, 15, 17, 33, 23, 89, 25, 16, 19, 60, 34, 27, 24, 38, 29,\n",
       "       39, 47, 30, 51, 40, 32, 31, 69, 35, 59, 96, 48, 49], dtype=int64)"
      ]
     },
     "execution_count": 24,
     "metadata": {},
     "output_type": "execute_result"
    }
   ],
   "source": [
    "df['waiting_time'].unique()"
   ]
  },
  {
   "cell_type": "code",
   "execution_count": 25,
   "metadata": {},
   "outputs": [
    {
     "data": {
      "text/plain": [
       "<matplotlib.axes._subplots.AxesSubplot at 0x1e77c409cc8>"
      ]
     },
     "execution_count": 25,
     "metadata": {},
     "output_type": "execute_result"
    },
    {
     "data": {
      "image/png": "[encoded data removed]",
      "text/plain": [
       "<Figure size 432x288 with 1 Axes>"
      ]
     },
     "metadata": {
      "needs_background": "light"
     },
     "output_type": "display_data"
    }
   ],
   "source": [
    "sns.boxplot(df['waiting_time'])"
   ]
  },
  {
   "cell_type": "markdown",
   "metadata": {},
   "source": [
    "###### The waiting_time column contains null values"
   ]
  },
  {
   "cell_type": "code",
   "execution_count": 26,
   "metadata": {},
   "outputs": [
    {
     "data": {
      "text/plain": [
       "<matplotlib.axes._subplots.AxesSubplot at 0x1e77c568408>"
      ]
     },
     "execution_count": 26,
     "metadata": {},
     "output_type": "execute_result"
    },
    {
     "data": {
      "image/png": "[encoded data removed]",
      "text/plain": [
       "<Figure size 432x288 with 1 Axes>"
      ]
     },
     "metadata": {
      "needs_background": "light"
     },
     "output_type": "display_data"
    }
   ],
   "source": [
    "sns.distplot(df['waiting_time'])"
   ]
  },
  {
   "cell_type": "markdown",
   "metadata": {},
   "source": [
    "###### Waiting_time column is right skewed data"
   ]
  },
  {
   "cell_type": "markdown",
   "metadata": {},
   "source": [
    "###### Removing value greater than 45"
   ]
  },
  {
   "cell_type": "code",
   "execution_count": 27,
   "metadata": {},
   "outputs": [
    {
     "data": {
      "text/html": [
       "<div>\n",
       "<style scoped>\n",
       "    .dataframe tbody tr th:only-of-type {\n",
       "        vertical-align: middle;\n",
       "    }\n",
       "\n",
       "    .dataframe tbody tr th {\n",
       "        vertical-align: top;\n",
       "    }\n",
       "\n",
       "    .dataframe thead th {\n",
       "        text-align: right;\n",
       "    }\n",
       "</style>\n",
       "<table border=\"1\" class=\"dataframe\">\n",
       "  <thead>\n",
       "    <tr style=\"text-align: right;\">\n",
       "      <th></th>\n",
       "      <th>age</th>\n",
       "      <th>sex</th>\n",
       "      <th>fracture</th>\n",
       "      <th>weight_kg</th>\n",
       "      <th>height_cm</th>\n",
       "      <th>medication</th>\n",
       "      <th>waiting_time</th>\n",
       "      <th>bmd</th>\n",
       "    </tr>\n",
       "  </thead>\n",
       "  <tbody>\n",
       "    <tr>\n",
       "      <td>1</td>\n",
       "      <td>75</td>\n",
       "      <td>F</td>\n",
       "      <td>no fracture</td>\n",
       "      <td>78.0</td>\n",
       "      <td>162.0</td>\n",
       "      <td>No medication</td>\n",
       "      <td>56</td>\n",
       "      <td>0.7946</td>\n",
       "    </tr>\n",
       "    <tr>\n",
       "      <td>14</td>\n",
       "      <td>53</td>\n",
       "      <td>M</td>\n",
       "      <td>no fracture</td>\n",
       "      <td>70.0</td>\n",
       "      <td>162.5</td>\n",
       "      <td>No medication</td>\n",
       "      <td>73</td>\n",
       "      <td>0.8020</td>\n",
       "    </tr>\n",
       "    <tr>\n",
       "      <td>24</td>\n",
       "      <td>54</td>\n",
       "      <td>M</td>\n",
       "      <td>no fracture</td>\n",
       "      <td>75.0</td>\n",
       "      <td>172.0</td>\n",
       "      <td>No medication</td>\n",
       "      <td>64</td>\n",
       "      <td>0.8126</td>\n",
       "    </tr>\n",
       "    <tr>\n",
       "      <td>40</td>\n",
       "      <td>73</td>\n",
       "      <td>F</td>\n",
       "      <td>no fracture</td>\n",
       "      <td>52.0</td>\n",
       "      <td>153.0</td>\n",
       "      <td>No medication</td>\n",
       "      <td>89</td>\n",
       "      <td>0.7128</td>\n",
       "    </tr>\n",
       "    <tr>\n",
       "      <td>58</td>\n",
       "      <td>49</td>\n",
       "      <td>F</td>\n",
       "      <td>no fracture</td>\n",
       "      <td>72.0</td>\n",
       "      <td>160.5</td>\n",
       "      <td>No medication</td>\n",
       "      <td>60</td>\n",
       "      <td>0.9851</td>\n",
       "    </tr>\n",
       "    <tr>\n",
       "      <td>104</td>\n",
       "      <td>49</td>\n",
       "      <td>M</td>\n",
       "      <td>no fracture</td>\n",
       "      <td>66.0</td>\n",
       "      <td>157.0</td>\n",
       "      <td>No medication</td>\n",
       "      <td>47</td>\n",
       "      <td>0.7269</td>\n",
       "    </tr>\n",
       "    <tr>\n",
       "      <td>110</td>\n",
       "      <td>68</td>\n",
       "      <td>F</td>\n",
       "      <td>no fracture</td>\n",
       "      <td>49.0</td>\n",
       "      <td>144.0</td>\n",
       "      <td>No medication</td>\n",
       "      <td>51</td>\n",
       "      <td>0.7509</td>\n",
       "    </tr>\n",
       "    <tr>\n",
       "      <td>124</td>\n",
       "      <td>87</td>\n",
       "      <td>M</td>\n",
       "      <td>fracture</td>\n",
       "      <td>57.0</td>\n",
       "      <td>156.5</td>\n",
       "      <td>No medication</td>\n",
       "      <td>69</td>\n",
       "      <td>0.5387</td>\n",
       "    </tr>\n",
       "    <tr>\n",
       "      <td>135</td>\n",
       "      <td>72</td>\n",
       "      <td>F</td>\n",
       "      <td>fracture</td>\n",
       "      <td>50.0</td>\n",
       "      <td>154.0</td>\n",
       "      <td>No medication</td>\n",
       "      <td>47</td>\n",
       "      <td>0.6001</td>\n",
       "    </tr>\n",
       "    <tr>\n",
       "      <td>139</td>\n",
       "      <td>71</td>\n",
       "      <td>F</td>\n",
       "      <td>fracture</td>\n",
       "      <td>63.0</td>\n",
       "      <td>148.0</td>\n",
       "      <td>Glucocorticoids</td>\n",
       "      <td>59</td>\n",
       "      <td>0.4076</td>\n",
       "    </tr>\n",
       "    <tr>\n",
       "      <td>141</td>\n",
       "      <td>74</td>\n",
       "      <td>F</td>\n",
       "      <td>fracture</td>\n",
       "      <td>48.0</td>\n",
       "      <td>160.0</td>\n",
       "      <td>No medication</td>\n",
       "      <td>96</td>\n",
       "      <td>0.4852</td>\n",
       "    </tr>\n",
       "    <tr>\n",
       "      <td>162</td>\n",
       "      <td>50</td>\n",
       "      <td>F</td>\n",
       "      <td>fracture</td>\n",
       "      <td>60.0</td>\n",
       "      <td>170.0</td>\n",
       "      <td>Anticonvulsant</td>\n",
       "      <td>48</td>\n",
       "      <td>0.7399</td>\n",
       "    </tr>\n",
       "    <tr>\n",
       "      <td>164</td>\n",
       "      <td>77</td>\n",
       "      <td>M</td>\n",
       "      <td>fracture</td>\n",
       "      <td>74.0</td>\n",
       "      <td>164.0</td>\n",
       "      <td>No medication</td>\n",
       "      <td>49</td>\n",
       "      <td>0.7941</td>\n",
       "    </tr>\n",
       "  </tbody>\n",
       "</table>\n",
       "</div>"
      ],
      "text/plain": [
       "     age sex     fracture  weight_kg  height_cm       medication  \\\n",
       "1     75   F  no fracture       78.0      162.0    No medication   \n",
       "14    53   M  no fracture       70.0      162.5    No medication   \n",
       "24    54   M  no fracture       75.0      172.0    No medication   \n",
       "40    73   F  no fracture       52.0      153.0    No medication   \n",
       "58    49   F  no fracture       72.0      160.5    No medication   \n",
       "104   49   M  no fracture       66.0      157.0    No medication   \n",
       "110   68   F  no fracture       49.0      144.0    No medication   \n",
       "124   87   M     fracture       57.0      156.5    No medication   \n",
       "135   72   F     fracture       50.0      154.0    No medication   \n",
       "139   71   F     fracture       63.0      148.0  Glucocorticoids   \n",
       "141   74   F     fracture       48.0      160.0    No medication   \n",
       "162   50   F     fracture       60.0      170.0   Anticonvulsant   \n",
       "164   77   M     fracture       74.0      164.0    No medication   \n",
       "\n",
       "     waiting_time     bmd  \n",
       "1              56  0.7946  \n",
       "14             73  0.8020  \n",
       "24             64  0.8126  \n",
       "40             89  0.7128  \n",
       "58             60  0.9851  \n",
       "104            47  0.7269  \n",
       "110            51  0.7509  \n",
       "124            69  0.5387  \n",
       "135            47  0.6001  \n",
       "139            59  0.4076  \n",
       "141            96  0.4852  \n",
       "162            48  0.7399  \n",
       "164            49  0.7941  "
      ]
     },
     "execution_count": 27,
     "metadata": {},
     "output_type": "execute_result"
    }
   ],
   "source": [
    "df[df['waiting_time']>45]"
   ]
  },
  {
   "cell_type": "code",
   "execution_count": 28,
   "metadata": {},
   "outputs": [
    {
     "data": {
      "text/html": [
       "<div>\n",
       "<style scoped>\n",
       "    .dataframe tbody tr th:only-of-type {\n",
       "        vertical-align: middle;\n",
       "    }\n",
       "\n",
       "    .dataframe tbody tr th {\n",
       "        vertical-align: top;\n",
       "    }\n",
       "\n",
       "    .dataframe thead th {\n",
       "        text-align: right;\n",
       "    }\n",
       "</style>\n",
       "<table border=\"1\" class=\"dataframe\">\n",
       "  <thead>\n",
       "    <tr style=\"text-align: right;\">\n",
       "      <th></th>\n",
       "      <th>age</th>\n",
       "      <th>sex</th>\n",
       "      <th>fracture</th>\n",
       "      <th>weight_kg</th>\n",
       "      <th>height_cm</th>\n",
       "      <th>medication</th>\n",
       "      <th>waiting_time</th>\n",
       "      <th>bmd</th>\n",
       "    </tr>\n",
       "  </thead>\n",
       "  <tbody>\n",
       "    <tr>\n",
       "      <td>0</td>\n",
       "      <td>57</td>\n",
       "      <td>F</td>\n",
       "      <td>no fracture</td>\n",
       "      <td>64.0</td>\n",
       "      <td>155.5</td>\n",
       "      <td>Anticonvulsant</td>\n",
       "      <td>18</td>\n",
       "      <td>0.8793</td>\n",
       "    </tr>\n",
       "    <tr>\n",
       "      <td>1</td>\n",
       "      <td>75</td>\n",
       "      <td>F</td>\n",
       "      <td>no fracture</td>\n",
       "      <td>78.0</td>\n",
       "      <td>162.0</td>\n",
       "      <td>No medication</td>\n",
       "      <td>56</td>\n",
       "      <td>0.7946</td>\n",
       "    </tr>\n",
       "    <tr>\n",
       "      <td>2</td>\n",
       "      <td>70</td>\n",
       "      <td>M</td>\n",
       "      <td>no fracture</td>\n",
       "      <td>73.0</td>\n",
       "      <td>170.5</td>\n",
       "      <td>No medication</td>\n",
       "      <td>10</td>\n",
       "      <td>0.9067</td>\n",
       "    </tr>\n",
       "    <tr>\n",
       "      <td>3</td>\n",
       "      <td>78</td>\n",
       "      <td>F</td>\n",
       "      <td>no fracture</td>\n",
       "      <td>60.0</td>\n",
       "      <td>148.0</td>\n",
       "      <td>No medication</td>\n",
       "      <td>14</td>\n",
       "      <td>0.7112</td>\n",
       "    </tr>\n",
       "    <tr>\n",
       "      <td>4</td>\n",
       "      <td>54</td>\n",
       "      <td>M</td>\n",
       "      <td>no fracture</td>\n",
       "      <td>55.0</td>\n",
       "      <td>161.0</td>\n",
       "      <td>No medication</td>\n",
       "      <td>20</td>\n",
       "      <td>0.7909</td>\n",
       "    </tr>\n",
       "    <tr>\n",
       "      <td>...</td>\n",
       "      <td>...</td>\n",
       "      <td>...</td>\n",
       "      <td>...</td>\n",
       "      <td>...</td>\n",
       "      <td>...</td>\n",
       "      <td>...</td>\n",
       "      <td>...</td>\n",
       "      <td>...</td>\n",
       "    </tr>\n",
       "    <tr>\n",
       "      <td>164</td>\n",
       "      <td>77</td>\n",
       "      <td>M</td>\n",
       "      <td>fracture</td>\n",
       "      <td>74.0</td>\n",
       "      <td>164.0</td>\n",
       "      <td>No medication</td>\n",
       "      <td>49</td>\n",
       "      <td>0.7941</td>\n",
       "    </tr>\n",
       "    <tr>\n",
       "      <td>165</td>\n",
       "      <td>50</td>\n",
       "      <td>F</td>\n",
       "      <td>fracture</td>\n",
       "      <td>59.0</td>\n",
       "      <td>161.0</td>\n",
       "      <td>No medication</td>\n",
       "      <td>6</td>\n",
       "      <td>0.7971</td>\n",
       "    </tr>\n",
       "    <tr>\n",
       "      <td>166</td>\n",
       "      <td>46</td>\n",
       "      <td>M</td>\n",
       "      <td>fracture</td>\n",
       "      <td>67.0</td>\n",
       "      <td>169.0</td>\n",
       "      <td>No medication</td>\n",
       "      <td>10</td>\n",
       "      <td>0.8037</td>\n",
       "    </tr>\n",
       "    <tr>\n",
       "      <td>167</td>\n",
       "      <td>54</td>\n",
       "      <td>M</td>\n",
       "      <td>fracture</td>\n",
       "      <td>70.0</td>\n",
       "      <td>166.0</td>\n",
       "      <td>No medication</td>\n",
       "      <td>14</td>\n",
       "      <td>0.8072</td>\n",
       "    </tr>\n",
       "    <tr>\n",
       "      <td>168</td>\n",
       "      <td>69</td>\n",
       "      <td>F</td>\n",
       "      <td>fracture</td>\n",
       "      <td>68.5</td>\n",
       "      <td>165.0</td>\n",
       "      <td>No medication</td>\n",
       "      <td>25</td>\n",
       "      <td>0.8664</td>\n",
       "    </tr>\n",
       "  </tbody>\n",
       "</table>\n",
       "<p>169 rows × 8 columns</p>\n",
       "</div>"
      ],
      "text/plain": [
       "     age sex     fracture  weight_kg  height_cm      medication  waiting_time  \\\n",
       "0     57   F  no fracture       64.0      155.5  Anticonvulsant            18   \n",
       "1     75   F  no fracture       78.0      162.0   No medication            56   \n",
       "2     70   M  no fracture       73.0      170.5   No medication            10   \n",
       "3     78   F  no fracture       60.0      148.0   No medication            14   \n",
       "4     54   M  no fracture       55.0      161.0   No medication            20   \n",
       "..   ...  ..          ...        ...        ...             ...           ...   \n",
       "164   77   M     fracture       74.0      164.0   No medication            49   \n",
       "165   50   F     fracture       59.0      161.0   No medication             6   \n",
       "166   46   M     fracture       67.0      169.0   No medication            10   \n",
       "167   54   M     fracture       70.0      166.0   No medication            14   \n",
       "168   69   F     fracture       68.5      165.0   No medication            25   \n",
       "\n",
       "        bmd  \n",
       "0    0.8793  \n",
       "1    0.7946  \n",
       "2    0.9067  \n",
       "3    0.7112  \n",
       "4    0.7909  \n",
       "..      ...  \n",
       "164  0.7941  \n",
       "165  0.7971  \n",
       "166  0.8037  \n",
       "167  0.8072  \n",
       "168  0.8664  \n",
       "\n",
       "[169 rows x 8 columns]"
      ]
     },
     "execution_count": 28,
     "metadata": {},
     "output_type": "execute_result"
    }
   ],
   "source": [
    "df"
   ]
  },
  {
   "cell_type": "code",
   "execution_count": 29,
   "metadata": {},
   "outputs": [],
   "source": [
    "df=df[df['waiting_time']<45]"
   ]
  },
  {
   "cell_type": "code",
   "execution_count": 30,
   "metadata": {},
   "outputs": [
    {
     "data": {
      "text/html": [
       "<div>\n",
       "<style scoped>\n",
       "    .dataframe tbody tr th:only-of-type {\n",
       "        vertical-align: middle;\n",
       "    }\n",
       "\n",
       "    .dataframe tbody tr th {\n",
       "        vertical-align: top;\n",
       "    }\n",
       "\n",
       "    .dataframe thead th {\n",
       "        text-align: right;\n",
       "    }\n",
       "</style>\n",
       "<table border=\"1\" class=\"dataframe\">\n",
       "  <thead>\n",
       "    <tr style=\"text-align: right;\">\n",
       "      <th></th>\n",
       "      <th>age</th>\n",
       "      <th>sex</th>\n",
       "      <th>fracture</th>\n",
       "      <th>weight_kg</th>\n",
       "      <th>height_cm</th>\n",
       "      <th>medication</th>\n",
       "      <th>waiting_time</th>\n",
       "      <th>bmd</th>\n",
       "    </tr>\n",
       "  </thead>\n",
       "  <tbody>\n",
       "    <tr>\n",
       "      <td>0</td>\n",
       "      <td>57</td>\n",
       "      <td>F</td>\n",
       "      <td>no fracture</td>\n",
       "      <td>64.0</td>\n",
       "      <td>155.5</td>\n",
       "      <td>Anticonvulsant</td>\n",
       "      <td>18</td>\n",
       "      <td>0.8793</td>\n",
       "    </tr>\n",
       "    <tr>\n",
       "      <td>2</td>\n",
       "      <td>70</td>\n",
       "      <td>M</td>\n",
       "      <td>no fracture</td>\n",
       "      <td>73.0</td>\n",
       "      <td>170.5</td>\n",
       "      <td>No medication</td>\n",
       "      <td>10</td>\n",
       "      <td>0.9067</td>\n",
       "    </tr>\n",
       "    <tr>\n",
       "      <td>3</td>\n",
       "      <td>78</td>\n",
       "      <td>F</td>\n",
       "      <td>no fracture</td>\n",
       "      <td>60.0</td>\n",
       "      <td>148.0</td>\n",
       "      <td>No medication</td>\n",
       "      <td>14</td>\n",
       "      <td>0.7112</td>\n",
       "    </tr>\n",
       "    <tr>\n",
       "      <td>4</td>\n",
       "      <td>54</td>\n",
       "      <td>M</td>\n",
       "      <td>no fracture</td>\n",
       "      <td>55.0</td>\n",
       "      <td>161.0</td>\n",
       "      <td>No medication</td>\n",
       "      <td>20</td>\n",
       "      <td>0.7909</td>\n",
       "    </tr>\n",
       "    <tr>\n",
       "      <td>5</td>\n",
       "      <td>77</td>\n",
       "      <td>M</td>\n",
       "      <td>no fracture</td>\n",
       "      <td>65.0</td>\n",
       "      <td>168.0</td>\n",
       "      <td>No medication</td>\n",
       "      <td>7</td>\n",
       "      <td>0.7301</td>\n",
       "    </tr>\n",
       "    <tr>\n",
       "      <td>...</td>\n",
       "      <td>...</td>\n",
       "      <td>...</td>\n",
       "      <td>...</td>\n",
       "      <td>...</td>\n",
       "      <td>...</td>\n",
       "      <td>...</td>\n",
       "      <td>...</td>\n",
       "      <td>...</td>\n",
       "    </tr>\n",
       "    <tr>\n",
       "      <td>163</td>\n",
       "      <td>67</td>\n",
       "      <td>M</td>\n",
       "      <td>fracture</td>\n",
       "      <td>80.0</td>\n",
       "      <td>172.0</td>\n",
       "      <td>No medication</td>\n",
       "      <td>8</td>\n",
       "      <td>0.7745</td>\n",
       "    </tr>\n",
       "    <tr>\n",
       "      <td>165</td>\n",
       "      <td>50</td>\n",
       "      <td>F</td>\n",
       "      <td>fracture</td>\n",
       "      <td>59.0</td>\n",
       "      <td>161.0</td>\n",
       "      <td>No medication</td>\n",
       "      <td>6</td>\n",
       "      <td>0.7971</td>\n",
       "    </tr>\n",
       "    <tr>\n",
       "      <td>166</td>\n",
       "      <td>46</td>\n",
       "      <td>M</td>\n",
       "      <td>fracture</td>\n",
       "      <td>67.0</td>\n",
       "      <td>169.0</td>\n",
       "      <td>No medication</td>\n",
       "      <td>10</td>\n",
       "      <td>0.8037</td>\n",
       "    </tr>\n",
       "    <tr>\n",
       "      <td>167</td>\n",
       "      <td>54</td>\n",
       "      <td>M</td>\n",
       "      <td>fracture</td>\n",
       "      <td>70.0</td>\n",
       "      <td>166.0</td>\n",
       "      <td>No medication</td>\n",
       "      <td>14</td>\n",
       "      <td>0.8072</td>\n",
       "    </tr>\n",
       "    <tr>\n",
       "      <td>168</td>\n",
       "      <td>69</td>\n",
       "      <td>F</td>\n",
       "      <td>fracture</td>\n",
       "      <td>68.5</td>\n",
       "      <td>165.0</td>\n",
       "      <td>No medication</td>\n",
       "      <td>25</td>\n",
       "      <td>0.8664</td>\n",
       "    </tr>\n",
       "  </tbody>\n",
       "</table>\n",
       "<p>156 rows × 8 columns</p>\n",
       "</div>"
      ],
      "text/plain": [
       "     age sex     fracture  weight_kg  height_cm      medication  waiting_time  \\\n",
       "0     57   F  no fracture       64.0      155.5  Anticonvulsant            18   \n",
       "2     70   M  no fracture       73.0      170.5   No medication            10   \n",
       "3     78   F  no fracture       60.0      148.0   No medication            14   \n",
       "4     54   M  no fracture       55.0      161.0   No medication            20   \n",
       "5     77   M  no fracture       65.0      168.0   No medication             7   \n",
       "..   ...  ..          ...        ...        ...             ...           ...   \n",
       "163   67   M     fracture       80.0      172.0   No medication             8   \n",
       "165   50   F     fracture       59.0      161.0   No medication             6   \n",
       "166   46   M     fracture       67.0      169.0   No medication            10   \n",
       "167   54   M     fracture       70.0      166.0   No medication            14   \n",
       "168   69   F     fracture       68.5      165.0   No medication            25   \n",
       "\n",
       "        bmd  \n",
       "0    0.8793  \n",
       "2    0.9067  \n",
       "3    0.7112  \n",
       "4    0.7909  \n",
       "5    0.7301  \n",
       "..      ...  \n",
       "163  0.7745  \n",
       "165  0.7971  \n",
       "166  0.8037  \n",
       "167  0.8072  \n",
       "168  0.8664  \n",
       "\n",
       "[156 rows x 8 columns]"
      ]
     },
     "execution_count": 30,
     "metadata": {},
     "output_type": "execute_result"
    }
   ],
   "source": [
    "df"
   ]
  },
  {
   "cell_type": "code",
   "execution_count": 31,
   "metadata": {},
   "outputs": [
    {
     "data": {
      "text/plain": [
       "<matplotlib.axes._subplots.AxesSubplot at 0x1e77c5cb108>"
      ]
     },
     "execution_count": 31,
     "metadata": {},
     "output_type": "execute_result"
    },
    {
     "data": {
      "image/png": "[encoded data removed]",
      "text/plain": [
       "<Figure size 432x288 with 1 Axes>"
      ]
     },
     "metadata": {
      "needs_background": "light"
     },
     "output_type": "display_data"
    }
   ],
   "source": [
    "sns.boxplot(df['waiting_time'])"
   ]
  },
  {
   "cell_type": "code",
   "execution_count": 32,
   "metadata": {},
   "outputs": [
    {
     "data": {
      "text/plain": [
       "<matplotlib.axes._subplots.AxesSubplot at 0x1e7763f5248>"
      ]
     },
     "execution_count": 32,
     "metadata": {},
     "output_type": "execute_result"
    },
    {
     "data": {
      "image/png": "[encoded data removed]",
      "text/plain": [
       "<Figure size 432x288 with 1 Axes>"
      ]
     },
     "metadata": {
      "needs_background": "light"
     },
     "output_type": "display_data"
    }
   ],
   "source": [
    "sns.distplot(df['waiting_time'])"
   ]
  },
  {
   "cell_type": "markdown",
   "metadata": {},
   "source": [
    "###### Handling bmd column values"
   ]
  },
  {
   "cell_type": "code",
   "execution_count": 33,
   "metadata": {},
   "outputs": [
    {
     "data": {
      "text/plain": [
       "<matplotlib.axes._subplots.AxesSubplot at 0x1e77c6705c8>"
      ]
     },
     "execution_count": 33,
     "metadata": {},
     "output_type": "execute_result"
    },
    {
     "data": {
      "image/png": "[encoded data removed]",
      "text/plain": [
       "<Figure size 432x288 with 1 Axes>"
      ]
     },
     "metadata": {
      "needs_background": "light"
     },
     "output_type": "display_data"
    }
   ],
   "source": [
    "sns.boxplot(df['bmd'])"
   ]
  },
  {
   "cell_type": "code",
   "execution_count": 34,
   "metadata": {},
   "outputs": [
    {
     "data": {
      "text/html": [
       "<div>\n",
       "<style scoped>\n",
       "    .dataframe tbody tr th:only-of-type {\n",
       "        vertical-align: middle;\n",
       "    }\n",
       "\n",
       "    .dataframe tbody tr th {\n",
       "        vertical-align: top;\n",
       "    }\n",
       "\n",
       "    .dataframe thead th {\n",
       "        text-align: right;\n",
       "    }\n",
       "</style>\n",
       "<table border=\"1\" class=\"dataframe\">\n",
       "  <thead>\n",
       "    <tr style=\"text-align: right;\">\n",
       "      <th></th>\n",
       "      <th>age</th>\n",
       "      <th>sex</th>\n",
       "      <th>fracture</th>\n",
       "      <th>weight_kg</th>\n",
       "      <th>height_cm</th>\n",
       "      <th>medication</th>\n",
       "      <th>waiting_time</th>\n",
       "      <th>bmd</th>\n",
       "    </tr>\n",
       "  </thead>\n",
       "  <tbody>\n",
       "    <tr>\n",
       "      <td>48</td>\n",
       "      <td>69</td>\n",
       "      <td>M</td>\n",
       "      <td>no fracture</td>\n",
       "      <td>84.0</td>\n",
       "      <td>164.5</td>\n",
       "      <td>Glucocorticoids</td>\n",
       "      <td>13</td>\n",
       "      <td>1.3624</td>\n",
       "    </tr>\n",
       "    <tr>\n",
       "      <td>66</td>\n",
       "      <td>84</td>\n",
       "      <td>M</td>\n",
       "      <td>no fracture</td>\n",
       "      <td>68.0</td>\n",
       "      <td>165.0</td>\n",
       "      <td>No medication</td>\n",
       "      <td>11</td>\n",
       "      <td>1.2508</td>\n",
       "    </tr>\n",
       "  </tbody>\n",
       "</table>\n",
       "</div>"
      ],
      "text/plain": [
       "    age sex     fracture  weight_kg  height_cm       medication  waiting_time  \\\n",
       "48   69   M  no fracture       84.0      164.5  Glucocorticoids            13   \n",
       "66   84   M  no fracture       68.0      165.0    No medication            11   \n",
       "\n",
       "       bmd  \n",
       "48  1.3624  \n",
       "66  1.2508  "
      ]
     },
     "execution_count": 34,
     "metadata": {},
     "output_type": "execute_result"
    }
   ],
   "source": [
    "df[df['bmd']>1.2]"
   ]
  },
  {
   "cell_type": "code",
   "execution_count": 35,
   "metadata": {},
   "outputs": [],
   "source": [
    "df=df[df['bmd']<1.2]"
   ]
  },
  {
   "cell_type": "markdown",
   "metadata": {},
   "source": [
    "###### Removing outlier values"
   ]
  },
  {
   "cell_type": "code",
   "execution_count": 36,
   "metadata": {},
   "outputs": [
    {
     "data": {
      "text/plain": [
       "<matplotlib.axes._subplots.AxesSubplot at 0x1e77c752848>"
      ]
     },
     "execution_count": 36,
     "metadata": {},
     "output_type": "execute_result"
    },
    {
     "data": {
      "image/png": "[encoded data removed]",
      "text/plain": [
       "<Figure size 432x288 with 1 Axes>"
      ]
     },
     "metadata": {
      "needs_background": "light"
     },
     "output_type": "display_data"
    }
   ],
   "source": [
    "sns.boxplot(df['bmd'])"
   ]
  },
  {
   "cell_type": "code",
   "execution_count": 37,
   "metadata": {},
   "outputs": [
    {
     "data": {
      "text/plain": [
       "<matplotlib.axes._subplots.AxesSubplot at 0x1e77c7aad88>"
      ]
     },
     "execution_count": 37,
     "metadata": {},
     "output_type": "execute_result"
    },
    {
     "data": {
      "image/png": "[encoded data removed]",
      "text/plain": [
       "<Figure size 432x288 with 1 Axes>"
      ]
     },
     "metadata": {
      "needs_background": "light"
     },
     "output_type": "display_data"
    }
   ],
   "source": [
    "sns.distplot(df['bmd'])"
   ]
  },
  {
   "cell_type": "markdown",
   "metadata": {},
   "source": [
    "###### The bmd is normally distributed"
   ]
  },
  {
   "cell_type": "markdown",
   "metadata": {},
   "source": [
    "###### Converting target variable fracture and not fracture to 1 an 0 respectively"
   ]
  },
  {
   "cell_type": "code",
   "execution_count": 38,
   "metadata": {},
   "outputs": [],
   "source": [
    "df['fracture']=df['fracture'].map({'fracture':1,'no fracture':0})"
   ]
  },
  {
   "cell_type": "code",
   "execution_count": 39,
   "metadata": {},
   "outputs": [
    {
     "data": {
      "text/html": [
       "<div>\n",
       "<style scoped>\n",
       "    .dataframe tbody tr th:only-of-type {\n",
       "        vertical-align: middle;\n",
       "    }\n",
       "\n",
       "    .dataframe tbody tr th {\n",
       "        vertical-align: top;\n",
       "    }\n",
       "\n",
       "    .dataframe thead th {\n",
       "        text-align: right;\n",
       "    }\n",
       "</style>\n",
       "<table border=\"1\" class=\"dataframe\">\n",
       "  <thead>\n",
       "    <tr style=\"text-align: right;\">\n",
       "      <th></th>\n",
       "      <th>age</th>\n",
       "      <th>sex</th>\n",
       "      <th>fracture</th>\n",
       "      <th>weight_kg</th>\n",
       "      <th>height_cm</th>\n",
       "      <th>medication</th>\n",
       "      <th>waiting_time</th>\n",
       "      <th>bmd</th>\n",
       "    </tr>\n",
       "  </thead>\n",
       "  <tbody>\n",
       "    <tr>\n",
       "      <td>0</td>\n",
       "      <td>57</td>\n",
       "      <td>F</td>\n",
       "      <td>0</td>\n",
       "      <td>64.0</td>\n",
       "      <td>155.5</td>\n",
       "      <td>Anticonvulsant</td>\n",
       "      <td>18</td>\n",
       "      <td>0.8793</td>\n",
       "    </tr>\n",
       "    <tr>\n",
       "      <td>2</td>\n",
       "      <td>70</td>\n",
       "      <td>M</td>\n",
       "      <td>0</td>\n",
       "      <td>73.0</td>\n",
       "      <td>170.5</td>\n",
       "      <td>No medication</td>\n",
       "      <td>10</td>\n",
       "      <td>0.9067</td>\n",
       "    </tr>\n",
       "    <tr>\n",
       "      <td>3</td>\n",
       "      <td>78</td>\n",
       "      <td>F</td>\n",
       "      <td>0</td>\n",
       "      <td>60.0</td>\n",
       "      <td>148.0</td>\n",
       "      <td>No medication</td>\n",
       "      <td>14</td>\n",
       "      <td>0.7112</td>\n",
       "    </tr>\n",
       "    <tr>\n",
       "      <td>4</td>\n",
       "      <td>54</td>\n",
       "      <td>M</td>\n",
       "      <td>0</td>\n",
       "      <td>55.0</td>\n",
       "      <td>161.0</td>\n",
       "      <td>No medication</td>\n",
       "      <td>20</td>\n",
       "      <td>0.7909</td>\n",
       "    </tr>\n",
       "    <tr>\n",
       "      <td>5</td>\n",
       "      <td>77</td>\n",
       "      <td>M</td>\n",
       "      <td>0</td>\n",
       "      <td>65.0</td>\n",
       "      <td>168.0</td>\n",
       "      <td>No medication</td>\n",
       "      <td>7</td>\n",
       "      <td>0.7301</td>\n",
       "    </tr>\n",
       "    <tr>\n",
       "      <td>...</td>\n",
       "      <td>...</td>\n",
       "      <td>...</td>\n",
       "      <td>...</td>\n",
       "      <td>...</td>\n",
       "      <td>...</td>\n",
       "      <td>...</td>\n",
       "      <td>...</td>\n",
       "      <td>...</td>\n",
       "    </tr>\n",
       "    <tr>\n",
       "      <td>163</td>\n",
       "      <td>67</td>\n",
       "      <td>M</td>\n",
       "      <td>1</td>\n",
       "      <td>80.0</td>\n",
       "      <td>172.0</td>\n",
       "      <td>No medication</td>\n",
       "      <td>8</td>\n",
       "      <td>0.7745</td>\n",
       "    </tr>\n",
       "    <tr>\n",
       "      <td>165</td>\n",
       "      <td>50</td>\n",
       "      <td>F</td>\n",
       "      <td>1</td>\n",
       "      <td>59.0</td>\n",
       "      <td>161.0</td>\n",
       "      <td>No medication</td>\n",
       "      <td>6</td>\n",
       "      <td>0.7971</td>\n",
       "    </tr>\n",
       "    <tr>\n",
       "      <td>166</td>\n",
       "      <td>46</td>\n",
       "      <td>M</td>\n",
       "      <td>1</td>\n",
       "      <td>67.0</td>\n",
       "      <td>169.0</td>\n",
       "      <td>No medication</td>\n",
       "      <td>10</td>\n",
       "      <td>0.8037</td>\n",
       "    </tr>\n",
       "    <tr>\n",
       "      <td>167</td>\n",
       "      <td>54</td>\n",
       "      <td>M</td>\n",
       "      <td>1</td>\n",
       "      <td>70.0</td>\n",
       "      <td>166.0</td>\n",
       "      <td>No medication</td>\n",
       "      <td>14</td>\n",
       "      <td>0.8072</td>\n",
       "    </tr>\n",
       "    <tr>\n",
       "      <td>168</td>\n",
       "      <td>69</td>\n",
       "      <td>F</td>\n",
       "      <td>1</td>\n",
       "      <td>68.5</td>\n",
       "      <td>165.0</td>\n",
       "      <td>No medication</td>\n",
       "      <td>25</td>\n",
       "      <td>0.8664</td>\n",
       "    </tr>\n",
       "  </tbody>\n",
       "</table>\n",
       "<p>154 rows × 8 columns</p>\n",
       "</div>"
      ],
      "text/plain": [
       "     age sex  fracture  weight_kg  height_cm      medication  waiting_time  \\\n",
       "0     57   F         0       64.0      155.5  Anticonvulsant            18   \n",
       "2     70   M         0       73.0      170.5   No medication            10   \n",
       "3     78   F         0       60.0      148.0   No medication            14   \n",
       "4     54   M         0       55.0      161.0   No medication            20   \n",
       "5     77   M         0       65.0      168.0   No medication             7   \n",
       "..   ...  ..       ...        ...        ...             ...           ...   \n",
       "163   67   M         1       80.0      172.0   No medication             8   \n",
       "165   50   F         1       59.0      161.0   No medication             6   \n",
       "166   46   M         1       67.0      169.0   No medication            10   \n",
       "167   54   M         1       70.0      166.0   No medication            14   \n",
       "168   69   F         1       68.5      165.0   No medication            25   \n",
       "\n",
       "        bmd  \n",
       "0    0.8793  \n",
       "2    0.9067  \n",
       "3    0.7112  \n",
       "4    0.7909  \n",
       "5    0.7301  \n",
       "..      ...  \n",
       "163  0.7745  \n",
       "165  0.7971  \n",
       "166  0.8037  \n",
       "167  0.8072  \n",
       "168  0.8664  \n",
       "\n",
       "[154 rows x 8 columns]"
      ]
     },
     "execution_count": 39,
     "metadata": {},
     "output_type": "execute_result"
    }
   ],
   "source": [
    "df"
   ]
  },
  {
   "cell_type": "markdown",
   "metadata": {},
   "source": [
    "##### Multivariate Analysis"
   ]
  },
  {
   "cell_type": "code",
   "execution_count": 40,
   "metadata": {},
   "outputs": [
    {
     "data": {
      "text/plain": [
       "<matplotlib.axes._subplots.AxesSubplot at 0x1e77c840f08>"
      ]
     },
     "execution_count": 40,
     "metadata": {},
     "output_type": "execute_result"
    },
    {
     "data": {
      "image/png": "[encoded data removed]",
      "text/plain": [
       "<Figure size 720x576 with 2 Axes>"
      ]
     },
     "metadata": {
      "needs_background": "light"
     },
     "output_type": "display_data"
    }
   ],
   "source": [
    "plt.figure(figsize=(10,8))\n",
    "sns.heatmap(df.corr(),annot=True,fmt='0.2%')"
   ]
  },
  {
   "cell_type": "markdown",
   "metadata": {},
   "source": [
    "###### bmd is highly co-related to fracture"
   ]
  },
  {
   "cell_type": "code",
   "execution_count": 41,
   "metadata": {},
   "outputs": [
    {
     "data": {
      "text/plain": [
       "<seaborn.axisgrid.PairGrid at 0x1e77cb2fe48>"
      ]
     },
     "execution_count": 41,
     "metadata": {},
     "output_type": "execute_result"
    },
    {
     "data": {
      "image/png": "[encoded data removed]",
      "text/plain": [
       "<Figure size 1080x1080 with 42 Axes>"
      ]
     },
     "metadata": {
      "needs_background": "light"
     },
     "output_type": "display_data"
    }
   ],
   "source": [
    "sns.pairplot(df)"
   ]
  },
  {
   "cell_type": "markdown",
   "metadata": {},
   "source": [
    "### Target variable distribution"
   ]
  },
  {
   "cell_type": "code",
   "execution_count": 42,
   "metadata": {},
   "outputs": [
    {
     "data": {
      "text/plain": [
       "<matplotlib.axes._subplots.AxesSubplot at 0x1e77ebf5508>"
      ]
     },
     "execution_count": 42,
     "metadata": {},
     "output_type": "execute_result"
    },
    {
     "data": {
      "image/png": "[encoded data removed]",
      "text/plain": [
       "<Figure size 432x288 with 1 Axes>"
      ]
     },
     "metadata": {
      "needs_background": "light"
     },
     "output_type": "display_data"
    }
   ],
   "source": [
    "sns.countplot(df['fracture'])"
   ]
  },
  {
   "cell_type": "markdown",
   "metadata": {},
   "source": [
    "#### Here,our target variable is imbalanced data"
   ]
  },
  {
   "cell_type": "markdown",
   "metadata": {},
   "source": [
    "### Bivariate Analysis"
   ]
  },
  {
   "cell_type": "code",
   "execution_count": 43,
   "metadata": {},
   "outputs": [
    {
     "data": {
      "text/plain": [
       "<matplotlib.axes._subplots.AxesSubplot at 0x1e77f212a48>"
      ]
     },
     "execution_count": 43,
     "metadata": {},
     "output_type": "execute_result"
    },
    {
     "data": {
      "image/png": "[encoded data removed]",
      "text/plain": [
       "<Figure size 432x288 with 1 Axes>"
      ]
     },
     "metadata": {
      "needs_background": "light"
     },
     "output_type": "display_data"
    }
   ],
   "source": [
    "sns.barplot(df['age'],df['fracture'])"
   ]
  },
  {
   "cell_type": "code",
   "execution_count": 44,
   "metadata": {},
   "outputs": [
    {
     "data": {
      "text/plain": [
       "<matplotlib.axes._subplots.AxesSubplot at 0x1e77f3e5108>"
      ]
     },
     "execution_count": 44,
     "metadata": {},
     "output_type": "execute_result"
    },
    {
     "data": {
      "image/png": "[encoded data removed]",
      "text/plain": [
       "<Figure size 432x288 with 1 Axes>"
      ]
     },
     "metadata": {
      "needs_background": "light"
     },
     "output_type": "display_data"
    }
   ],
   "source": [
    "sns.barplot(df['sex'],df['age'],hue=df['fracture'],ci=False)"
   ]
  },
  {
   "cell_type": "code",
   "execution_count": 45,
   "metadata": {},
   "outputs": [
    {
     "data": {
      "text/plain": [
       "<matplotlib.axes._subplots.AxesSubplot at 0x1e77f4c3688>"
      ]
     },
     "execution_count": 45,
     "metadata": {},
     "output_type": "execute_result"
    },
    {
     "data": {
      "image/png": "[encoded data removed]",
      "text/plain": [
       "<Figure size 432x288 with 1 Axes>"
      ]
     },
     "metadata": {
      "needs_background": "light"
     },
     "output_type": "display_data"
    }
   ],
   "source": [
    "sns.barplot(df['medication'],df['age'],hue=df['fracture'],ci=False)"
   ]
  },
  {
   "cell_type": "code",
   "execution_count": 46,
   "metadata": {},
   "outputs": [
    {
     "data": {
      "text/plain": [
       "<matplotlib.axes._subplots.AxesSubplot at 0x1e77f548748>"
      ]
     },
     "execution_count": 46,
     "metadata": {},
     "output_type": "execute_result"
    },
    {
     "data": {
      "image/png": "[encoded data removed]",
      "text/plain": [
       "<Figure size 432x288 with 1 Axes>"
      ]
     },
     "metadata": {
      "needs_background": "light"
     },
     "output_type": "display_data"
    }
   ],
   "source": [
    "sns.barplot(df['medication'],df['fracture'],ci=False)"
   ]
  },
  {
   "cell_type": "code",
   "execution_count": 47,
   "metadata": {},
   "outputs": [
    {
     "data": {
      "text/plain": [
       "<matplotlib.axes._subplots.AxesSubplot at 0x1e77f5b9588>"
      ]
     },
     "execution_count": 47,
     "metadata": {},
     "output_type": "execute_result"
    },
    {
     "data": {
      "image/png": "[encoded data removed]",
      "text/plain": [
       "<Figure size 432x288 with 1 Axes>"
      ]
     },
     "metadata": {
      "needs_background": "light"
     },
     "output_type": "display_data"
    }
   ],
   "source": [
    "sns.countplot(df['sex'],hue=df['fracture'])"
   ]
  },
  {
   "cell_type": "code",
   "execution_count": 48,
   "metadata": {},
   "outputs": [
    {
     "data": {
      "text/plain": [
       "<matplotlib.axes._subplots.AxesSubplot at 0x1e77f623e48>"
      ]
     },
     "execution_count": 48,
     "metadata": {},
     "output_type": "execute_result"
    },
    {
     "data": {
      "image/png": "[encoded data removed]",
      "text/plain": [
       "<Figure size 432x288 with 1 Axes>"
      ]
     },
     "metadata": {
      "needs_background": "light"
     },
     "output_type": "display_data"
    }
   ],
   "source": [
    "sns.countplot(df['bmd'],hue=df['fracture'])"
   ]
  },
  {
   "cell_type": "code",
   "execution_count": 49,
   "metadata": {},
   "outputs": [
    {
     "data": {
      "text/plain": [
       "<seaborn.axisgrid.FacetGrid at 0x1e77fb6ecc8>"
      ]
     },
     "execution_count": 49,
     "metadata": {},
     "output_type": "execute_result"
    },
    {
     "data": {
      "text/plain": [
       "<Figure size 1440x576 with 0 Axes>"
      ]
     },
     "metadata": {},
     "output_type": "display_data"
    },
    {
     "data": {
      "image/png": "[encoded data removed]",
      "text/plain": [
       "<Figure size 360x360 with 1 Axes>"
      ]
     },
     "metadata": {
      "needs_background": "light"
     },
     "output_type": "display_data"
    }
   ],
   "source": [
    "plt.figure(figsize=(20,8))\n",
    "sns.catplot(x='sex',y='age',kind='box',data=df)"
   ]
  },
  {
   "cell_type": "code",
   "execution_count": 50,
   "metadata": {},
   "outputs": [
    {
     "data": {
      "text/plain": [
       "age               int32\n",
       "sex              object\n",
       "fracture          int64\n",
       "weight_kg       float64\n",
       "height_cm       float64\n",
       "medication       object\n",
       "waiting_time      int64\n",
       "bmd             float64\n",
       "dtype: object"
      ]
     },
     "execution_count": 50,
     "metadata": {},
     "output_type": "execute_result"
    }
   ],
   "source": [
    "df.dtypes"
   ]
  },
  {
   "cell_type": "markdown",
   "metadata": {},
   "source": [
    "### Dividing numerical and categorical columns"
   ]
  },
  {
   "cell_type": "code",
   "execution_count": 51,
   "metadata": {},
   "outputs": [
    {
     "data": {
      "text/html": [
       "<div>\n",
       "<style scoped>\n",
       "    .dataframe tbody tr th:only-of-type {\n",
       "        vertical-align: middle;\n",
       "    }\n",
       "\n",
       "    .dataframe tbody tr th {\n",
       "        vertical-align: top;\n",
       "    }\n",
       "\n",
       "    .dataframe thead th {\n",
       "        text-align: right;\n",
       "    }\n",
       "</style>\n",
       "<table border=\"1\" class=\"dataframe\">\n",
       "  <thead>\n",
       "    <tr style=\"text-align: right;\">\n",
       "      <th></th>\n",
       "      <th>age</th>\n",
       "      <th>fracture</th>\n",
       "      <th>weight_kg</th>\n",
       "      <th>height_cm</th>\n",
       "      <th>waiting_time</th>\n",
       "      <th>bmd</th>\n",
       "    </tr>\n",
       "  </thead>\n",
       "  <tbody>\n",
       "    <tr>\n",
       "      <td>0</td>\n",
       "      <td>57</td>\n",
       "      <td>0</td>\n",
       "      <td>64.0</td>\n",
       "      <td>155.5</td>\n",
       "      <td>18</td>\n",
       "      <td>0.8793</td>\n",
       "    </tr>\n",
       "    <tr>\n",
       "      <td>2</td>\n",
       "      <td>70</td>\n",
       "      <td>0</td>\n",
       "      <td>73.0</td>\n",
       "      <td>170.5</td>\n",
       "      <td>10</td>\n",
       "      <td>0.9067</td>\n",
       "    </tr>\n",
       "    <tr>\n",
       "      <td>3</td>\n",
       "      <td>78</td>\n",
       "      <td>0</td>\n",
       "      <td>60.0</td>\n",
       "      <td>148.0</td>\n",
       "      <td>14</td>\n",
       "      <td>0.7112</td>\n",
       "    </tr>\n",
       "    <tr>\n",
       "      <td>4</td>\n",
       "      <td>54</td>\n",
       "      <td>0</td>\n",
       "      <td>55.0</td>\n",
       "      <td>161.0</td>\n",
       "      <td>20</td>\n",
       "      <td>0.7909</td>\n",
       "    </tr>\n",
       "    <tr>\n",
       "      <td>5</td>\n",
       "      <td>77</td>\n",
       "      <td>0</td>\n",
       "      <td>65.0</td>\n",
       "      <td>168.0</td>\n",
       "      <td>7</td>\n",
       "      <td>0.7301</td>\n",
       "    </tr>\n",
       "    <tr>\n",
       "      <td>...</td>\n",
       "      <td>...</td>\n",
       "      <td>...</td>\n",
       "      <td>...</td>\n",
       "      <td>...</td>\n",
       "      <td>...</td>\n",
       "      <td>...</td>\n",
       "    </tr>\n",
       "    <tr>\n",
       "      <td>163</td>\n",
       "      <td>67</td>\n",
       "      <td>1</td>\n",
       "      <td>80.0</td>\n",
       "      <td>172.0</td>\n",
       "      <td>8</td>\n",
       "      <td>0.7745</td>\n",
       "    </tr>\n",
       "    <tr>\n",
       "      <td>165</td>\n",
       "      <td>50</td>\n",
       "      <td>1</td>\n",
       "      <td>59.0</td>\n",
       "      <td>161.0</td>\n",
       "      <td>6</td>\n",
       "      <td>0.7971</td>\n",
       "    </tr>\n",
       "    <tr>\n",
       "      <td>166</td>\n",
       "      <td>46</td>\n",
       "      <td>1</td>\n",
       "      <td>67.0</td>\n",
       "      <td>169.0</td>\n",
       "      <td>10</td>\n",
       "      <td>0.8037</td>\n",
       "    </tr>\n",
       "    <tr>\n",
       "      <td>167</td>\n",
       "      <td>54</td>\n",
       "      <td>1</td>\n",
       "      <td>70.0</td>\n",
       "      <td>166.0</td>\n",
       "      <td>14</td>\n",
       "      <td>0.8072</td>\n",
       "    </tr>\n",
       "    <tr>\n",
       "      <td>168</td>\n",
       "      <td>69</td>\n",
       "      <td>1</td>\n",
       "      <td>68.5</td>\n",
       "      <td>165.0</td>\n",
       "      <td>25</td>\n",
       "      <td>0.8664</td>\n",
       "    </tr>\n",
       "  </tbody>\n",
       "</table>\n",
       "<p>154 rows × 6 columns</p>\n",
       "</div>"
      ],
      "text/plain": [
       "     age  fracture  weight_kg  height_cm  waiting_time     bmd\n",
       "0     57         0       64.0      155.5            18  0.8793\n",
       "2     70         0       73.0      170.5            10  0.9067\n",
       "3     78         0       60.0      148.0            14  0.7112\n",
       "4     54         0       55.0      161.0            20  0.7909\n",
       "5     77         0       65.0      168.0             7  0.7301\n",
       "..   ...       ...        ...        ...           ...     ...\n",
       "163   67         1       80.0      172.0             8  0.7745\n",
       "165   50         1       59.0      161.0             6  0.7971\n",
       "166   46         1       67.0      169.0            10  0.8037\n",
       "167   54         1       70.0      166.0            14  0.8072\n",
       "168   69         1       68.5      165.0            25  0.8664\n",
       "\n",
       "[154 rows x 6 columns]"
      ]
     },
     "execution_count": 51,
     "metadata": {},
     "output_type": "execute_result"
    }
   ],
   "source": [
    "num_col=df.select_dtypes(include=['int64','int32','float'])\n",
    "num_col"
   ]
  },
  {
   "cell_type": "code",
   "execution_count": 52,
   "metadata": {},
   "outputs": [
    {
     "data": {
      "text/html": [
       "<div>\n",
       "<style scoped>\n",
       "    .dataframe tbody tr th:only-of-type {\n",
       "        vertical-align: middle;\n",
       "    }\n",
       "\n",
       "    .dataframe tbody tr th {\n",
       "        vertical-align: top;\n",
       "    }\n",
       "\n",
       "    .dataframe thead th {\n",
       "        text-align: right;\n",
       "    }\n",
       "</style>\n",
       "<table border=\"1\" class=\"dataframe\">\n",
       "  <thead>\n",
       "    <tr style=\"text-align: right;\">\n",
       "      <th></th>\n",
       "      <th>sex</th>\n",
       "      <th>medication</th>\n",
       "    </tr>\n",
       "  </thead>\n",
       "  <tbody>\n",
       "    <tr>\n",
       "      <td>0</td>\n",
       "      <td>F</td>\n",
       "      <td>Anticonvulsant</td>\n",
       "    </tr>\n",
       "    <tr>\n",
       "      <td>2</td>\n",
       "      <td>M</td>\n",
       "      <td>No medication</td>\n",
       "    </tr>\n",
       "    <tr>\n",
       "      <td>3</td>\n",
       "      <td>F</td>\n",
       "      <td>No medication</td>\n",
       "    </tr>\n",
       "    <tr>\n",
       "      <td>4</td>\n",
       "      <td>M</td>\n",
       "      <td>No medication</td>\n",
       "    </tr>\n",
       "    <tr>\n",
       "      <td>5</td>\n",
       "      <td>M</td>\n",
       "      <td>No medication</td>\n",
       "    </tr>\n",
       "    <tr>\n",
       "      <td>...</td>\n",
       "      <td>...</td>\n",
       "      <td>...</td>\n",
       "    </tr>\n",
       "    <tr>\n",
       "      <td>163</td>\n",
       "      <td>M</td>\n",
       "      <td>No medication</td>\n",
       "    </tr>\n",
       "    <tr>\n",
       "      <td>165</td>\n",
       "      <td>F</td>\n",
       "      <td>No medication</td>\n",
       "    </tr>\n",
       "    <tr>\n",
       "      <td>166</td>\n",
       "      <td>M</td>\n",
       "      <td>No medication</td>\n",
       "    </tr>\n",
       "    <tr>\n",
       "      <td>167</td>\n",
       "      <td>M</td>\n",
       "      <td>No medication</td>\n",
       "    </tr>\n",
       "    <tr>\n",
       "      <td>168</td>\n",
       "      <td>F</td>\n",
       "      <td>No medication</td>\n",
       "    </tr>\n",
       "  </tbody>\n",
       "</table>\n",
       "<p>154 rows × 2 columns</p>\n",
       "</div>"
      ],
      "text/plain": [
       "    sex      medication\n",
       "0     F  Anticonvulsant\n",
       "2     M   No medication\n",
       "3     F   No medication\n",
       "4     M   No medication\n",
       "5     M   No medication\n",
       "..   ..             ...\n",
       "163   M   No medication\n",
       "165   F   No medication\n",
       "166   M   No medication\n",
       "167   M   No medication\n",
       "168   F   No medication\n",
       "\n",
       "[154 rows x 2 columns]"
      ]
     },
     "execution_count": 52,
     "metadata": {},
     "output_type": "execute_result"
    }
   ],
   "source": [
    "cat_col=df.select_dtypes(include='O')\n",
    "cat_col"
   ]
  },
  {
   "cell_type": "markdown",
   "metadata": {},
   "source": [
    "### Converting object sex from male to 1 and 0 for female "
   ]
  },
  {
   "cell_type": "code",
   "execution_count": 53,
   "metadata": {},
   "outputs": [],
   "source": [
    "df['sex']=df['sex'].map({'M':1,'F':0})"
   ]
  },
  {
   "cell_type": "code",
   "execution_count": 54,
   "metadata": {},
   "outputs": [
    {
     "data": {
      "text/html": [
       "<div>\n",
       "<style scoped>\n",
       "    .dataframe tbody tr th:only-of-type {\n",
       "        vertical-align: middle;\n",
       "    }\n",
       "\n",
       "    .dataframe tbody tr th {\n",
       "        vertical-align: top;\n",
       "    }\n",
       "\n",
       "    .dataframe thead th {\n",
       "        text-align: right;\n",
       "    }\n",
       "</style>\n",
       "<table border=\"1\" class=\"dataframe\">\n",
       "  <thead>\n",
       "    <tr style=\"text-align: right;\">\n",
       "      <th></th>\n",
       "      <th>age</th>\n",
       "      <th>sex</th>\n",
       "      <th>fracture</th>\n",
       "      <th>weight_kg</th>\n",
       "      <th>height_cm</th>\n",
       "      <th>waiting_time</th>\n",
       "      <th>bmd</th>\n",
       "    </tr>\n",
       "  </thead>\n",
       "  <tbody>\n",
       "    <tr>\n",
       "      <td>0</td>\n",
       "      <td>57</td>\n",
       "      <td>0</td>\n",
       "      <td>0</td>\n",
       "      <td>64.0</td>\n",
       "      <td>155.5</td>\n",
       "      <td>18</td>\n",
       "      <td>0.8793</td>\n",
       "    </tr>\n",
       "    <tr>\n",
       "      <td>2</td>\n",
       "      <td>70</td>\n",
       "      <td>1</td>\n",
       "      <td>0</td>\n",
       "      <td>73.0</td>\n",
       "      <td>170.5</td>\n",
       "      <td>10</td>\n",
       "      <td>0.9067</td>\n",
       "    </tr>\n",
       "    <tr>\n",
       "      <td>3</td>\n",
       "      <td>78</td>\n",
       "      <td>0</td>\n",
       "      <td>0</td>\n",
       "      <td>60.0</td>\n",
       "      <td>148.0</td>\n",
       "      <td>14</td>\n",
       "      <td>0.7112</td>\n",
       "    </tr>\n",
       "    <tr>\n",
       "      <td>4</td>\n",
       "      <td>54</td>\n",
       "      <td>1</td>\n",
       "      <td>0</td>\n",
       "      <td>55.0</td>\n",
       "      <td>161.0</td>\n",
       "      <td>20</td>\n",
       "      <td>0.7909</td>\n",
       "    </tr>\n",
       "    <tr>\n",
       "      <td>5</td>\n",
       "      <td>77</td>\n",
       "      <td>1</td>\n",
       "      <td>0</td>\n",
       "      <td>65.0</td>\n",
       "      <td>168.0</td>\n",
       "      <td>7</td>\n",
       "      <td>0.7301</td>\n",
       "    </tr>\n",
       "    <tr>\n",
       "      <td>...</td>\n",
       "      <td>...</td>\n",
       "      <td>...</td>\n",
       "      <td>...</td>\n",
       "      <td>...</td>\n",
       "      <td>...</td>\n",
       "      <td>...</td>\n",
       "      <td>...</td>\n",
       "    </tr>\n",
       "    <tr>\n",
       "      <td>163</td>\n",
       "      <td>67</td>\n",
       "      <td>1</td>\n",
       "      <td>1</td>\n",
       "      <td>80.0</td>\n",
       "      <td>172.0</td>\n",
       "      <td>8</td>\n",
       "      <td>0.7745</td>\n",
       "    </tr>\n",
       "    <tr>\n",
       "      <td>165</td>\n",
       "      <td>50</td>\n",
       "      <td>0</td>\n",
       "      <td>1</td>\n",
       "      <td>59.0</td>\n",
       "      <td>161.0</td>\n",
       "      <td>6</td>\n",
       "      <td>0.7971</td>\n",
       "    </tr>\n",
       "    <tr>\n",
       "      <td>166</td>\n",
       "      <td>46</td>\n",
       "      <td>1</td>\n",
       "      <td>1</td>\n",
       "      <td>67.0</td>\n",
       "      <td>169.0</td>\n",
       "      <td>10</td>\n",
       "      <td>0.8037</td>\n",
       "    </tr>\n",
       "    <tr>\n",
       "      <td>167</td>\n",
       "      <td>54</td>\n",
       "      <td>1</td>\n",
       "      <td>1</td>\n",
       "      <td>70.0</td>\n",
       "      <td>166.0</td>\n",
       "      <td>14</td>\n",
       "      <td>0.8072</td>\n",
       "    </tr>\n",
       "    <tr>\n",
       "      <td>168</td>\n",
       "      <td>69</td>\n",
       "      <td>0</td>\n",
       "      <td>1</td>\n",
       "      <td>68.5</td>\n",
       "      <td>165.0</td>\n",
       "      <td>25</td>\n",
       "      <td>0.8664</td>\n",
       "    </tr>\n",
       "  </tbody>\n",
       "</table>\n",
       "<p>154 rows × 7 columns</p>\n",
       "</div>"
      ],
      "text/plain": [
       "     age  sex  fracture  weight_kg  height_cm  waiting_time     bmd\n",
       "0     57    0         0       64.0      155.5            18  0.8793\n",
       "2     70    1         0       73.0      170.5            10  0.9067\n",
       "3     78    0         0       60.0      148.0            14  0.7112\n",
       "4     54    1         0       55.0      161.0            20  0.7909\n",
       "5     77    1         0       65.0      168.0             7  0.7301\n",
       "..   ...  ...       ...        ...        ...           ...     ...\n",
       "163   67    1         1       80.0      172.0             8  0.7745\n",
       "165   50    0         1       59.0      161.0             6  0.7971\n",
       "166   46    1         1       67.0      169.0            10  0.8037\n",
       "167   54    1         1       70.0      166.0            14  0.8072\n",
       "168   69    0         1       68.5      165.0            25  0.8664\n",
       "\n",
       "[154 rows x 7 columns]"
      ]
     },
     "execution_count": 54,
     "metadata": {},
     "output_type": "execute_result"
    }
   ],
   "source": [
    "num_col=df.select_dtypes(include=['int64','int32','float'])\n",
    "num_col"
   ]
  },
  {
   "cell_type": "code",
   "execution_count": 55,
   "metadata": {},
   "outputs": [
    {
     "data": {
      "text/html": [
       "<div>\n",
       "<style scoped>\n",
       "    .dataframe tbody tr th:only-of-type {\n",
       "        vertical-align: middle;\n",
       "    }\n",
       "\n",
       "    .dataframe tbody tr th {\n",
       "        vertical-align: top;\n",
       "    }\n",
       "\n",
       "    .dataframe thead th {\n",
       "        text-align: right;\n",
       "    }\n",
       "</style>\n",
       "<table border=\"1\" class=\"dataframe\">\n",
       "  <thead>\n",
       "    <tr style=\"text-align: right;\">\n",
       "      <th></th>\n",
       "      <th>medication</th>\n",
       "    </tr>\n",
       "  </thead>\n",
       "  <tbody>\n",
       "    <tr>\n",
       "      <td>0</td>\n",
       "      <td>Anticonvulsant</td>\n",
       "    </tr>\n",
       "    <tr>\n",
       "      <td>2</td>\n",
       "      <td>No medication</td>\n",
       "    </tr>\n",
       "    <tr>\n",
       "      <td>3</td>\n",
       "      <td>No medication</td>\n",
       "    </tr>\n",
       "    <tr>\n",
       "      <td>4</td>\n",
       "      <td>No medication</td>\n",
       "    </tr>\n",
       "    <tr>\n",
       "      <td>5</td>\n",
       "      <td>No medication</td>\n",
       "    </tr>\n",
       "    <tr>\n",
       "      <td>...</td>\n",
       "      <td>...</td>\n",
       "    </tr>\n",
       "    <tr>\n",
       "      <td>163</td>\n",
       "      <td>No medication</td>\n",
       "    </tr>\n",
       "    <tr>\n",
       "      <td>165</td>\n",
       "      <td>No medication</td>\n",
       "    </tr>\n",
       "    <tr>\n",
       "      <td>166</td>\n",
       "      <td>No medication</td>\n",
       "    </tr>\n",
       "    <tr>\n",
       "      <td>167</td>\n",
       "      <td>No medication</td>\n",
       "    </tr>\n",
       "    <tr>\n",
       "      <td>168</td>\n",
       "      <td>No medication</td>\n",
       "    </tr>\n",
       "  </tbody>\n",
       "</table>\n",
       "<p>154 rows × 1 columns</p>\n",
       "</div>"
      ],
      "text/plain": [
       "         medication\n",
       "0    Anticonvulsant\n",
       "2     No medication\n",
       "3     No medication\n",
       "4     No medication\n",
       "5     No medication\n",
       "..              ...\n",
       "163   No medication\n",
       "165   No medication\n",
       "166   No medication\n",
       "167   No medication\n",
       "168   No medication\n",
       "\n",
       "[154 rows x 1 columns]"
      ]
     },
     "execution_count": 55,
     "metadata": {},
     "output_type": "execute_result"
    }
   ],
   "source": [
    "cat_col=df.select_dtypes(include='O')\n",
    "cat_col"
   ]
  },
  {
   "cell_type": "markdown",
   "metadata": {},
   "source": [
    "### Encoding Techniques"
   ]
  },
  {
   "cell_type": "code",
   "execution_count": 56,
   "metadata": {},
   "outputs": [],
   "source": [
    "from sklearn.preprocessing import LabelEncoder"
   ]
  },
  {
   "cell_type": "code",
   "execution_count": 57,
   "metadata": {},
   "outputs": [],
   "source": [
    "le=LabelEncoder()"
   ]
  },
  {
   "cell_type": "code",
   "execution_count": 58,
   "metadata": {},
   "outputs": [],
   "source": [
    "df['medication']=LabelEncoder().fit_transform(df['medication'])"
   ]
  },
  {
   "cell_type": "markdown",
   "metadata": {},
   "source": [
    "### Taking Independent variable ,feature(X)"
   ]
  },
  {
   "cell_type": "code",
   "execution_count": 59,
   "metadata": {},
   "outputs": [
    {
     "data": {
      "text/html": [
       "<div>\n",
       "<style scoped>\n",
       "    .dataframe tbody tr th:only-of-type {\n",
       "        vertical-align: middle;\n",
       "    }\n",
       "\n",
       "    .dataframe tbody tr th {\n",
       "        vertical-align: top;\n",
       "    }\n",
       "\n",
       "    .dataframe thead th {\n",
       "        text-align: right;\n",
       "    }\n",
       "</style>\n",
       "<table border=\"1\" class=\"dataframe\">\n",
       "  <thead>\n",
       "    <tr style=\"text-align: right;\">\n",
       "      <th></th>\n",
       "      <th>age</th>\n",
       "      <th>sex</th>\n",
       "      <th>weight_kg</th>\n",
       "      <th>height_cm</th>\n",
       "      <th>medication</th>\n",
       "      <th>waiting_time</th>\n",
       "      <th>bmd</th>\n",
       "    </tr>\n",
       "  </thead>\n",
       "  <tbody>\n",
       "    <tr>\n",
       "      <td>0</td>\n",
       "      <td>57</td>\n",
       "      <td>0</td>\n",
       "      <td>64.0</td>\n",
       "      <td>155.5</td>\n",
       "      <td>0</td>\n",
       "      <td>18</td>\n",
       "      <td>0.8793</td>\n",
       "    </tr>\n",
       "    <tr>\n",
       "      <td>2</td>\n",
       "      <td>70</td>\n",
       "      <td>1</td>\n",
       "      <td>73.0</td>\n",
       "      <td>170.5</td>\n",
       "      <td>2</td>\n",
       "      <td>10</td>\n",
       "      <td>0.9067</td>\n",
       "    </tr>\n",
       "    <tr>\n",
       "      <td>3</td>\n",
       "      <td>78</td>\n",
       "      <td>0</td>\n",
       "      <td>60.0</td>\n",
       "      <td>148.0</td>\n",
       "      <td>2</td>\n",
       "      <td>14</td>\n",
       "      <td>0.7112</td>\n",
       "    </tr>\n",
       "    <tr>\n",
       "      <td>4</td>\n",
       "      <td>54</td>\n",
       "      <td>1</td>\n",
       "      <td>55.0</td>\n",
       "      <td>161.0</td>\n",
       "      <td>2</td>\n",
       "      <td>20</td>\n",
       "      <td>0.7909</td>\n",
       "    </tr>\n",
       "    <tr>\n",
       "      <td>5</td>\n",
       "      <td>77</td>\n",
       "      <td>1</td>\n",
       "      <td>65.0</td>\n",
       "      <td>168.0</td>\n",
       "      <td>2</td>\n",
       "      <td>7</td>\n",
       "      <td>0.7301</td>\n",
       "    </tr>\n",
       "    <tr>\n",
       "      <td>...</td>\n",
       "      <td>...</td>\n",
       "      <td>...</td>\n",
       "      <td>...</td>\n",
       "      <td>...</td>\n",
       "      <td>...</td>\n",
       "      <td>...</td>\n",
       "      <td>...</td>\n",
       "    </tr>\n",
       "    <tr>\n",
       "      <td>163</td>\n",
       "      <td>67</td>\n",
       "      <td>1</td>\n",
       "      <td>80.0</td>\n",
       "      <td>172.0</td>\n",
       "      <td>2</td>\n",
       "      <td>8</td>\n",
       "      <td>0.7745</td>\n",
       "    </tr>\n",
       "    <tr>\n",
       "      <td>165</td>\n",
       "      <td>50</td>\n",
       "      <td>0</td>\n",
       "      <td>59.0</td>\n",
       "      <td>161.0</td>\n",
       "      <td>2</td>\n",
       "      <td>6</td>\n",
       "      <td>0.7971</td>\n",
       "    </tr>\n",
       "    <tr>\n",
       "      <td>166</td>\n",
       "      <td>46</td>\n",
       "      <td>1</td>\n",
       "      <td>67.0</td>\n",
       "      <td>169.0</td>\n",
       "      <td>2</td>\n",
       "      <td>10</td>\n",
       "      <td>0.8037</td>\n",
       "    </tr>\n",
       "    <tr>\n",
       "      <td>167</td>\n",
       "      <td>54</td>\n",
       "      <td>1</td>\n",
       "      <td>70.0</td>\n",
       "      <td>166.0</td>\n",
       "      <td>2</td>\n",
       "      <td>14</td>\n",
       "      <td>0.8072</td>\n",
       "    </tr>\n",
       "    <tr>\n",
       "      <td>168</td>\n",
       "      <td>69</td>\n",
       "      <td>0</td>\n",
       "      <td>68.5</td>\n",
       "      <td>165.0</td>\n",
       "      <td>2</td>\n",
       "      <td>25</td>\n",
       "      <td>0.8664</td>\n",
       "    </tr>\n",
       "  </tbody>\n",
       "</table>\n",
       "<p>154 rows × 7 columns</p>\n",
       "</div>"
      ],
      "text/plain": [
       "     age  sex  weight_kg  height_cm  medication  waiting_time     bmd\n",
       "0     57    0       64.0      155.5           0            18  0.8793\n",
       "2     70    1       73.0      170.5           2            10  0.9067\n",
       "3     78    0       60.0      148.0           2            14  0.7112\n",
       "4     54    1       55.0      161.0           2            20  0.7909\n",
       "5     77    1       65.0      168.0           2             7  0.7301\n",
       "..   ...  ...        ...        ...         ...           ...     ...\n",
       "163   67    1       80.0      172.0           2             8  0.7745\n",
       "165   50    0       59.0      161.0           2             6  0.7971\n",
       "166   46    1       67.0      169.0           2            10  0.8037\n",
       "167   54    1       70.0      166.0           2            14  0.8072\n",
       "168   69    0       68.5      165.0           2            25  0.8664\n",
       "\n",
       "[154 rows x 7 columns]"
      ]
     },
     "execution_count": 59,
     "metadata": {},
     "output_type": "execute_result"
    }
   ],
   "source": [
    "X=df.drop('fracture',axis=1)\n",
    "X"
   ]
  },
  {
   "cell_type": "markdown",
   "metadata": {},
   "source": [
    "### Taking target variable(y)"
   ]
  },
  {
   "cell_type": "code",
   "execution_count": 60,
   "metadata": {},
   "outputs": [
    {
     "data": {
      "text/plain": [
       "0      0\n",
       "2      0\n",
       "3      0\n",
       "4      0\n",
       "5      0\n",
       "      ..\n",
       "163    1\n",
       "165    1\n",
       "166    1\n",
       "167    1\n",
       "168    1\n",
       "Name: fracture, Length: 154, dtype: int64"
      ]
     },
     "execution_count": 60,
     "metadata": {},
     "output_type": "execute_result"
    }
   ],
   "source": [
    "y=df['fracture']\n",
    "y"
   ]
  },
  {
   "cell_type": "markdown",
   "metadata": {},
   "source": [
    "### Performing train test split on X and y"
   ]
  },
  {
   "cell_type": "code",
   "execution_count": 61,
   "metadata": {},
   "outputs": [],
   "source": [
    "from sklearn.model_selection import train_test_split"
   ]
  },
  {
   "cell_type": "code",
   "execution_count": 62,
   "metadata": {},
   "outputs": [],
   "source": [
    "X_train,X_test,y_train,y_test=train_test_split(X,y,test_size=0.20,random_state=123)"
   ]
  },
  {
   "cell_type": "code",
   "execution_count": 63,
   "metadata": {},
   "outputs": [
    {
     "data": {
      "text/plain": [
       "(123, 7)"
      ]
     },
     "execution_count": 63,
     "metadata": {},
     "output_type": "execute_result"
    }
   ],
   "source": [
    "X_train.shape"
   ]
  },
  {
   "cell_type": "code",
   "execution_count": 64,
   "metadata": {},
   "outputs": [
    {
     "data": {
      "text/plain": [
       "(31, 7)"
      ]
     },
     "execution_count": 64,
     "metadata": {},
     "output_type": "execute_result"
    }
   ],
   "source": [
    "X_test.shape"
   ]
  },
  {
   "cell_type": "code",
   "execution_count": 65,
   "metadata": {},
   "outputs": [
    {
     "data": {
      "text/plain": [
       "(123,)"
      ]
     },
     "execution_count": 65,
     "metadata": {},
     "output_type": "execute_result"
    }
   ],
   "source": [
    "y_train.shape"
   ]
  },
  {
   "cell_type": "code",
   "execution_count": 66,
   "metadata": {},
   "outputs": [
    {
     "data": {
      "text/plain": [
       "(31,)"
      ]
     },
     "execution_count": 66,
     "metadata": {},
     "output_type": "execute_result"
    }
   ],
   "source": [
    "y_test.shape"
   ]
  },
  {
   "cell_type": "markdown",
   "metadata": {},
   "source": [
    "### Feature Scaling"
   ]
  },
  {
   "cell_type": "code",
   "execution_count": 67,
   "metadata": {},
   "outputs": [],
   "source": [
    "from sklearn.preprocessing import StandardScaler"
   ]
  },
  {
   "cell_type": "code",
   "execution_count": 68,
   "metadata": {},
   "outputs": [],
   "source": [
    "sc=StandardScaler()\n",
    "X_train=sc.fit_transform(X_train)\n",
    "X_test=sc.transform(X_test)"
   ]
  },
  {
   "cell_type": "code",
   "execution_count": 69,
   "metadata": {},
   "outputs": [
    {
     "data": {
      "text/plain": [
       "array([[-0.69132784, -1.04151129,  0.33704896, -0.10161765,  0.48307734,\n",
       "        -0.85601045,  0.60360372],\n",
       "       [ 1.25470844,  0.96014322, -0.0169064 ,  0.90332474,  0.48307734,\n",
       "        -0.96344849, -0.41316119],\n",
       "       [ 0.57782625, -1.04151129,  1.13344854, -0.35285325,  0.48307734,\n",
       "         2.47456898, -0.2222665 ],\n",
       "       [-0.09905593, -1.04151129, -0.90179483,  0.14961795,  0.48307734,\n",
       "         1.93737875, -0.69514902],\n",
       "       [-1.19898948,  0.96014322,  2.7262477 ,  1.02894253,  0.48307734,\n",
       "         1.8299407 ,  0.72148948],\n",
       "       [-1.62204084,  0.96014322,  0.86798202,  0.52647134, -1.37375119,\n",
       "         0.00349392,  1.52726472],\n",
       "       [-0.43749702, -1.04151129, -0.10539525, -0.66689774, -3.23057973,\n",
       "         0.21837001,  0.58618871],\n",
       "       [ 0.32399544, -1.04151129, -0.19388409, -0.22723545,  0.48307734,\n",
       "        -0.64113436, -0.07557916],\n",
       "       [ 2.0162009 ,  0.96014322, -0.99028367,  1.15456033, -3.23057973,\n",
       "         1.40018852, -0.9530242 ],\n",
       "       [-1.53743057,  0.96014322,  0.16007128,  1.40579593,  0.48307734,\n",
       "        -1.07088654,  0.73153663],\n",
       "       [ 0.57782625, -1.04151129,  0.29280454,  0.52647134,  0.48307734,\n",
       "         0.97043633,  0.4997838 ],\n",
       "       [-0.52210729,  0.96014322,  1.0449597 , -0.22723545,  0.48307734,\n",
       "         1.07787438,  1.45894523],\n",
       "       [ 0.57782625, -1.04151129,  0.60251549, -0.85532444,  0.48307734,\n",
       "        -0.53369631, -0.03807019],\n",
       "       [-0.86054839,  0.96014322,  0.51402665,  0.52647134,  0.48307734,\n",
       "         0.54068415,  0.57480208],\n",
       "       [-0.35288675, -1.04151129, -1.2557502 , -1.29498673, -3.23057973,\n",
       "        -0.7485724 , -1.35222819],\n",
       "       [ 0.57782625,  0.96014322,  1.31042623,  0.40085354,  0.48307734,\n",
       "         0.54068415,  1.41540788],\n",
       "       [ 0.40860571, -1.04151129, -0.28237293, -0.22723545,  0.48307734,\n",
       "         1.50762656,  1.51253034],\n",
       "       [ 0.40860571,  0.96014322, -2.3176163 , -0.22723545,  0.48307734,\n",
       "         0.32580806, -1.61010336],\n",
       "       [ 0.40860571,  0.96014322,  1.31042623,  1.40579593,  0.48307734,\n",
       "        -0.85601045, -0.11576736],\n",
       "       [-2.29892303,  0.96014322,  1.22193739,  0.96613364,  0.48307734,\n",
       "         1.8299407 , -0.01529661],\n",
       "       [ 1.93159062, -1.04151129, -2.14063862, -2.36273802,  0.48307734,\n",
       "        -0.96344849, -1.0106274 ],\n",
       "       [ 0.49321598, -1.04151129, -0.6363283 , -0.98094224,  0.48307734,\n",
       "        -0.85601045, -1.21558801],\n",
       "       [-1.28359975, -1.04151129, -1.60970557, -1.54622233, -1.37375119,\n",
       "         0.6481222 , -0.95235426],\n",
       "       [-1.36821002,  0.96014322,  0.69100433,  1.28017813,  0.48307734,\n",
       "         2.25969288,  0.71278181],\n",
       "       [ 0.32399544, -1.04151129, -0.45935062, -0.98094224,  0.48307734,\n",
       "         0.21837001,  1.14681589],\n",
       "       [ 0.83165707, -1.04151129,  1.39891507, -1.42060453, -1.37375119,\n",
       "        -0.7485724 , -1.89410095],\n",
       "       [ 0.66243653,  0.96014322,  0.24856012,  0.77770694,  0.48307734,\n",
       "        -1.17832458,  1.66658426],\n",
       "       [-1.4528203 ,  0.96014322, -0.28237293,  1.02894253,  0.48307734,\n",
       "        -0.42625826,  0.06508019],\n",
       "       [-0.1836662 ,  0.96014322,  2.54927002,  0.65208914,  0.48307734,\n",
       "         0.21837001,  1.80791388],\n",
       "       [ 0.15477489, -1.04151129, -0.45935062,  0.52647134,  0.48307734,\n",
       "        -0.53369631, -0.09098482],\n",
       "       [-0.09905593, -1.04151129,  0.24856012, -0.22723545,  0.48307734,\n",
       "        -0.96344849,  0.81794153],\n",
       "       [-0.35288675,  0.96014322,  2.28380349,  1.90826712,  0.48307734,\n",
       "         0.86299829,  2.28883421],\n",
       "       [ 0.32399544,  0.96014322,  0.86798202,  0.65208914,  0.48307734,\n",
       "        -0.64113436, -0.10706002],\n",
       "       [ 1.76237008,  0.96014322, -0.81330598,  0.90332474,  0.48307734,\n",
       "        -0.96344849, -1.02469331],\n",
       "       [-0.86054839,  0.96014322, -0.10539525,  0.90332474,  0.48307734,\n",
       "        -0.64113436, -1.15932415],\n",
       "       [-0.1836662 , -1.04151129, -0.90179483, -0.91813334, -1.37375119,\n",
       "         0.6481222 ,  0.3075497 ],\n",
       "       [-0.1836662 , -1.04151129,  0.95647086, -0.72970664,  0.48307734,\n",
       "        -0.53369631,  1.23389066],\n",
       "       [-1.02976893, -1.04151129,  0.69100433,  0.08680905, -1.37375119,\n",
       "        -0.10394413,  0.48236879],\n",
       "       [-0.52210729, -1.04151129, -0.45935062, -0.22723545, -3.23057973,\n",
       "         2.58200702, -0.7862429 ],\n",
       "       [ 0.66243653, -1.04151129,  0.07158244, -1.23217783,  0.48307734,\n",
       "        -0.21138217, -0.99522214],\n",
       "       [ 1.42392898,  0.96014322,  0.95647086,  0.02400015,  0.48307734,\n",
       "        -0.21138217,  1.01687362],\n",
       "       [-1.79126139,  0.96014322, -1.78668325, -0.16442655,  0.48307734,\n",
       "        -1.07088654, -0.56386728],\n",
       "       [ 1.17009817,  0.96014322,  2.01833697,  0.77770694,  0.48307734,\n",
       "        -0.85601045,  1.40469099],\n",
       "       [-0.09905593, -1.04151129,  0.16007128, -1.48341343,  0.48307734,\n",
       "        -1.07088654,  0.06374037],\n",
       "       [ 1.25470844, -1.04151129, -0.37086177, -1.35779563,  0.48307734,\n",
       "        -0.96344849, -1.67373508],\n",
       "       [-1.02976893, -1.04151129, -0.54783946,  0.02400015,  0.48307734,\n",
       "        -1.07088654,  0.03560868],\n",
       "       [ 0.15477489,  0.96014322,  2.19531465,  1.78264932, -1.37375119,\n",
       "         1.29275047,  0.84808258],\n",
       "       [ 1.17009817, -1.04151129,  0.69100433, -0.66689774,  0.48307734,\n",
       "        -0.53369631, -1.026703  ],\n",
       "       [ 0.07016462, -1.04151129, -0.28237293,  0.58928024,  0.48307734,\n",
       "         1.29275047, -0.35756733],\n",
       "       [-0.01444566, -1.04151129,  1.75287044, -1.54622233, -1.37375119,\n",
       "        -0.96344849,  0.05436316],\n",
       "       [ 0.66243653, -1.04151129, -0.90179483,  0.14961795, -3.23057973,\n",
       "        -0.10394413, -1.1171266 ],\n",
       "       [ 0.7470468 ,  0.96014322, -0.28237293,  2.03388492,  0.48307734,\n",
       "        -1.07088654, -1.08564568],\n",
       "       [-0.77593811, -1.04151129, -2.22912746, -1.35779563, -1.37375119,\n",
       "         1.93737875, -1.56656601],\n",
       "       [-1.70665112, -1.04151129, -0.81330598, -1.23217783,  0.48307734,\n",
       "        -0.64113436,  0.64982036],\n",
       "       [ 0.66243653,  0.96014322,  0.69100433,  1.21736923,  0.48307734,\n",
       "        -0.64113436,  0.76971554],\n",
       "       [ 0.83165707,  0.96014322,  0.33704896,  0.40085354,  0.48307734,\n",
       "        -0.7485724 ,  1.38794592],\n",
       "       [ 0.07016462, -1.04151129, -0.19388409, -0.35285325,  0.48307734,\n",
       "         1.93737875, -0.55114091],\n",
       "       [-1.62204084,  0.96014322, -1.2557502 ,  0.14961795,  0.48307734,\n",
       "         0.75556024,  0.02824075],\n",
       "       [-0.43749702,  0.96014322,  0.16007128, -0.10161765, -1.37375119,\n",
       "        -1.17832458,  0.04029725],\n",
       "       [-1.11437921, -1.04151129, -0.54783946, -1.35779563,  0.48307734,\n",
       "        -0.7485724 , -0.40713274],\n",
       "       [ 0.23938516,  0.96014322,  0.16007128, -0.47847104,  0.48307734,\n",
       "        -1.17832458,  0.47165211],\n",
       "       [ 1.08548789,  0.96014322,  0.33704896,  1.59422263,  0.48307734,\n",
       "         0.6481222 ,  0.96864763],\n",
       "       [ 0.07016462,  0.96014322, -0.90179483,  0.40085354, -1.37375119,\n",
       "        -0.53369631, -0.3408222 ],\n",
       "       [ 1.50853926,  0.96014322,  1.22193739, -0.22723545, -1.37375119,\n",
       "        -0.64113436, -1.50159488],\n",
       "       [-1.11437921, -1.04151129, -1.69819441, -1.35779563,  0.48307734,\n",
       "         0.11093197, -0.38034052],\n",
       "       [ 0.07016462,  0.96014322, -0.10539525,  1.65703153,  0.48307734,\n",
       "         0.75556024, -0.68242299],\n",
       "       [-1.87587166,  0.96014322,  0.07158244,  0.52647134,  0.48307734,\n",
       "        -0.85601045,  1.65586804],\n",
       "       [-0.35288675, -1.04151129, -0.54783946, -0.85532444,  0.48307734,\n",
       "        -0.64113436,  0.38926597],\n",
       "       [ 0.07016462, -1.04151129, -0.81330598, -1.10656004, -1.37375119,\n",
       "        -0.96344849, -0.47076446],\n",
       "       [-0.94515866, -1.04151129,  0.2043157 , -0.85532444, -1.37375119,\n",
       "        -0.64113436,  0.88157279],\n",
       "       [ 0.91626735, -1.04151129,  0.24856012,  0.40085354,  0.48307734,\n",
       "        -1.17832458, -1.42322777],\n",
       "       [-1.36821002, -1.04151129, -0.81330598, -0.47847104,  0.48307734,\n",
       "         1.18531242, -0.38301974],\n",
       "       [-0.77593811,  0.96014322,  0.33704896,  0.33804464,  0.48307734,\n",
       "         1.72250265, -1.76750785],\n",
       "       [-1.96048194,  0.96014322,  0.95647086,  1.59422263,  0.48307734,\n",
       "        -1.07088654,  1.73088626],\n",
       "       [-0.69132784, -1.04151129, -0.28237293, -0.35285325,  0.48307734,\n",
       "        -0.85601045,  0.03225945],\n",
       "       [-0.52210729,  0.96014322,  0.51402665,  0.65208914,  0.48307734,\n",
       "        -0.10394413,  1.9566107 ],\n",
       "       [ 1.84698035,  0.96014322, -1.16726135,  0.02400015,  0.48307734,\n",
       "         1.72250265, -0.55783883],\n",
       "       [-0.69132784,  0.96014322, -0.90179483,  0.02400015,  0.48307734,\n",
       "         0.4332461 , -0.0059194 ],\n",
       "       [ 0.40860571, -1.04151129, -0.81330598, -1.35779563,  0.48307734,\n",
       "        -1.17832458,  0.90032727],\n",
       "       [-0.1836662 , -1.04151129,  0.42553781, -0.35285325, -1.37375119,\n",
       "        -0.85601045,  0.29750255],\n",
       "       [ 1.59314953, -1.04151129, -1.34423904, -1.42060453,  0.48307734,\n",
       "        -0.96344849, -1.60943349],\n",
       "       [-0.01444566,  0.96014322,  1.13344854,  0.02400015,  0.48307734,\n",
       "        -0.85601045,  0.72081961],\n",
       "       [-0.69132784,  0.96014322,  0.33704896,  0.90332474,  0.48307734,\n",
       "         0.4332461 ,  2.00349641],\n",
       "       [ 0.07016462,  0.96014322,  0.51402665,  0.02400015,  0.48307734,\n",
       "        -0.42625826,  1.63979271],\n",
       "       [-0.26827648,  0.96014322,  1.13344854,  1.78264932,  0.48307734,\n",
       "         1.40018852,  0.45222775],\n",
       "       [ 0.49321598, -1.04151129, -1.52121672,  0.02400015,  0.48307734,\n",
       "        -1.07088654, -0.55047138],\n",
       "       [-0.86054839, -1.04151129, -0.54783946, -1.29498673,  0.48307734,\n",
       "        -1.07088654, -0.40445352],\n",
       "       [-1.19898948,  0.96014322,  0.24856012, -0.10161765,  0.48307734,\n",
       "        -0.21138217,  1.20441916],\n",
       "       [-0.69132784, -1.04151129, -0.72481714,  0.58928024,  0.48307734,\n",
       "         1.40018852, -0.40646287],\n",
       "       [ 0.49321598, -1.04151129,  0.42553781, -0.85532444,  0.48307734,\n",
       "        -0.21138217,  0.31625704],\n",
       "       [-0.43749702,  0.96014322,  0.77949318,  1.90826712, -3.23057973,\n",
       "         1.40018852,  1.58687808],\n",
       "       [ 0.49321598,  0.96014322, -0.10539525,  0.77770694, -1.37375119,\n",
       "        -1.07088654, -0.68644169],\n",
       "       [ 2.18542144,  0.96014322, -0.6363283 , -0.98094224, -1.37375119,\n",
       "         0.32580806,  0.4220863 ],\n",
       "       [-0.94515866, -1.04151129, -0.99028367, -0.85532444,  0.48307734,\n",
       "        -0.31882022, -0.10906937],\n",
       "       [ 1.6777598 ,  0.96014322, -1.52121672, -0.35285325,  0.48307734,\n",
       "         0.54068415, -1.47145383],\n",
       "       [ 0.32399544,  0.96014322, -0.37086177,  0.96613364,  0.48307734,\n",
       "         0.11093197, -0.69380955],\n",
       "       [ 1.59314953,  0.96014322,  0.07158244,  0.65208914,  0.48307734,\n",
       "         0.75556024, -1.54245301],\n",
       "       [-1.36821002,  0.96014322,  0.16007128,  1.02894253,  0.48307734,\n",
       "        -0.64113436,  0.07981557],\n",
       "       [ 1.76237008,  0.96014322,  1.22193739,  0.27523575,  0.48307734,\n",
       "        -1.07088654,  0.34237938],\n",
       "       [-0.26827648,  0.96014322, -0.90179483,  0.27523575, -1.37375119,\n",
       "         0.75556024, -0.17270109],\n",
       "       [ 1.33931871, -1.04151129, -0.45935062, -1.60903123,  0.48307734,\n",
       "        -0.21138217, -0.53975429],\n",
       "       [ 1.00087762,  0.96014322, -0.45935062,  0.65208914,  0.48307734,\n",
       "         0.21837001, -1.05818352],\n",
       "       [ 0.66243653, -1.04151129,  1.22193739, -0.98094224,  0.48307734,\n",
       "        -0.21138217, -0.10170151],\n",
       "       [-0.60671757, -1.04151129, -0.54783946, -0.10161765,  0.48307734,\n",
       "        -1.07088654, -0.27317178],\n",
       "       [-0.94515866, -1.04151129,  0.24856012,  0.46366244,  0.48307734,\n",
       "         2.36713093, -0.67907383],\n",
       "       [-1.53743057,  0.96014322,  1.39891507,  2.03388492,  0.48307734,\n",
       "        -0.96344849,  1.27675815],\n",
       "       [-0.26827648,  0.96014322, -0.10539525,  1.15456033,  0.48307734,\n",
       "         0.4332461 , -0.45000022],\n",
       "       [ 1.59314953,  0.96014322, -0.99028367, -0.85532444, -1.37375119,\n",
       "        -0.42625826, -2.0762881 ],\n",
       "       [ 0.40860571,  0.96014322,  1.31042623,  1.15456033,  0.48307734,\n",
       "        -0.31882022,  1.48037901],\n",
       "       [-0.35288675,  0.96014322, -0.28237293,  1.15456033,  0.48307734,\n",
       "         0.86299829,  0.53729277],\n",
       "       [-0.52210729, -1.04151129,  0.24856012, -1.29498673,  0.48307734,\n",
       "         0.21837001, -0.50023563],\n",
       "       [-0.69132784,  0.96014322,  0.42553781,  0.65208914,  0.48307734,\n",
       "        -0.21138217,  0.10325903],\n",
       "       [ 0.57782625, -1.04151129, -0.81330598, -0.47847104,  0.48307734,\n",
       "        -0.10394413, -1.76348875],\n",
       "       [-0.86054839,  0.96014322,  1.0449597 ,  1.84545822,  0.48307734,\n",
       "         0.32580806,  0.64982036],\n",
       "       [-0.52210729, -1.04151129, -0.54783946,  0.40085354,  0.48307734,\n",
       "        -0.53369631, -0.38234987],\n",
       "       [ 1.17009817, -1.04151129, -1.16726135, -1.86026683, -1.37375119,\n",
       "         0.4332461 , -1.55049081],\n",
       "       [-0.52210729,  0.96014322, -0.06115083,  0.14961795, -1.37375119,\n",
       "        -0.7485724 , -0.48014167],\n",
       "       [ 0.57782625,  0.96014322,  1.0449597 ,  0.14961795,  0.48307734,\n",
       "         2.36713093,  0.39596389],\n",
       "       [-0.43749702, -1.04151129, -1.34423904, -1.10656004,  0.48307734,\n",
       "         0.54068415,  0.22516349],\n",
       "       [ 1.25470844, -1.04151129, -1.34423904, -1.10656004,  0.48307734,\n",
       "         0.86299829, -1.20286157],\n",
       "       [-0.26827648, -1.04151129,  1.48740391, -1.54622233,  0.48307734,\n",
       "        -0.31882022,  0.7489513 ],\n",
       "       [ 2.18542144,  0.96014322, -1.16726135, -1.16936894,  0.48307734,\n",
       "        -0.42625826, -1.14793759],\n",
       "       [ 0.32399544, -1.04151129, -0.28237293, -1.29498673,  0.48307734,\n",
       "        -1.17832458,  0.51117043]])"
      ]
     },
     "execution_count": 69,
     "metadata": {},
     "output_type": "execute_result"
    }
   ],
   "source": [
    "X_train"
   ]
  },
  {
   "cell_type": "code",
   "execution_count": 70,
   "metadata": {},
   "outputs": [
    {
     "data": {
      "text/plain": [
       "array([[-0.69132784,  0.96014322, -1.34423904,  1.02894253,  0.48307734,\n",
       "        -0.42625826, -0.5290372 ],\n",
       "       [-0.86054839, -1.04151129, -0.37086177, -0.85532444,  0.48307734,\n",
       "        -0.7485724 ,  1.19772117],\n",
       "       [ 1.93159062,  0.96014322, -0.72481714,  0.27523575,  0.48307734,\n",
       "         0.86299829, -1.21625788],\n",
       "       [ 1.25470844,  0.96014322,  0.33704896,  0.65208914, -1.37375119,\n",
       "        -0.7485724 ,  1.40804002],\n",
       "       [ 1.76237008, -1.04151129, -1.16726135, -0.60408884, -3.23057973,\n",
       "         0.4332461 , -2.23168284],\n",
       "       [-0.09905593, -1.04151129,  0.42553781, -1.10656004,  0.48307734,\n",
       "        -0.53369631,  0.45624645],\n",
       "       [ 1.76237008, -1.04151129, -1.2557502 , -1.35779563,  0.48307734,\n",
       "        -0.7485724 , -1.58264161],\n",
       "       [ 1.6777598 , -1.04151129,  0.77949318, -0.60408884,  0.48307734,\n",
       "         0.97043633,  0.16956964],\n",
       "       [-2.12970248,  0.96014322, -0.90179483, -0.60408884,  0.48307734,\n",
       "        -0.96344849, -0.69247014],\n",
       "       [ 0.57782625, -1.04151129,  1.75287044, -1.54622233,  0.48307734,\n",
       "         1.07787438, -1.10774939],\n",
       "       [-0.43749702, -1.04151129, -2.58308283, -1.10656004,  0.48307734,\n",
       "         2.04481679, -1.7574607 ],\n",
       "       [ 0.32399544,  0.96014322,  0.60251549, -0.16442655,  0.48307734,\n",
       "        -0.64113436,  1.03696792],\n",
       "       [ 0.49321598, -1.04151129, -1.52121672, -0.85532444,  0.48307734,\n",
       "        -0.31882022, -0.98450505],\n",
       "       [-0.69132784,  0.96014322,  1.22193739,  0.02400015,  0.48307734,\n",
       "         2.36713093, -1.49020825],\n",
       "       [-0.69132784, -1.04151129,  0.51402665,  0.52647134,  0.48307734,\n",
       "         0.11093197,  1.57281216],\n",
       "       [ 0.66243653,  0.96014322, -0.54783946,  0.77770694,  0.48307734,\n",
       "         0.54068415, -2.35157815],\n",
       "       [ 1.50853926,  0.96014322, -0.28237293,  0.21242685, -3.23057973,\n",
       "        -0.10394413, -0.8103559 ],\n",
       "       [-1.19898948, -1.04151129, -0.90179483, -0.16442655,  0.48307734,\n",
       "        -0.53369631, -0.67907383],\n",
       "       [ 0.32399544,  0.96014322,  0.95647086,  1.28017813,  0.48307734,\n",
       "        -0.31882022,  0.07713668],\n",
       "       [ 1.17009817, -1.04151129, -2.49459399, -1.10656004,  0.48307734,\n",
       "        -0.96344849, -1.52905703],\n",
       "       [ 0.66243653, -1.04151129, -0.54783946, -0.72970664,  0.48307734,\n",
       "         0.11093197,  0.10794767],\n",
       "       [-1.79126139,  0.96014322,  0.07158244, -0.10161765,  0.48307734,\n",
       "         0.75556024,  1.39665333],\n",
       "       [-0.1836662 ,  0.96014322,  0.42553781, -0.16442655,  0.48307734,\n",
       "        -0.85601045,  1.57214236],\n",
       "       [-0.35288675, -1.04151129,  0.77949318, -1.48341343,  0.48307734,\n",
       "         2.36713093,  0.26066311],\n",
       "       [ 0.91626735,  0.96014322,  0.86798202,  0.46366244, -1.37375119,\n",
       "        -0.85601045,  0.6103017 ],\n",
       "       [ 0.91626735,  0.96014322, -0.99028367,  0.65208914,  0.48307734,\n",
       "         1.61506461, -1.76214934],\n",
       "       [ 0.23938516, -1.04151129,  0.77949318, -1.98588462,  0.48307734,\n",
       "        -0.21138217, -0.12045593],\n",
       "       [-0.1836662 ,  0.96014322,  0.69100433,  0.71489804,  0.48307734,\n",
       "        -1.17832458,  0.30286106],\n",
       "       [-2.21431275,  0.96014322, -0.99028367,  1.78264932,  0.48307734,\n",
       "        -0.53369631,  0.4301241 ],\n",
       "       [ 1.59314953, -1.04151129,  1.13344854, -1.98588462,  0.48307734,\n",
       "         0.54068415,  0.76569644],\n",
       "       [ 1.25470844, -1.04151129, -1.52121672, -1.23217783,  0.48307734,\n",
       "         1.72250265, -1.58799971]])"
      ]
     },
     "execution_count": 70,
     "metadata": {},
     "output_type": "execute_result"
    }
   ],
   "source": [
    "X_test"
   ]
  },
  {
   "cell_type": "markdown",
   "metadata": {},
   "source": [
    "### model building"
   ]
  },
  {
   "cell_type": "code",
   "execution_count": 71,
   "metadata": {},
   "outputs": [],
   "source": [
    "from sklearn.linear_model import LogisticRegression"
   ]
  },
  {
   "cell_type": "code",
   "execution_count": 72,
   "metadata": {},
   "outputs": [],
   "source": [
    "reg=LogisticRegression()\n",
    "reg.fit(X_train,y_train)\n",
    "y_pred_train=reg.predict(X_train)\n",
    "y_pred_test=reg.predict(X_test)"
   ]
  },
  {
   "cell_type": "markdown",
   "metadata": {},
   "source": [
    "### Evaluation"
   ]
  },
  {
   "cell_type": "code",
   "execution_count": 73,
   "metadata": {},
   "outputs": [],
   "source": [
    "from sklearn.metrics import accuracy_score,confusion_matrix"
   ]
  },
  {
   "cell_type": "code",
   "execution_count": 74,
   "metadata": {},
   "outputs": [
    {
     "name": "stdout",
     "output_type": "stream",
     "text": [
      "Train Data\n",
      "[[87  6]\n",
      " [10 20]]\n",
      "Test Data\n",
      "[[16  1]\n",
      " [ 4 10]]\n"
     ]
    }
   ],
   "source": [
    "print('Train Data')\n",
    "print(confusion_matrix(y_train,y_pred_train))\n",
    "print('Test Data')\n",
    "print(confusion_matrix(y_test,y_pred_test))"
   ]
  },
  {
   "cell_type": "markdown",
   "metadata": {},
   "source": [
    "### Checking Accuracy"
   ]
  },
  {
   "cell_type": "code",
   "execution_count": 75,
   "metadata": {},
   "outputs": [
    {
     "name": "stdout",
     "output_type": "stream",
     "text": [
      "Train Data\n",
      "0.8699186991869918\n",
      "Test Data\n",
      "0.8387096774193549\n"
     ]
    }
   ],
   "source": [
    "print('Train Data')\n",
    "print(accuracy_score(y_train,y_pred_train))\n",
    "print('Test Data')\n",
    "print(accuracy_score(y_test,y_pred_test))"
   ]
  },
  {
   "cell_type": "markdown",
   "metadata": {},
   "source": [
    "# As,this dataset is imbalanced we can not be dependent on accuracy score as while prediction it will give us wrong prediction."
   ]
  },
  {
   "cell_type": "markdown",
   "metadata": {},
   "source": [
    "### Taking Probability"
   ]
  },
  {
   "cell_type": "code",
   "execution_count": 76,
   "metadata": {},
   "outputs": [
    {
     "data": {
      "text/plain": [
       "array([0.0363281 , 0.53768541, 0.25726278, 0.50473025, 0.05541545,\n",
       "       0.00486333, 0.00748705, 0.16607774, 0.56265389, 0.05897503,\n",
       "       0.11510171, 0.01927003, 0.12378209, 0.08967956, 0.14950295,\n",
       "       0.03319683, 0.02191884, 0.90260055, 0.30518036, 0.15358223,\n",
       "       0.57381829, 0.54161697, 0.17002445, 0.09727784, 0.02487284,\n",
       "       0.4687478 , 0.02444361, 0.17852163, 0.009855  , 0.21048637,\n",
       "       0.03120617, 0.0075624 , 0.27442494, 0.82720869, 0.65026181,\n",
       "       0.03913465, 0.01188398, 0.01748698, 0.12195841, 0.43321517,\n",
       "       0.07269338, 0.31803658, 0.03160677, 0.06935067, 0.73580927,\n",
       "       0.09515383, 0.04105043, 0.49081032, 0.35456594, 0.02045855,\n",
       "       0.22959499, 0.81495219, 0.52266851, 0.02155555, 0.1128903 ,\n",
       "       0.03831103, 0.37943973, 0.20307091, 0.06736582, 0.1247002 ,\n",
       "       0.09393563, 0.14525476, 0.22352089, 0.62530644, 0.17474936,\n",
       "       0.67034202, 0.00928409, 0.05848922, 0.10084769, 0.00704258,\n",
       "       0.70311262, 0.20132274, 0.85872203, 0.00872874, 0.09443453,\n",
       "       0.01042465, 0.75335018, 0.24528157, 0.02872021, 0.02658688,\n",
       "       0.78103341, 0.05756954, 0.01127975, 0.0170235 , 0.18942578,\n",
       "       0.39466803, 0.13127872, 0.02230404, 0.33274212, 0.07751904,\n",
       "       0.00584005, 0.33824735, 0.11665497, 0.11696668, 0.90966418,\n",
       "       0.63377702, 0.91487058, 0.15908995, 0.1929987 , 0.18782808,\n",
       "       0.32146262, 0.79631489, 0.12439827, 0.16645759, 0.39003002,\n",
       "       0.02294368, 0.49051427, 0.86703702, 0.03056501, 0.16959279,\n",
       "       0.17479925, 0.17623218, 0.81137115, 0.10194031, 0.24409619,\n",
       "       0.53560967, 0.17063214, 0.20426734, 0.09887017, 0.71123308,\n",
       "       0.01780909, 0.80866344, 0.04660188])"
      ]
     },
     "execution_count": 76,
     "metadata": {},
     "output_type": "execute_result"
    }
   ],
   "source": [
    "y_train_proba=reg.predict_proba(X_train)[:,1]\n",
    "y_train_proba"
   ]
  },
  {
   "cell_type": "code",
   "execution_count": 77,
   "metadata": {},
   "outputs": [
    {
     "data": {
      "text/plain": [
       "array([0.50671628, 0.01226798, 0.88692783, 0.01920948, 0.73055516,\n",
       "       0.04353067, 0.79150153, 0.17622212, 0.26345868, 0.40267328,\n",
       "       0.84070276, 0.04408077, 0.53517169, 0.7642937 , 0.01051195,\n",
       "       0.97061599, 0.27849956, 0.26696567, 0.2625698 , 0.79480113,\n",
       "       0.15151037, 0.01604761, 0.01528201, 0.07287653, 0.04940866,\n",
       "       0.94715935, 0.08995056, 0.13100996, 0.1154999 , 0.03958064,\n",
       "       0.8457074 ])"
      ]
     },
     "execution_count": 77,
     "metadata": {},
     "output_type": "execute_result"
    }
   ],
   "source": [
    "y_test_proba=reg.predict_proba(X_test)[:,1]\n",
    "y_test_proba"
   ]
  },
  {
   "cell_type": "markdown",
   "metadata": {},
   "source": [
    "### Classisication Report"
   ]
  },
  {
   "cell_type": "code",
   "execution_count": 78,
   "metadata": {},
   "outputs": [],
   "source": [
    "from sklearn.metrics import classification_report"
   ]
  },
  {
   "cell_type": "code",
   "execution_count": 79,
   "metadata": {},
   "outputs": [
    {
     "name": "stdout",
     "output_type": "stream",
     "text": [
      "Train Data\n",
      "              precision    recall  f1-score   support\n",
      "\n",
      "           0       0.90      0.94      0.92        93\n",
      "           1       0.77      0.67      0.71        30\n",
      "\n",
      "    accuracy                           0.87       123\n",
      "   macro avg       0.83      0.80      0.82       123\n",
      "weighted avg       0.87      0.87      0.87       123\n",
      "\n",
      "Test Data\n",
      "              precision    recall  f1-score   support\n",
      "\n",
      "           0       0.80      0.94      0.86        17\n",
      "           1       0.91      0.71      0.80        14\n",
      "\n",
      "    accuracy                           0.84        31\n",
      "   macro avg       0.85      0.83      0.83        31\n",
      "weighted avg       0.85      0.84      0.84        31\n",
      "\n"
     ]
    }
   ],
   "source": [
    "print('Train Data')\n",
    "print(classification_report(y_train,y_pred_train))\n",
    "print('Test Data')\n",
    "print(classification_report(y_test,y_pred_test))"
   ]
  },
  {
   "cell_type": "markdown",
   "metadata": {},
   "source": [
    "# As,this dataset is imbalanced we should check the f1-score accuracy average"
   ]
  },
  {
   "cell_type": "markdown",
   "metadata": {},
   "source": [
    "### PR Curve"
   ]
  },
  {
   "cell_type": "code",
   "execution_count": 80,
   "metadata": {},
   "outputs": [],
   "source": [
    "from sklearn.metrics import precision_recall_curve"
   ]
  },
  {
   "cell_type": "code",
   "execution_count": 81,
   "metadata": {},
   "outputs": [],
   "source": [
    "p,r,th=precision_recall_curve(y_train,y_train_proba)"
   ]
  },
  {
   "cell_type": "code",
   "execution_count": 82,
   "metadata": {},
   "outputs": [
    {
     "data": {
      "text/plain": [
       "(80,)"
      ]
     },
     "execution_count": 82,
     "metadata": {},
     "output_type": "execute_result"
    }
   ],
   "source": [
    "p.shape"
   ]
  },
  {
   "cell_type": "code",
   "execution_count": 83,
   "metadata": {},
   "outputs": [
    {
     "data": {
      "text/plain": [
       "(80,)"
      ]
     },
     "execution_count": 83,
     "metadata": {},
     "output_type": "execute_result"
    }
   ],
   "source": [
    "r.shape"
   ]
  },
  {
   "cell_type": "code",
   "execution_count": 84,
   "metadata": {},
   "outputs": [
    {
     "data": {
      "text/plain": [
       "(79,)"
      ]
     },
     "execution_count": 84,
     "metadata": {},
     "output_type": "execute_result"
    }
   ],
   "source": [
    "th.shape"
   ]
  },
  {
   "cell_type": "code",
   "execution_count": 85,
   "metadata": {},
   "outputs": [
    {
     "data": {
      "image/png": "[encoded data removed]",
      "text/plain": [
       "<Figure size 432x432 with 1 Axes>"
      ]
     },
     "metadata": {
      "needs_background": "light"
     },
     "output_type": "display_data"
    }
   ],
   "source": [
    "plt.figure(figsize=(6,6))\n",
    "sns.lineplot(x=th,y=p[:-1],label='precision')\n",
    "sns.lineplot(x=th,y=r[:-1],label='Recall')\n",
    "plt.title('Precision Recall Curve')\n",
    "plt.axvline(0.44)\n",
    "plt.show()"
   ]
  },
  {
   "cell_type": "markdown",
   "metadata": {},
   "source": [
    "### Checking accuracy,precision and recall"
   ]
  },
  {
   "cell_type": "code",
   "execution_count": 86,
   "metadata": {},
   "outputs": [],
   "source": [
    "from sklearn.metrics import accuracy_score,recall_score,precision_score,roc_auc_score,f1_score "
   ]
  },
  {
   "cell_type": "code",
   "execution_count": 89,
   "metadata": {},
   "outputs": [],
   "source": [
    "def metrics(y_actual,y_proba,th):\n",
    "    y_pred_temp=[1 if p>th else 0 for p in y_proba]\n",
    "    recall=recall_score(y_actual,y_pred_temp)\n",
    "    f1=f1_score(y_actual,y_pred_temp)\n",
    "    roc_auc=roc_auc_score(y_actual,y_pred_temp)\n",
    "    return {'Recall':round(recall,2),'F1_Score':round(f1,2),'ROC_AUC':round(roc_auc,2)}"
   ]
  },
  {
   "cell_type": "code",
   "execution_count": 90,
   "metadata": {},
   "outputs": [
    {
     "name": "stdout",
     "output_type": "stream",
     "text": [
      "Train Data\n",
      "{'Recall': 0.73, 'F1_Score': 0.75, 'ROC_AUC': 0.83}\n",
      "Test Data\n",
      "{'Recall': 0.71, 'F1_Score': 0.8, 'ROC_AUC': 0.83}\n"
     ]
    }
   ],
   "source": [
    "print(\"Train Data\")\n",
    "print(metrics(y_train,y_train_proba,0.44))\n",
    "print(\"Test Data\")\n",
    "print(metrics(y_test,y_test_proba,0.44))"
   ]
  },
  {
   "cell_type": "markdown",
   "metadata": {},
   "source": [
    "### Plotting ROC-AUC Curve"
   ]
  },
  {
   "cell_type": "code",
   "execution_count": 91,
   "metadata": {},
   "outputs": [],
   "source": [
    "from sklearn.metrics import roc_curve,auc"
   ]
  },
  {
   "cell_type": "code",
   "execution_count": 92,
   "metadata": {},
   "outputs": [],
   "source": [
    "fpr,tpr,th=roc_curve(y_train,y_train_proba)"
   ]
  },
  {
   "cell_type": "code",
   "execution_count": 93,
   "metadata": {},
   "outputs": [
    {
     "data": {
      "image/png": "[encoded data removed]",
      "text/plain": [
       "<Figure size 432x432 with 1 Axes>"
      ]
     },
     "metadata": {
      "needs_background": "light"
     },
     "output_type": "display_data"
    }
   ],
   "source": [
    "plt.figure(figsize=(6,6))\n",
    "sns.lineplot(x=fpr,y=tpr)\n",
    "sns.lineplot(x=[0.0,1],y=[0.0,1],color='red',linestyle='--')\n",
    "plt.xlabel(\"FPR\")\n",
    "plt.ylabel(\"TPR\")\n",
    "plt.title('ROC AUC Curve')\n",
    "plt.show()"
   ]
  },
  {
   "cell_type": "code",
   "execution_count": null,
   "metadata": {},
   "outputs": [],
   "source": [
    "print(\"Train Data\")\n",
    "print(metrics(y_train,y_train_proba,0.44))\n",
    "print(\"Test Data\")\n",
    "print(metrics(y_test,y_test_proba,0.44))"
   ]
  },
  {
   "cell_type": "code",
   "execution_count": null,
   "metadata": {},
   "outputs": [],
   "source": []
  },
  {
   "cell_type": "markdown",
   "metadata": {},
   "source": [
    "### As,our data is imbalanced we can not rely on accuracy_score as it works perfectly only when data is balanced."
   ]
  },
  {
   "cell_type": "markdown",
   "metadata": {},
   "source": [
    "## 1)f1_score also works when we have imbalanced dataset, so we need to use f1_score."
   ]
  },
  {
   "cell_type": "markdown",
   "metadata": {},
   "source": [
    "## 2)ROC-AUC curve is needed to increase or decrease threshold be use ROC-AUC curve."
   ]
  },
  {
   "cell_type": "markdown",
   "metadata": {},
   "source": [
    "## 3)PR curve is needed to find threshold we need PR curve."
   ]
  },
  {
   "cell_type": "markdown",
   "metadata": {},
   "source": [
    "## 4)Recall is needed to decrease false negative rate."
   ]
  }
 ],
 "metadata": {
  "kernelspec": {
   "display_name": "Python 3",
   "language": "python",
   "name": "python3"
  },
  "language_info": {
   "codemirror_mode": {
    "name": "ipython",
    "version": 3
   },
   "file_extension": ".py",
   "mimetype": "text/x-python",
   "name": "python",
   "nbconvert_exporter": "python",
   "pygments_lexer": "ipython3",
   "version": "3.7.4"
  }
 },
 "nbformat": 4,
 "nbformat_minor": 2
}
